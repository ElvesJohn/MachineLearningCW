{
  "nbformat": 4,
  "nbformat_minor": 0,
  "metadata": {
    "colab": {
      "provenance": [],
      "authorship_tag": "ABX9TyN8qHIh+rEhc3/W7Mo5qt9h",
      "include_colab_link": true
    },
    "kernelspec": {
      "name": "python3",
      "display_name": "Python 3"
    },
    "language_info": {
      "name": "python"
    }
  },
  "cells": [
    {
      "cell_type": "markdown",
      "metadata": {
        "id": "view-in-github",
        "colab_type": "text"
      },
      "source": [
        "<a href=\"https://colab.research.google.com/github/ElvesJohn/MachineLearningCW/blob/main/MachineLearningColab.ipynb\" target=\"_parent\"><img src=\"https://colab.research.google.com/assets/colab-badge.svg\" alt=\"Open In Colab\"/></a>"
      ]
    },
    {
      "cell_type": "markdown",
      "source": [
        "##Set up libs and data reader"
      ],
      "metadata": {
        "id": "jPFftoJq1zkM"
      }
    },
    {
      "cell_type": "code",
      "execution_count": 209,
      "metadata": {
        "id": "_7Qi5Agf0Ccf"
      },
      "outputs": [],
      "source": [
        "import pandas as pd\n",
        "import matplotlib.pyplot as plt\n",
        "import seaborn as sns\n",
        "import sklearn.metrics as skm\n",
        "from sklearn.model_selection import train_test_split,cross_val_score\n",
        "from sklearn.preprocessing import OrdinalEncoder, OneHotEncoder,MinMaxScaler,StandardScaler\n",
        "from sklearn.linear_model import LogisticRegression\n",
        "from sklearn.metrics import confusion_matrix, precision_score, recall_score\n",
        "from sklearn.metrics import plot_confusion_matrix\n",
        "from sklearn.metrics import classification_report\n",
        "from sklearn.manifold import TSNE\n",
        "import numpy as np\n",
        "import lightgbm as lgb\n",
        "from sklearn.metrics import roc_auc_score\n",
        "import os\n",
        "# Where to save the figures\n",
        "PROJECT_ROOT_DIR = \".\"\n",
        "CHAPTER_ID = \"ML_project\"\n",
        "IMAGES_PATH = os.path.join(PROJECT_ROOT_DIR, \"images\", CHAPTER_ID)\n",
        "os.makedirs(IMAGES_PATH, exist_ok=True)\n",
        "\n",
        "def save_fig(fig_id, tight_layout=True, fig_extension=\"png\", resolution=300):\n",
        "    path = os.path.join(IMAGES_PATH, fig_id + \".\" + fig_extension)\n",
        "    print(\"Saving figure\", fig_id)\n",
        "    if tight_layout:\n",
        "        plt.tight_layout()\n",
        "    plt.savefig(path, format=fig_extension, dpi=resolution)"
      ]
    },
    {
      "cell_type": "code",
      "source": [
        "pip install fairlearn "
      ],
      "metadata": {
        "colab": {
          "base_uri": "https://localhost:8080/"
        },
        "id": "8tEiB7K_0RTl",
        "outputId": "a0a3efc4-a478-4cf7-d98a-a8a5ffd15201"
      },
      "execution_count": 80,
      "outputs": [
        {
          "output_type": "stream",
          "name": "stdout",
          "text": [
            "Looking in indexes: https://pypi.org/simple, https://us-python.pkg.dev/colab-wheels/public/simple/\n",
            "Requirement already satisfied: fairlearn in /usr/local/lib/python3.8/dist-packages (0.8.0)\n",
            "Requirement already satisfied: scikit-learn>=0.22.1 in /usr/local/lib/python3.8/dist-packages (from fairlearn) (1.0.2)\n",
            "Requirement already satisfied: pandas>=0.25.1 in /usr/local/lib/python3.8/dist-packages (from fairlearn) (1.3.5)\n",
            "Requirement already satisfied: scipy>=1.4.1 in /usr/local/lib/python3.8/dist-packages (from fairlearn) (1.7.3)\n",
            "Requirement already satisfied: numpy>=1.17.2 in /usr/local/lib/python3.8/dist-packages (from fairlearn) (1.21.6)\n",
            "Requirement already satisfied: pytz>=2017.3 in /usr/local/lib/python3.8/dist-packages (from pandas>=0.25.1->fairlearn) (2022.7)\n",
            "Requirement already satisfied: python-dateutil>=2.7.3 in /usr/local/lib/python3.8/dist-packages (from pandas>=0.25.1->fairlearn) (2.8.2)\n",
            "Requirement already satisfied: joblib>=0.11 in /usr/local/lib/python3.8/dist-packages (from scikit-learn>=0.22.1->fairlearn) (1.2.0)\n",
            "Requirement already satisfied: threadpoolctl>=2.0.0 in /usr/local/lib/python3.8/dist-packages (from scikit-learn>=0.22.1->fairlearn) (3.1.0)\n",
            "Requirement already satisfied: six>=1.5 in /usr/local/lib/python3.8/dist-packages (from python-dateutil>=2.7.3->pandas>=0.25.1->fairlearn) (1.15.0)\n"
          ]
        }
      ]
    },
    {
      "cell_type": "code",
      "source": [
        "import fairlearn\n",
        "from fairlearn.metrics import MetricFrame\n"
      ],
      "metadata": {
        "id": "Ly1r45Lq0fwI"
      },
      "execution_count": 81,
      "outputs": []
    },
    {
      "cell_type": "code",
      "source": [
        "import warnings\n",
        "warnings.filterwarnings(\"ignore\")"
      ],
      "metadata": {
        "id": "ns-QgG_b08qT"
      },
      "execution_count": 82,
      "outputs": []
    },
    {
      "cell_type": "code",
      "source": [
        "data = pd.read_csv('/content/MS4S16_Dataset.csv')"
      ],
      "metadata": {
        "id": "tQlI-0hn1Elx"
      },
      "execution_count": 83,
      "outputs": []
    },
    {
      "cell_type": "markdown",
      "source": [
        "##Explorative Data Analysis"
      ],
      "metadata": {
        "id": "c6NmDzf11bk3"
      }
    },
    {
      "cell_type": "markdown",
      "source": [
        "Take a look at the data structure"
      ],
      "metadata": {
        "id": "jK31LQ5D1mrV"
      }
    },
    {
      "cell_type": "code",
      "source": [
        "data.head()"
      ],
      "metadata": {
        "colab": {
          "base_uri": "https://localhost:8080/",
          "height": 300
        },
        "id": "IT0ehDzF1oLM",
        "outputId": "28064611-1ad7-4cca-9c0d-9693253355a6"
      },
      "execution_count": 84,
      "outputs": [
        {
          "output_type": "execute_result",
          "data": {
            "text/plain": [
              "   Diagnosis  Anhedonia    Apathy   Appetite  Concentration   Content Delay  \\\n",
              "0          1   4.501446  3.056575   9.283891       8.305502  0.006142   Yes   \n",
              "1          0   5.432608  0.307721  25.809400       5.060206  0.062209   Yes   \n",
              "2          0   6.557500 -1.412208  24.842012       6.504229  0.071532    No   \n",
              "3          0   5.429568  1.686157  24.175853       6.994948  0.278345    No   \n",
              "4          1   5.099846 -0.612506  45.808490       5.869212  0.004214   Yes   \n",
              "\n",
              "   Delusion   Dep_Mood     Focus  ...   Race Rumination     Sex     Sleep  \\\n",
              "0  1.170842   8.177884  8.305502  ...  White   5.041432  Female  6.552082   \n",
              "1  2.272548  11.162913  5.060206  ...  White   4.656790    Male  5.558434   \n",
              "2  1.439095   5.887363  6.504229  ...  Black   7.290494  Female  5.787561   \n",
              "3  1.380185   8.943851  6.994948  ...  White   6.759339  Female  6.787287   \n",
              "4  1.237976   6.741627  5.869212  ...  Black   6.190019    Male  7.748312   \n",
              "\n",
              "     Stress  Suspicious   Tension     Tired  Unusual_Thought Withdrawal  \n",
              "0  5.915492    3.991749  6.371877  4.537270         3.744410   5.242819  \n",
              "1  4.008265         NaN  2.238665  6.113746         0.720458   3.797242  \n",
              "2  7.177926         NaN  6.992499  5.557374        -0.491255   4.421288  \n",
              "3  2.866815         NaN  4.018286  6.136269         0.765388   2.299562  \n",
              "4  6.798220    5.103103  5.063542  4.213723         0.705895   6.547707  \n",
              "\n",
              "[5 rows x 27 columns]"
            ],
            "text/html": [
              "\n",
              "  <div id=\"df-6533a70a-1127-4d81-8d61-d1fc949ac539\">\n",
              "    <div class=\"colab-df-container\">\n",
              "      <div>\n",
              "<style scoped>\n",
              "    .dataframe tbody tr th:only-of-type {\n",
              "        vertical-align: middle;\n",
              "    }\n",
              "\n",
              "    .dataframe tbody tr th {\n",
              "        vertical-align: top;\n",
              "    }\n",
              "\n",
              "    .dataframe thead th {\n",
              "        text-align: right;\n",
              "    }\n",
              "</style>\n",
              "<table border=\"1\" class=\"dataframe\">\n",
              "  <thead>\n",
              "    <tr style=\"text-align: right;\">\n",
              "      <th></th>\n",
              "      <th>Diagnosis</th>\n",
              "      <th>Anhedonia</th>\n",
              "      <th>Apathy</th>\n",
              "      <th>Appetite</th>\n",
              "      <th>Concentration</th>\n",
              "      <th>Content</th>\n",
              "      <th>Delay</th>\n",
              "      <th>Delusion</th>\n",
              "      <th>Dep_Mood</th>\n",
              "      <th>Focus</th>\n",
              "      <th>...</th>\n",
              "      <th>Race</th>\n",
              "      <th>Rumination</th>\n",
              "      <th>Sex</th>\n",
              "      <th>Sleep</th>\n",
              "      <th>Stress</th>\n",
              "      <th>Suspicious</th>\n",
              "      <th>Tension</th>\n",
              "      <th>Tired</th>\n",
              "      <th>Unusual_Thought</th>\n",
              "      <th>Withdrawal</th>\n",
              "    </tr>\n",
              "  </thead>\n",
              "  <tbody>\n",
              "    <tr>\n",
              "      <th>0</th>\n",
              "      <td>1</td>\n",
              "      <td>4.501446</td>\n",
              "      <td>3.056575</td>\n",
              "      <td>9.283891</td>\n",
              "      <td>8.305502</td>\n",
              "      <td>0.006142</td>\n",
              "      <td>Yes</td>\n",
              "      <td>1.170842</td>\n",
              "      <td>8.177884</td>\n",
              "      <td>8.305502</td>\n",
              "      <td>...</td>\n",
              "      <td>White</td>\n",
              "      <td>5.041432</td>\n",
              "      <td>Female</td>\n",
              "      <td>6.552082</td>\n",
              "      <td>5.915492</td>\n",
              "      <td>3.991749</td>\n",
              "      <td>6.371877</td>\n",
              "      <td>4.537270</td>\n",
              "      <td>3.744410</td>\n",
              "      <td>5.242819</td>\n",
              "    </tr>\n",
              "    <tr>\n",
              "      <th>1</th>\n",
              "      <td>0</td>\n",
              "      <td>5.432608</td>\n",
              "      <td>0.307721</td>\n",
              "      <td>25.809400</td>\n",
              "      <td>5.060206</td>\n",
              "      <td>0.062209</td>\n",
              "      <td>Yes</td>\n",
              "      <td>2.272548</td>\n",
              "      <td>11.162913</td>\n",
              "      <td>5.060206</td>\n",
              "      <td>...</td>\n",
              "      <td>White</td>\n",
              "      <td>4.656790</td>\n",
              "      <td>Male</td>\n",
              "      <td>5.558434</td>\n",
              "      <td>4.008265</td>\n",
              "      <td>NaN</td>\n",
              "      <td>2.238665</td>\n",
              "      <td>6.113746</td>\n",
              "      <td>0.720458</td>\n",
              "      <td>3.797242</td>\n",
              "    </tr>\n",
              "    <tr>\n",
              "      <th>2</th>\n",
              "      <td>0</td>\n",
              "      <td>6.557500</td>\n",
              "      <td>-1.412208</td>\n",
              "      <td>24.842012</td>\n",
              "      <td>6.504229</td>\n",
              "      <td>0.071532</td>\n",
              "      <td>No</td>\n",
              "      <td>1.439095</td>\n",
              "      <td>5.887363</td>\n",
              "      <td>6.504229</td>\n",
              "      <td>...</td>\n",
              "      <td>Black</td>\n",
              "      <td>7.290494</td>\n",
              "      <td>Female</td>\n",
              "      <td>5.787561</td>\n",
              "      <td>7.177926</td>\n",
              "      <td>NaN</td>\n",
              "      <td>6.992499</td>\n",
              "      <td>5.557374</td>\n",
              "      <td>-0.491255</td>\n",
              "      <td>4.421288</td>\n",
              "    </tr>\n",
              "    <tr>\n",
              "      <th>3</th>\n",
              "      <td>0</td>\n",
              "      <td>5.429568</td>\n",
              "      <td>1.686157</td>\n",
              "      <td>24.175853</td>\n",
              "      <td>6.994948</td>\n",
              "      <td>0.278345</td>\n",
              "      <td>No</td>\n",
              "      <td>1.380185</td>\n",
              "      <td>8.943851</td>\n",
              "      <td>6.994948</td>\n",
              "      <td>...</td>\n",
              "      <td>White</td>\n",
              "      <td>6.759339</td>\n",
              "      <td>Female</td>\n",
              "      <td>6.787287</td>\n",
              "      <td>2.866815</td>\n",
              "      <td>NaN</td>\n",
              "      <td>4.018286</td>\n",
              "      <td>6.136269</td>\n",
              "      <td>0.765388</td>\n",
              "      <td>2.299562</td>\n",
              "    </tr>\n",
              "    <tr>\n",
              "      <th>4</th>\n",
              "      <td>1</td>\n",
              "      <td>5.099846</td>\n",
              "      <td>-0.612506</td>\n",
              "      <td>45.808490</td>\n",
              "      <td>5.869212</td>\n",
              "      <td>0.004214</td>\n",
              "      <td>Yes</td>\n",
              "      <td>1.237976</td>\n",
              "      <td>6.741627</td>\n",
              "      <td>5.869212</td>\n",
              "      <td>...</td>\n",
              "      <td>Black</td>\n",
              "      <td>6.190019</td>\n",
              "      <td>Male</td>\n",
              "      <td>7.748312</td>\n",
              "      <td>6.798220</td>\n",
              "      <td>5.103103</td>\n",
              "      <td>5.063542</td>\n",
              "      <td>4.213723</td>\n",
              "      <td>0.705895</td>\n",
              "      <td>6.547707</td>\n",
              "    </tr>\n",
              "  </tbody>\n",
              "</table>\n",
              "<p>5 rows × 27 columns</p>\n",
              "</div>\n",
              "      <button class=\"colab-df-convert\" onclick=\"convertToInteractive('df-6533a70a-1127-4d81-8d61-d1fc949ac539')\"\n",
              "              title=\"Convert this dataframe to an interactive table.\"\n",
              "              style=\"display:none;\">\n",
              "        \n",
              "  <svg xmlns=\"http://www.w3.org/2000/svg\" height=\"24px\"viewBox=\"0 0 24 24\"\n",
              "       width=\"24px\">\n",
              "    <path d=\"M0 0h24v24H0V0z\" fill=\"none\"/>\n",
              "    <path d=\"M18.56 5.44l.94 2.06.94-2.06 2.06-.94-2.06-.94-.94-2.06-.94 2.06-2.06.94zm-11 1L8.5 8.5l.94-2.06 2.06-.94-2.06-.94L8.5 2.5l-.94 2.06-2.06.94zm10 10l.94 2.06.94-2.06 2.06-.94-2.06-.94-.94-2.06-.94 2.06-2.06.94z\"/><path d=\"M17.41 7.96l-1.37-1.37c-.4-.4-.92-.59-1.43-.59-.52 0-1.04.2-1.43.59L10.3 9.45l-7.72 7.72c-.78.78-.78 2.05 0 2.83L4 21.41c.39.39.9.59 1.41.59.51 0 1.02-.2 1.41-.59l7.78-7.78 2.81-2.81c.8-.78.8-2.07 0-2.86zM5.41 20L4 18.59l7.72-7.72 1.47 1.35L5.41 20z\"/>\n",
              "  </svg>\n",
              "      </button>\n",
              "      \n",
              "  <style>\n",
              "    .colab-df-container {\n",
              "      display:flex;\n",
              "      flex-wrap:wrap;\n",
              "      gap: 12px;\n",
              "    }\n",
              "\n",
              "    .colab-df-convert {\n",
              "      background-color: #E8F0FE;\n",
              "      border: none;\n",
              "      border-radius: 50%;\n",
              "      cursor: pointer;\n",
              "      display: none;\n",
              "      fill: #1967D2;\n",
              "      height: 32px;\n",
              "      padding: 0 0 0 0;\n",
              "      width: 32px;\n",
              "    }\n",
              "\n",
              "    .colab-df-convert:hover {\n",
              "      background-color: #E2EBFA;\n",
              "      box-shadow: 0px 1px 2px rgba(60, 64, 67, 0.3), 0px 1px 3px 1px rgba(60, 64, 67, 0.15);\n",
              "      fill: #174EA6;\n",
              "    }\n",
              "\n",
              "    [theme=dark] .colab-df-convert {\n",
              "      background-color: #3B4455;\n",
              "      fill: #D2E3FC;\n",
              "    }\n",
              "\n",
              "    [theme=dark] .colab-df-convert:hover {\n",
              "      background-color: #434B5C;\n",
              "      box-shadow: 0px 1px 3px 1px rgba(0, 0, 0, 0.15);\n",
              "      filter: drop-shadow(0px 1px 2px rgba(0, 0, 0, 0.3));\n",
              "      fill: #FFFFFF;\n",
              "    }\n",
              "  </style>\n",
              "\n",
              "      <script>\n",
              "        const buttonEl =\n",
              "          document.querySelector('#df-6533a70a-1127-4d81-8d61-d1fc949ac539 button.colab-df-convert');\n",
              "        buttonEl.style.display =\n",
              "          google.colab.kernel.accessAllowed ? 'block' : 'none';\n",
              "\n",
              "        async function convertToInteractive(key) {\n",
              "          const element = document.querySelector('#df-6533a70a-1127-4d81-8d61-d1fc949ac539');\n",
              "          const dataTable =\n",
              "            await google.colab.kernel.invokeFunction('convertToInteractive',\n",
              "                                                     [key], {});\n",
              "          if (!dataTable) return;\n",
              "\n",
              "          const docLinkHtml = 'Like what you see? Visit the ' +\n",
              "            '<a target=\"_blank\" href=https://colab.research.google.com/notebooks/data_table.ipynb>data table notebook</a>'\n",
              "            + ' to learn more about interactive tables.';\n",
              "          element.innerHTML = '';\n",
              "          dataTable['output_type'] = 'display_data';\n",
              "          await google.colab.output.renderOutput(dataTable, element);\n",
              "          const docLink = document.createElement('div');\n",
              "          docLink.innerHTML = docLinkHtml;\n",
              "          element.appendChild(docLink);\n",
              "        }\n",
              "      </script>\n",
              "    </div>\n",
              "  </div>\n",
              "  "
            ]
          },
          "metadata": {},
          "execution_count": 84
        }
      ]
    },
    {
      "cell_type": "code",
      "source": [
        "data.info()"
      ],
      "metadata": {
        "colab": {
          "base_uri": "https://localhost:8080/"
        },
        "id": "Xe9GPS-_2xpr",
        "outputId": "66c7346e-926e-48e1-a649-372966c4cc5c"
      },
      "execution_count": 85,
      "outputs": [
        {
          "output_type": "stream",
          "name": "stdout",
          "text": [
            "<class 'pandas.core.frame.DataFrame'>\n",
            "RangeIndex: 5000 entries, 0 to 4999\n",
            "Data columns (total 27 columns):\n",
            " #   Column              Non-Null Count  Dtype  \n",
            "---  ------              --------------  -----  \n",
            " 0   Diagnosis           5000 non-null   int64  \n",
            " 1   Anhedonia           5000 non-null   float64\n",
            " 2   Apathy              5000 non-null   float64\n",
            " 3   Appetite            5000 non-null   float64\n",
            " 4   Concentration       5000 non-null   float64\n",
            " 5   Content             5000 non-null   float64\n",
            " 6   Delay               5000 non-null   object \n",
            " 7   Delusion            5000 non-null   float64\n",
            " 8   Dep_Mood            5000 non-null   float64\n",
            " 9   Focus               5000 non-null   float64\n",
            " 10  Hallucination       5000 non-null   float64\n",
            " 11  Housing             5000 non-null   object \n",
            " 12  Intrusive_Thoughts  4170 non-null   float64\n",
            " 13  Participant         5000 non-null   int64  \n",
            " 14  Passive             5000 non-null   float64\n",
            " 15  Pregnant            2762 non-null   float64\n",
            " 16  Psychomotor         5000 non-null   float64\n",
            " 17  Race                5000 non-null   object \n",
            " 18  Rumination          5000 non-null   float64\n",
            " 19  Sex                 5000 non-null   object \n",
            " 20  Sleep               5000 non-null   float64\n",
            " 21  Stress              5000 non-null   float64\n",
            " 22  Suspicious          2127 non-null   float64\n",
            " 23  Tension             5000 non-null   float64\n",
            " 24  Tired               5000 non-null   float64\n",
            " 25  Unusual_Thought     5000 non-null   float64\n",
            " 26  Withdrawal          5000 non-null   float64\n",
            "dtypes: float64(21), int64(2), object(4)\n",
            "memory usage: 1.0+ MB\n"
          ]
        }
      ]
    },
    {
      "cell_type": "code",
      "source": [
        "data['Sex'].value_counts()"
      ],
      "metadata": {
        "colab": {
          "base_uri": "https://localhost:8080/"
        },
        "id": "76fWA60s39Rh",
        "outputId": "1e73b807-33fa-45b1-d419-e7c31be72380"
      },
      "execution_count": 86,
      "outputs": [
        {
          "output_type": "execute_result",
          "data": {
            "text/plain": [
              "Female    2762\n",
              "Male      2238\n",
              "Name: Sex, dtype: int64"
            ]
          },
          "metadata": {},
          "execution_count": 86
        }
      ]
    },
    {
      "cell_type": "code",
      "source": [
        "data['Delay'].value_counts()"
      ],
      "metadata": {
        "colab": {
          "base_uri": "https://localhost:8080/"
        },
        "id": "98JHJXFc4LHo",
        "outputId": "079c09f9-3a79-4c65-fb37-010add87eafd"
      },
      "execution_count": 87,
      "outputs": [
        {
          "output_type": "execute_result",
          "data": {
            "text/plain": [
              "Yes    2571\n",
              "No     2429\n",
              "Name: Delay, dtype: int64"
            ]
          },
          "metadata": {},
          "execution_count": 87
        }
      ]
    },
    {
      "cell_type": "code",
      "source": [
        "data['Housing'].value_counts()"
      ],
      "metadata": {
        "colab": {
          "base_uri": "https://localhost:8080/"
        },
        "id": "mXoamwkR4Rgz",
        "outputId": "d9aa8861-ff1f-4f47-9827-75e7fe9d11c0"
      },
      "execution_count": 88,
      "outputs": [
        {
          "output_type": "execute_result",
          "data": {
            "text/plain": [
              "Stable      4674\n",
              "Unstable     326\n",
              "Name: Housing, dtype: int64"
            ]
          },
          "metadata": {},
          "execution_count": 88
        }
      ]
    },
    {
      "cell_type": "code",
      "source": [
        "data['Race'].value_counts()"
      ],
      "metadata": {
        "colab": {
          "base_uri": "https://localhost:8080/"
        },
        "id": "iZcijQlR4Y3H",
        "outputId": "fb9262d9-5bf3-4e80-da2e-64909dff8480"
      },
      "execution_count": 89,
      "outputs": [
        {
          "output_type": "execute_result",
          "data": {
            "text/plain": [
              "White       1838\n",
              "Black       1741\n",
              "Hispanic     715\n",
              "Asian        706\n",
              "Name: Race, dtype: int64"
            ]
          },
          "metadata": {},
          "execution_count": 89
        }
      ]
    },
    {
      "cell_type": "code",
      "source": [
        "data['Diagnosis'].value_counts()"
      ],
      "metadata": {
        "colab": {
          "base_uri": "https://localhost:8080/"
        },
        "id": "bK_9S4Ts4gfv",
        "outputId": "86d15aeb-4a07-46a3-fee3-08c9c51da8df"
      },
      "execution_count": 90,
      "outputs": [
        {
          "output_type": "execute_result",
          "data": {
            "text/plain": [
              "1    2529\n",
              "0    2471\n",
              "Name: Diagnosis, dtype: int64"
            ]
          },
          "metadata": {},
          "execution_count": 90
        }
      ]
    },
    {
      "cell_type": "markdown",
      "source": [
        "**The dataset is not imbalanced. **"
      ],
      "metadata": {
        "id": "D66clZ8s4mo_"
      }
    },
    {
      "cell_type": "code",
      "source": [
        "data.describe()"
      ],
      "metadata": {
        "colab": {
          "base_uri": "https://localhost:8080/",
          "height": 394
        },
        "id": "J3AZ2I7G23Ha",
        "outputId": "894b8a2b-a0f6-4e25-9e15-e9169a2e4bb2"
      },
      "execution_count": 91,
      "outputs": [
        {
          "output_type": "execute_result",
          "data": {
            "text/plain": [
              "         Diagnosis    Anhedonia       Apathy     Appetite  Concentration  \\\n",
              "count  5000.000000  5000.000000  5000.000000  5000.000000    5000.000000   \n",
              "mean      0.505800     6.502860     2.478849    27.070029       6.519924   \n",
              "std       0.500016     1.488151     1.730810    14.202618       1.474846   \n",
              "min       0.000000     1.098854    -3.211011     0.141074       1.299964   \n",
              "25%       0.000000     5.495361     1.265128    16.724108       5.528181   \n",
              "50%       1.000000     6.485527     2.427409    25.165292       6.498042   \n",
              "75%       1.000000     7.489218     3.642059    35.447666       7.519759   \n",
              "max       1.000000    11.603140     8.803433   113.438734      11.649649   \n",
              "\n",
              "           Content     Delusion     Dep_Mood        Focus  Hallucination  ...  \\\n",
              "count  5000.000000  5000.000000  5000.000000  5000.000000    5000.000000  ...   \n",
              "mean      0.279407     2.637389     5.727062     6.519924      65.073832  ...   \n",
              "std       0.834494     1.440347     3.284501     1.474846     223.943469  ...   \n",
              "min       0.000187    -2.127037     0.000000     1.299964       0.027350  ...   \n",
              "25%       0.018655     1.629919     4.678095     5.528181       4.113962  ...   \n",
              "50%       0.064259     2.558146     6.752196     6.498042      12.764604  ...   \n",
              "75%       0.215773     3.588012     8.045706     7.519759      41.814204  ...   \n",
              "max      21.001327     8.978785    12.003550    11.649649    6287.163151  ...   \n",
              "\n",
              "          Pregnant  Psychomotor   Rumination        Sleep       Stress  \\\n",
              "count  2762.000000  5000.000000  5000.000000  5000.000000  5000.000000   \n",
              "mean      0.101376     4.680583     5.685816     7.011266     4.916418   \n",
              "std       0.301880     1.482692     2.161891     1.410841     2.220262   \n",
              "min       0.000000    -0.024974    -0.409032     2.144726    -3.257788   \n",
              "25%       0.000000     3.697870     4.042552     6.058402     3.443683   \n",
              "50%       0.000000     4.720156     5.521805     6.980519     5.096416   \n",
              "75%       0.000000     5.682627     7.276673     7.977138     6.531673   \n",
              "max       1.000000    10.171540    12.009666    11.920312    11.970952   \n",
              "\n",
              "        Suspicious      Tension        Tired  Unusual_Thought   Withdrawal  \n",
              "count  2127.000000  5000.000000  5000.000000      5000.000000  5000.000000  \n",
              "mean      2.754909     4.920667          inf         2.480266     3.958121  \n",
              "std       1.496126     1.962342          NaN         1.410475     1.469444  \n",
              "min      -2.346238    -2.183456     0.366650        -1.981307    -0.825919  \n",
              "25%       1.703462     3.565482     4.491580         1.486439     2.969534  \n",
              "50%       2.735108     5.247353     5.513508         2.388994     3.962131  \n",
              "75%       3.725759     6.385145     6.569176         3.426667     4.972302  \n",
              "max       8.212275     9.622076          inf         8.066822     9.022207  \n",
              "\n",
              "[8 rows x 23 columns]"
            ],
            "text/html": [
              "\n",
              "  <div id=\"df-7b271195-8b8b-4bd2-8e0e-e4f31bab0de7\">\n",
              "    <div class=\"colab-df-container\">\n",
              "      <div>\n",
              "<style scoped>\n",
              "    .dataframe tbody tr th:only-of-type {\n",
              "        vertical-align: middle;\n",
              "    }\n",
              "\n",
              "    .dataframe tbody tr th {\n",
              "        vertical-align: top;\n",
              "    }\n",
              "\n",
              "    .dataframe thead th {\n",
              "        text-align: right;\n",
              "    }\n",
              "</style>\n",
              "<table border=\"1\" class=\"dataframe\">\n",
              "  <thead>\n",
              "    <tr style=\"text-align: right;\">\n",
              "      <th></th>\n",
              "      <th>Diagnosis</th>\n",
              "      <th>Anhedonia</th>\n",
              "      <th>Apathy</th>\n",
              "      <th>Appetite</th>\n",
              "      <th>Concentration</th>\n",
              "      <th>Content</th>\n",
              "      <th>Delusion</th>\n",
              "      <th>Dep_Mood</th>\n",
              "      <th>Focus</th>\n",
              "      <th>Hallucination</th>\n",
              "      <th>...</th>\n",
              "      <th>Pregnant</th>\n",
              "      <th>Psychomotor</th>\n",
              "      <th>Rumination</th>\n",
              "      <th>Sleep</th>\n",
              "      <th>Stress</th>\n",
              "      <th>Suspicious</th>\n",
              "      <th>Tension</th>\n",
              "      <th>Tired</th>\n",
              "      <th>Unusual_Thought</th>\n",
              "      <th>Withdrawal</th>\n",
              "    </tr>\n",
              "  </thead>\n",
              "  <tbody>\n",
              "    <tr>\n",
              "      <th>count</th>\n",
              "      <td>5000.000000</td>\n",
              "      <td>5000.000000</td>\n",
              "      <td>5000.000000</td>\n",
              "      <td>5000.000000</td>\n",
              "      <td>5000.000000</td>\n",
              "      <td>5000.000000</td>\n",
              "      <td>5000.000000</td>\n",
              "      <td>5000.000000</td>\n",
              "      <td>5000.000000</td>\n",
              "      <td>5000.000000</td>\n",
              "      <td>...</td>\n",
              "      <td>2762.000000</td>\n",
              "      <td>5000.000000</td>\n",
              "      <td>5000.000000</td>\n",
              "      <td>5000.000000</td>\n",
              "      <td>5000.000000</td>\n",
              "      <td>2127.000000</td>\n",
              "      <td>5000.000000</td>\n",
              "      <td>5000.000000</td>\n",
              "      <td>5000.000000</td>\n",
              "      <td>5000.000000</td>\n",
              "    </tr>\n",
              "    <tr>\n",
              "      <th>mean</th>\n",
              "      <td>0.505800</td>\n",
              "      <td>6.502860</td>\n",
              "      <td>2.478849</td>\n",
              "      <td>27.070029</td>\n",
              "      <td>6.519924</td>\n",
              "      <td>0.279407</td>\n",
              "      <td>2.637389</td>\n",
              "      <td>5.727062</td>\n",
              "      <td>6.519924</td>\n",
              "      <td>65.073832</td>\n",
              "      <td>...</td>\n",
              "      <td>0.101376</td>\n",
              "      <td>4.680583</td>\n",
              "      <td>5.685816</td>\n",
              "      <td>7.011266</td>\n",
              "      <td>4.916418</td>\n",
              "      <td>2.754909</td>\n",
              "      <td>4.920667</td>\n",
              "      <td>inf</td>\n",
              "      <td>2.480266</td>\n",
              "      <td>3.958121</td>\n",
              "    </tr>\n",
              "    <tr>\n",
              "      <th>std</th>\n",
              "      <td>0.500016</td>\n",
              "      <td>1.488151</td>\n",
              "      <td>1.730810</td>\n",
              "      <td>14.202618</td>\n",
              "      <td>1.474846</td>\n",
              "      <td>0.834494</td>\n",
              "      <td>1.440347</td>\n",
              "      <td>3.284501</td>\n",
              "      <td>1.474846</td>\n",
              "      <td>223.943469</td>\n",
              "      <td>...</td>\n",
              "      <td>0.301880</td>\n",
              "      <td>1.482692</td>\n",
              "      <td>2.161891</td>\n",
              "      <td>1.410841</td>\n",
              "      <td>2.220262</td>\n",
              "      <td>1.496126</td>\n",
              "      <td>1.962342</td>\n",
              "      <td>NaN</td>\n",
              "      <td>1.410475</td>\n",
              "      <td>1.469444</td>\n",
              "    </tr>\n",
              "    <tr>\n",
              "      <th>min</th>\n",
              "      <td>0.000000</td>\n",
              "      <td>1.098854</td>\n",
              "      <td>-3.211011</td>\n",
              "      <td>0.141074</td>\n",
              "      <td>1.299964</td>\n",
              "      <td>0.000187</td>\n",
              "      <td>-2.127037</td>\n",
              "      <td>0.000000</td>\n",
              "      <td>1.299964</td>\n",
              "      <td>0.027350</td>\n",
              "      <td>...</td>\n",
              "      <td>0.000000</td>\n",
              "      <td>-0.024974</td>\n",
              "      <td>-0.409032</td>\n",
              "      <td>2.144726</td>\n",
              "      <td>-3.257788</td>\n",
              "      <td>-2.346238</td>\n",
              "      <td>-2.183456</td>\n",
              "      <td>0.366650</td>\n",
              "      <td>-1.981307</td>\n",
              "      <td>-0.825919</td>\n",
              "    </tr>\n",
              "    <tr>\n",
              "      <th>25%</th>\n",
              "      <td>0.000000</td>\n",
              "      <td>5.495361</td>\n",
              "      <td>1.265128</td>\n",
              "      <td>16.724108</td>\n",
              "      <td>5.528181</td>\n",
              "      <td>0.018655</td>\n",
              "      <td>1.629919</td>\n",
              "      <td>4.678095</td>\n",
              "      <td>5.528181</td>\n",
              "      <td>4.113962</td>\n",
              "      <td>...</td>\n",
              "      <td>0.000000</td>\n",
              "      <td>3.697870</td>\n",
              "      <td>4.042552</td>\n",
              "      <td>6.058402</td>\n",
              "      <td>3.443683</td>\n",
              "      <td>1.703462</td>\n",
              "      <td>3.565482</td>\n",
              "      <td>4.491580</td>\n",
              "      <td>1.486439</td>\n",
              "      <td>2.969534</td>\n",
              "    </tr>\n",
              "    <tr>\n",
              "      <th>50%</th>\n",
              "      <td>1.000000</td>\n",
              "      <td>6.485527</td>\n",
              "      <td>2.427409</td>\n",
              "      <td>25.165292</td>\n",
              "      <td>6.498042</td>\n",
              "      <td>0.064259</td>\n",
              "      <td>2.558146</td>\n",
              "      <td>6.752196</td>\n",
              "      <td>6.498042</td>\n",
              "      <td>12.764604</td>\n",
              "      <td>...</td>\n",
              "      <td>0.000000</td>\n",
              "      <td>4.720156</td>\n",
              "      <td>5.521805</td>\n",
              "      <td>6.980519</td>\n",
              "      <td>5.096416</td>\n",
              "      <td>2.735108</td>\n",
              "      <td>5.247353</td>\n",
              "      <td>5.513508</td>\n",
              "      <td>2.388994</td>\n",
              "      <td>3.962131</td>\n",
              "    </tr>\n",
              "    <tr>\n",
              "      <th>75%</th>\n",
              "      <td>1.000000</td>\n",
              "      <td>7.489218</td>\n",
              "      <td>3.642059</td>\n",
              "      <td>35.447666</td>\n",
              "      <td>7.519759</td>\n",
              "      <td>0.215773</td>\n",
              "      <td>3.588012</td>\n",
              "      <td>8.045706</td>\n",
              "      <td>7.519759</td>\n",
              "      <td>41.814204</td>\n",
              "      <td>...</td>\n",
              "      <td>0.000000</td>\n",
              "      <td>5.682627</td>\n",
              "      <td>7.276673</td>\n",
              "      <td>7.977138</td>\n",
              "      <td>6.531673</td>\n",
              "      <td>3.725759</td>\n",
              "      <td>6.385145</td>\n",
              "      <td>6.569176</td>\n",
              "      <td>3.426667</td>\n",
              "      <td>4.972302</td>\n",
              "    </tr>\n",
              "    <tr>\n",
              "      <th>max</th>\n",
              "      <td>1.000000</td>\n",
              "      <td>11.603140</td>\n",
              "      <td>8.803433</td>\n",
              "      <td>113.438734</td>\n",
              "      <td>11.649649</td>\n",
              "      <td>21.001327</td>\n",
              "      <td>8.978785</td>\n",
              "      <td>12.003550</td>\n",
              "      <td>11.649649</td>\n",
              "      <td>6287.163151</td>\n",
              "      <td>...</td>\n",
              "      <td>1.000000</td>\n",
              "      <td>10.171540</td>\n",
              "      <td>12.009666</td>\n",
              "      <td>11.920312</td>\n",
              "      <td>11.970952</td>\n",
              "      <td>8.212275</td>\n",
              "      <td>9.622076</td>\n",
              "      <td>inf</td>\n",
              "      <td>8.066822</td>\n",
              "      <td>9.022207</td>\n",
              "    </tr>\n",
              "  </tbody>\n",
              "</table>\n",
              "<p>8 rows × 23 columns</p>\n",
              "</div>\n",
              "      <button class=\"colab-df-convert\" onclick=\"convertToInteractive('df-7b271195-8b8b-4bd2-8e0e-e4f31bab0de7')\"\n",
              "              title=\"Convert this dataframe to an interactive table.\"\n",
              "              style=\"display:none;\">\n",
              "        \n",
              "  <svg xmlns=\"http://www.w3.org/2000/svg\" height=\"24px\"viewBox=\"0 0 24 24\"\n",
              "       width=\"24px\">\n",
              "    <path d=\"M0 0h24v24H0V0z\" fill=\"none\"/>\n",
              "    <path d=\"M18.56 5.44l.94 2.06.94-2.06 2.06-.94-2.06-.94-.94-2.06-.94 2.06-2.06.94zm-11 1L8.5 8.5l.94-2.06 2.06-.94-2.06-.94L8.5 2.5l-.94 2.06-2.06.94zm10 10l.94 2.06.94-2.06 2.06-.94-2.06-.94-.94-2.06-.94 2.06-2.06.94z\"/><path d=\"M17.41 7.96l-1.37-1.37c-.4-.4-.92-.59-1.43-.59-.52 0-1.04.2-1.43.59L10.3 9.45l-7.72 7.72c-.78.78-.78 2.05 0 2.83L4 21.41c.39.39.9.59 1.41.59.51 0 1.02-.2 1.41-.59l7.78-7.78 2.81-2.81c.8-.78.8-2.07 0-2.86zM5.41 20L4 18.59l7.72-7.72 1.47 1.35L5.41 20z\"/>\n",
              "  </svg>\n",
              "      </button>\n",
              "      \n",
              "  <style>\n",
              "    .colab-df-container {\n",
              "      display:flex;\n",
              "      flex-wrap:wrap;\n",
              "      gap: 12px;\n",
              "    }\n",
              "\n",
              "    .colab-df-convert {\n",
              "      background-color: #E8F0FE;\n",
              "      border: none;\n",
              "      border-radius: 50%;\n",
              "      cursor: pointer;\n",
              "      display: none;\n",
              "      fill: #1967D2;\n",
              "      height: 32px;\n",
              "      padding: 0 0 0 0;\n",
              "      width: 32px;\n",
              "    }\n",
              "\n",
              "    .colab-df-convert:hover {\n",
              "      background-color: #E2EBFA;\n",
              "      box-shadow: 0px 1px 2px rgba(60, 64, 67, 0.3), 0px 1px 3px 1px rgba(60, 64, 67, 0.15);\n",
              "      fill: #174EA6;\n",
              "    }\n",
              "\n",
              "    [theme=dark] .colab-df-convert {\n",
              "      background-color: #3B4455;\n",
              "      fill: #D2E3FC;\n",
              "    }\n",
              "\n",
              "    [theme=dark] .colab-df-convert:hover {\n",
              "      background-color: #434B5C;\n",
              "      box-shadow: 0px 1px 3px 1px rgba(0, 0, 0, 0.15);\n",
              "      filter: drop-shadow(0px 1px 2px rgba(0, 0, 0, 0.3));\n",
              "      fill: #FFFFFF;\n",
              "    }\n",
              "  </style>\n",
              "\n",
              "      <script>\n",
              "        const buttonEl =\n",
              "          document.querySelector('#df-7b271195-8b8b-4bd2-8e0e-e4f31bab0de7 button.colab-df-convert');\n",
              "        buttonEl.style.display =\n",
              "          google.colab.kernel.accessAllowed ? 'block' : 'none';\n",
              "\n",
              "        async function convertToInteractive(key) {\n",
              "          const element = document.querySelector('#df-7b271195-8b8b-4bd2-8e0e-e4f31bab0de7');\n",
              "          const dataTable =\n",
              "            await google.colab.kernel.invokeFunction('convertToInteractive',\n",
              "                                                     [key], {});\n",
              "          if (!dataTable) return;\n",
              "\n",
              "          const docLinkHtml = 'Like what you see? Visit the ' +\n",
              "            '<a target=\"_blank\" href=https://colab.research.google.com/notebooks/data_table.ipynb>data table notebook</a>'\n",
              "            + ' to learn more about interactive tables.';\n",
              "          element.innerHTML = '';\n",
              "          dataTable['output_type'] = 'display_data';\n",
              "          await google.colab.output.renderOutput(dataTable, element);\n",
              "          const docLink = document.createElement('div');\n",
              "          docLink.innerHTML = docLinkHtml;\n",
              "          element.appendChild(docLink);\n",
              "        }\n",
              "      </script>\n",
              "    </div>\n",
              "  </div>\n",
              "  "
            ]
          },
          "metadata": {},
          "execution_count": 91
        }
      ]
    },
    {
      "cell_type": "code",
      "source": [
        "data['Participant'].value_counts()"
      ],
      "metadata": {
        "colab": {
          "base_uri": "https://localhost:8080/"
        },
        "id": "3m27DaZp4-WF",
        "outputId": "a27fb2d4-0087-4bfa-cfce-8734f282fd7a"
      },
      "execution_count": 92,
      "outputs": [
        {
          "output_type": "execute_result",
          "data": {
            "text/plain": [
              "1    5000\n",
              "Name: Participant, dtype: int64"
            ]
          },
          "metadata": {},
          "execution_count": 92
        }
      ]
    },
    {
      "cell_type": "code",
      "execution_count": 93,
      "metadata": {
        "id": "qkqrJioNx4x3",
        "outputId": "1a146a4b-f02c-42e0-c985-2ec86383a94e",
        "colab": {
          "base_uri": "https://localhost:8080/",
          "height": 822
        }
      },
      "outputs": [
        {
          "output_type": "display_data",
          "data": {
            "text/plain": [
              "<Figure size 1440x1080 with 25 Axes>"
            ],
            "image/png": "[encoded data removed]"
          },
          "metadata": {
            "needs_background": "light"
          }
        }
      ],
      "source": [
        "%matplotlib inline\n",
        "data.drop('Tired', axis=1, inplace=False).hist(bins=50, figsize=(20,15))\n",
        "plt.show()"
      ]
    },
    {
      "cell_type": "code",
      "source": [
        "# Compute the correlation matrix\n",
        "corr = data.drop(['Tired','Diagnosis','Sex','Race','Housing','Delay','Participant'], axis=1, inplace=False).corr()\n",
        "\n",
        "# Plot the heatmap\n",
        "corr.style.background_gradient()"
      ],
      "metadata": {
        "colab": {
          "base_uri": "https://localhost:8080/",
          "height": 697
        },
        "id": "o70tJQed80e-",
        "outputId": "3d7e4212-24e4-41c5-feac-b958075c918a"
      },
      "execution_count": 221,
      "outputs": [
        {
          "output_type": "execute_result",
          "data": {
            "text/plain": [
              "<pandas.io.formats.style.Styler at 0x7effbb8a20a0>"
            ],
            "text/html": [
              "<style type=\"text/css\">\n",
              "#T_da93b_row0_col0, #T_da93b_row1_col1, #T_da93b_row2_col2, #T_da93b_row3_col3, #T_da93b_row3_col7, #T_da93b_row4_col4, #T_da93b_row5_col5, #T_da93b_row6_col6, #T_da93b_row7_col3, #T_da93b_row7_col7, #T_da93b_row8_col8, #T_da93b_row9_col9, #T_da93b_row10_col10, #T_da93b_row11_col11, #T_da93b_row12_col12, #T_da93b_row13_col13, #T_da93b_row14_col14, #T_da93b_row15_col15, #T_da93b_row16_col16, #T_da93b_row17_col17, #T_da93b_row18_col18, #T_da93b_row19_col19 {\n",
              "  background-color: #023858;\n",
              "  color: #f1f1f1;\n",
              "}\n",
              "#T_da93b_row0_col1, #T_da93b_row0_col5, #T_da93b_row2_col12, #T_da93b_row6_col8, #T_da93b_row6_col17, #T_da93b_row10_col19, #T_da93b_row17_col9 {\n",
              "  background-color: #f2ecf5;\n",
              "  color: #000000;\n",
              "}\n",
              "#T_da93b_row0_col2, #T_da93b_row0_col8, #T_da93b_row1_col11, #T_da93b_row3_col0, #T_da93b_row3_col9, #T_da93b_row7_col0, #T_da93b_row7_col9, #T_da93b_row14_col11, #T_da93b_row18_col11 {\n",
              "  background-color: #f7f0f7;\n",
              "  color: #000000;\n",
              "}\n",
              "#T_da93b_row0_col3, #T_da93b_row0_col7, #T_da93b_row4_col8, #T_da93b_row4_col15, #T_da93b_row6_col15, #T_da93b_row11_col19, #T_da93b_row14_col19 {\n",
              "  background-color: #f4eef6;\n",
              "  color: #000000;\n",
              "}\n",
              "#T_da93b_row0_col4, #T_da93b_row12_col9 {\n",
              "  background-color: #b9c6e0;\n",
              "  color: #000000;\n",
              "}\n",
              "#T_da93b_row0_col6, #T_da93b_row1_col10, #T_da93b_row2_col16, #T_da93b_row5_col15 {\n",
              "  background-color: #c4cbe3;\n",
              "  color: #000000;\n",
              "}\n",
              "#T_da93b_row0_col9, #T_da93b_row15_col5 {\n",
              "  background-color: #b0c2de;\n",
              "  color: #000000;\n",
              "}\n",
              "#T_da93b_row0_col10, #T_da93b_row1_col17, #T_da93b_row8_col10, #T_da93b_row11_col6, #T_da93b_row13_col6, #T_da93b_row14_col6, #T_da93b_row15_col1, #T_da93b_row19_col10 {\n",
              "  background-color: #c1cae2;\n",
              "  color: #000000;\n",
              "}\n",
              "#T_da93b_row0_col11, #T_da93b_row0_col15, #T_da93b_row0_col17, #T_da93b_row3_col14, #T_da93b_row4_col2, #T_da93b_row4_col16, #T_da93b_row5_col9, #T_da93b_row5_col13, #T_da93b_row6_col10, #T_da93b_row7_col14, #T_da93b_row9_col11, #T_da93b_row9_col19, #T_da93b_row10_col6, #T_da93b_row12_col14, #T_da93b_row13_col1, #T_da93b_row13_col3, #T_da93b_row13_col5, #T_da93b_row13_col7, #T_da93b_row13_col8, #T_da93b_row13_col18, #T_da93b_row16_col4, #T_da93b_row17_col0, #T_da93b_row17_col12 {\n",
              "  background-color: #fff7fb;\n",
              "  color: #000000;\n",
              "}\n",
              "#T_da93b_row0_col12, #T_da93b_row10_col1, #T_da93b_row11_col9 {\n",
              "  background-color: #e5e1ef;\n",
              "  color: #000000;\n",
              "}\n",
              "#T_da93b_row0_col13 {\n",
              "  background-color: #abbfdc;\n",
              "  color: #000000;\n",
              "}\n",
              "#T_da93b_row0_col14, #T_da93b_row3_col2, #T_da93b_row4_col14, #T_da93b_row5_col2, #T_da93b_row5_col12, #T_da93b_row7_col2, #T_da93b_row8_col11, #T_da93b_row9_col3, #T_da93b_row9_col7, #T_da93b_row9_col14, #T_da93b_row9_col18, #T_da93b_row10_col11, #T_da93b_row11_col2, #T_da93b_row13_col14, #T_da93b_row15_col0, #T_da93b_row15_col14, #T_da93b_row16_col9, #T_da93b_row16_col13, #T_da93b_row17_col14 {\n",
              "  background-color: #fdf5fa;\n",
              "  color: #000000;\n",
              "}\n",
              "#T_da93b_row0_col16, #T_da93b_row10_col13, #T_da93b_row19_col3, #T_da93b_row19_col7 {\n",
              "  background-color: #d7d6e9;\n",
              "  color: #000000;\n",
              "}\n",
              "#T_da93b_row0_col18, #T_da93b_row8_col19, #T_da93b_row12_col1, #T_da93b_row12_col3, #T_da93b_row12_col7, #T_da93b_row15_col9, #T_da93b_row17_col13 {\n",
              "  background-color: #f0eaf4;\n",
              "  color: #000000;\n",
              "}\n",
              "#T_da93b_row0_col19, #T_da93b_row12_col2, #T_da93b_row13_col19, #T_da93b_row18_col13 {\n",
              "  background-color: #fef6fb;\n",
              "  color: #000000;\n",
              "}\n",
              "#T_da93b_row1_col0, #T_da93b_row16_col0, #T_da93b_row17_col11 {\n",
              "  background-color: #f5eff6;\n",
              "  color: #000000;\n",
              "}\n",
              "#T_da93b_row1_col2, #T_da93b_row9_col15, #T_da93b_row12_col11, #T_da93b_row12_col19, #T_da93b_row16_col11, #T_da93b_row16_col14 {\n",
              "  background-color: #fbf3f9;\n",
              "  color: #000000;\n",
              "}\n",
              "#T_da93b_row1_col3, #T_da93b_row1_col7, #T_da93b_row3_col1, #T_da93b_row7_col1, #T_da93b_row13_col12 {\n",
              "  background-color: #d0d1e6;\n",
              "  color: #000000;\n",
              "}\n",
              "#T_da93b_row1_col4, #T_da93b_row5_col4, #T_da93b_row8_col17 {\n",
              "  background-color: #d3d4e7;\n",
              "  color: #000000;\n",
              "}\n",
              "#T_da93b_row1_col5, #T_da93b_row13_col0, #T_da93b_row15_col3, #T_da93b_row15_col7, #T_da93b_row16_col5, #T_da93b_row17_col3, #T_da93b_row17_col7, #T_da93b_row19_col17 {\n",
              "  background-color: #bbc7e0;\n",
              "  color: #000000;\n",
              "}\n",
              "#T_da93b_row1_col6, #T_da93b_row2_col4, #T_da93b_row16_col15 {\n",
              "  background-color: #cccfe5;\n",
              "  color: #000000;\n",
              "}\n",
              "#T_da93b_row1_col8, #T_da93b_row6_col3, #T_da93b_row6_col7, #T_da93b_row10_col12, #T_da93b_row10_col17, #T_da93b_row13_col16, #T_da93b_row19_col9 {\n",
              "  background-color: #ede7f2;\n",
              "  color: #000000;\n",
              "}\n",
              "#T_da93b_row1_col9, #T_da93b_row1_col12, #T_da93b_row1_col13, #T_da93b_row3_col12, #T_da93b_row6_col11, #T_da93b_row6_col14, #T_da93b_row7_col12, #T_da93b_row12_col17, #T_da93b_row17_col2, #T_da93b_row18_col14 {\n",
              "  background-color: #f9f2f8;\n",
              "  color: #000000;\n",
              "}\n",
              "#T_da93b_row1_col14, #T_da93b_row5_col11, #T_da93b_row13_col17, #T_da93b_row16_col12, #T_da93b_row18_col0 {\n",
              "  background-color: #faf2f8;\n",
              "  color: #000000;\n",
              "}\n",
              "#T_da93b_row1_col15, #T_da93b_row8_col4, #T_da93b_row16_col1, #T_da93b_row17_col19, #T_da93b_row18_col6, #T_da93b_row19_col6 {\n",
              "  background-color: #cdd0e5;\n",
              "  color: #000000;\n",
              "}\n",
              "#T_da93b_row1_col16, #T_da93b_row17_col18 {\n",
              "  background-color: #a9bfdc;\n",
              "  color: #000000;\n",
              "}\n",
              "#T_da93b_row1_col18 {\n",
              "  background-color: #045e94;\n",
              "  color: #f1f1f1;\n",
              "}\n",
              "#T_da93b_row1_col19, #T_da93b_row2_col1, #T_da93b_row6_col5, #T_da93b_row6_col18 {\n",
              "  background-color: #e4e1ef;\n",
              "  color: #000000;\n",
              "}\n",
              "#T_da93b_row2_col0, #T_da93b_row11_col17 {\n",
              "  background-color: #e3e0ee;\n",
              "  color: #000000;\n",
              "}\n",
              "#T_da93b_row2_col3, #T_da93b_row2_col7, #T_da93b_row2_col17, #T_da93b_row4_col5, #T_da93b_row10_col0, #T_da93b_row11_col15 {\n",
              "  background-color: #e7e3f0;\n",
              "  color: #000000;\n",
              "}\n",
              "#T_da93b_row2_col5, #T_da93b_row10_col5, #T_da93b_row10_col18, #T_da93b_row11_col13 {\n",
              "  background-color: #dedcec;\n",
              "  color: #000000;\n",
              "}\n",
              "#T_da93b_row2_col6, #T_da93b_row3_col10, #T_da93b_row3_col15, #T_da93b_row5_col1, #T_da93b_row7_col10, #T_da93b_row7_col15, #T_da93b_row12_col4, #T_da93b_row14_col16, #T_da93b_row18_col10, #T_da93b_row18_col15, #T_da93b_row19_col5, #T_da93b_row19_col18 {\n",
              "  background-color: #c5cce3;\n",
              "  color: #000000;\n",
              "}\n",
              "#T_da93b_row2_col8, #T_da93b_row8_col0, #T_da93b_row10_col15, #T_da93b_row11_col12 {\n",
              "  background-color: #f1ebf4;\n",
              "  color: #000000;\n",
              "}\n",
              "#T_da93b_row2_col9, #T_da93b_row2_col13, #T_da93b_row6_col13, #T_da93b_row8_col15, #T_da93b_row11_col18, #T_da93b_row14_col5 {\n",
              "  background-color: #d9d8ea;\n",
              "  color: #000000;\n",
              "}\n",
              "#T_da93b_row2_col10, #T_da93b_row3_col5, #T_da93b_row7_col5 {\n",
              "  background-color: #c2cbe2;\n",
              "  color: #000000;\n",
              "}\n",
              "#T_da93b_row2_col11, #T_da93b_row4_col19, #T_da93b_row8_col2, #T_da93b_row18_col2, #T_da93b_row19_col14 {\n",
              "  background-color: #fbf4f9;\n",
              "  color: #000000;\n",
              "}\n",
              "#T_da93b_row2_col14, #T_da93b_row3_col11, #T_da93b_row3_col13, #T_da93b_row5_col14, #T_da93b_row7_col11, #T_da93b_row7_col13, #T_da93b_row8_col12, #T_da93b_row8_col14, #T_da93b_row9_col2, #T_da93b_row10_col14, #T_da93b_row11_col14, #T_da93b_row12_col8, #T_da93b_row13_col2, #T_da93b_row14_col2 {\n",
              "  background-color: #f8f1f8;\n",
              "  color: #000000;\n",
              "}\n",
              "#T_da93b_row2_col15, #T_da93b_row9_col16, #T_da93b_row14_col17 {\n",
              "  background-color: #ebe6f2;\n",
              "  color: #000000;\n",
              "}\n",
              "#T_da93b_row2_col18, #T_da93b_row8_col3, #T_da93b_row8_col7, #T_da93b_row12_col0, #T_da93b_row16_col19 {\n",
              "  background-color: #dddbec;\n",
              "  color: #000000;\n",
              "}\n",
              "#T_da93b_row2_col19, #T_da93b_row11_col8 {\n",
              "  background-color: #f3edf5;\n",
              "  color: #000000;\n",
              "}\n",
              "#T_da93b_row3_col4, #T_da93b_row3_col6, #T_da93b_row4_col13, #T_da93b_row5_col3, #T_da93b_row5_col6, #T_da93b_row5_col7, #T_da93b_row7_col4, #T_da93b_row7_col6 {\n",
              "  background-color: #ced0e6;\n",
              "  color: #000000;\n",
              "}\n",
              "#T_da93b_row3_col8, #T_da93b_row4_col18, #T_da93b_row6_col1, #T_da93b_row7_col8, #T_da93b_row14_col3, #T_da93b_row14_col7 {\n",
              "  background-color: #eae6f1;\n",
              "  color: #000000;\n",
              "}\n",
              "#T_da93b_row3_col16, #T_da93b_row7_col16 {\n",
              "  background-color: #acc0dd;\n",
              "  color: #000000;\n",
              "}\n",
              "#T_da93b_row3_col17, #T_da93b_row3_col18, #T_da93b_row7_col17, #T_da93b_row7_col18, #T_da93b_row14_col10 {\n",
              "  background-color: #c0c9e2;\n",
              "  color: #000000;\n",
              "}\n",
              "#T_da93b_row3_col19, #T_da93b_row7_col19, #T_da93b_row18_col8 {\n",
              "  background-color: #e8e4f0;\n",
              "  color: #000000;\n",
              "}\n",
              "#T_da93b_row4_col0, #T_da93b_row14_col9 {\n",
              "  background-color: #e0dded;\n",
              "  color: #000000;\n",
              "}\n",
              "#T_da93b_row4_col1, #T_da93b_row4_col12, #T_da93b_row8_col9, #T_da93b_row8_col13, #T_da93b_row10_col8, #T_da93b_row14_col15 {\n",
              "  background-color: #efe9f3;\n",
              "  color: #000000;\n",
              "}\n",
              "#T_da93b_row4_col3, #T_da93b_row4_col7, #T_da93b_row14_col0, #T_da93b_row19_col8 {\n",
              "  background-color: #ece7f2;\n",
              "  color: #000000;\n",
              "}\n",
              "#T_da93b_row4_col6, #T_da93b_row17_col1 {\n",
              "  background-color: #bcc7e1;\n",
              "  color: #000000;\n",
              "}\n",
              "#T_da93b_row4_col9, #T_da93b_row9_col12, #T_da93b_row15_col6 {\n",
              "  background-color: #d1d2e6;\n",
              "  color: #000000;\n",
              "}\n",
              "#T_da93b_row4_col10, #T_da93b_row5_col10, #T_da93b_row8_col6, #T_da93b_row11_col16 {\n",
              "  background-color: #c6cce3;\n",
              "  color: #000000;\n",
              "}\n",
              "#T_da93b_row4_col11 {\n",
              "  background-color: #f5eef6;\n",
              "  color: #000000;\n",
              "}\n",
              "#T_da93b_row4_col17, #T_da93b_row14_col12, #T_da93b_row19_col0 {\n",
              "  background-color: #f4edf6;\n",
              "  color: #000000;\n",
              "}\n",
              "#T_da93b_row5_col0, #T_da93b_row6_col2, #T_da93b_row13_col11, #T_da93b_row18_col12 {\n",
              "  background-color: #fcf4fa;\n",
              "  color: #000000;\n",
              "}\n",
              "#T_da93b_row5_col8 {\n",
              "  background-color: #73a9cf;\n",
              "  color: #f1f1f1;\n",
              "}\n",
              "#T_da93b_row5_col16 {\n",
              "  background-color: #a2bcda;\n",
              "  color: #000000;\n",
              "}\n",
              "#T_da93b_row5_col17 {\n",
              "  background-color: #b7c5df;\n",
              "  color: #000000;\n",
              "}\n",
              "#T_da93b_row5_col18, #T_da93b_row9_col4 {\n",
              "  background-color: #b4c4df;\n",
              "  color: #000000;\n",
              "}\n",
              "#T_da93b_row5_col19, #T_da93b_row18_col19 {\n",
              "  background-color: #e1dfed;\n",
              "  color: #000000;\n",
              "}\n",
              "#T_da93b_row6_col0, #T_da93b_row19_col13 {\n",
              "  background-color: #e9e5f1;\n",
              "  color: #000000;\n",
              "}\n",
              "#T_da93b_row6_col4, #T_da93b_row9_col6, #T_da93b_row9_col10, #T_da93b_row12_col6, #T_da93b_row12_col10, #T_da93b_row16_col18 {\n",
              "  background-color: #bfc9e1;\n",
              "  color: #000000;\n",
              "}\n",
              "#T_da93b_row6_col9, #T_da93b_row10_col9, #T_da93b_row14_col18 {\n",
              "  background-color: #dad9ea;\n",
              "  color: #000000;\n",
              "}\n",
              "#T_da93b_row6_col12, #T_da93b_row12_col18 {\n",
              "  background-color: #ede8f3;\n",
              "  color: #000000;\n",
              "}\n",
              "#T_da93b_row6_col16 {\n",
              "  background-color: #d8d7e9;\n",
              "  color: #000000;\n",
              "}\n",
              "#T_da93b_row6_col19, #T_da93b_row9_col17, #T_da93b_row10_col2, #T_da93b_row12_col15, #T_da93b_row13_col15, #T_da93b_row15_col2, #T_da93b_row16_col2, #T_da93b_row19_col2, #T_da93b_row19_col11 {\n",
              "  background-color: #faf3f9;\n",
              "  color: #000000;\n",
              "}\n",
              "#T_da93b_row8_col1, #T_da93b_row14_col13, #T_da93b_row15_col8 {\n",
              "  background-color: #dfddec;\n",
              "  color: #000000;\n",
              "}\n",
              "#T_da93b_row8_col5 {\n",
              "  background-color: #589ec8;\n",
              "  color: #f1f1f1;\n",
              "}\n",
              "#T_da93b_row8_col16, #T_da93b_row13_col4, #T_da93b_row18_col5 {\n",
              "  background-color: #b3c3de;\n",
              "  color: #000000;\n",
              "}\n",
              "#T_da93b_row8_col18, #T_da93b_row18_col4 {\n",
              "  background-color: #d4d4e8;\n",
              "  color: #000000;\n",
              "}\n",
              "#T_da93b_row9_col0, #T_da93b_row11_col4, #T_da93b_row13_col10, #T_da93b_row16_col17 {\n",
              "  background-color: #bdc8e1;\n",
              "  color: #000000;\n",
              "}\n",
              "#T_da93b_row9_col1, #T_da93b_row9_col5, #T_da93b_row9_col8, #T_da93b_row15_col12, #T_da93b_row18_col9 {\n",
              "  background-color: #fef6fa;\n",
              "  color: #000000;\n",
              "}\n",
              "#T_da93b_row9_col13 {\n",
              "  background-color: #034b76;\n",
              "  color: #f1f1f1;\n",
              "}\n",
              "#T_da93b_row10_col3, #T_da93b_row10_col7 {\n",
              "  background-color: #e6e2ef;\n",
              "  color: #000000;\n",
              "}\n",
              "#T_da93b_row10_col4, #T_da93b_row16_col10, #T_da93b_row17_col10 {\n",
              "  background-color: #c8cde4;\n",
              "  color: #000000;\n",
              "}\n",
              "#T_da93b_row10_col16, #T_da93b_row15_col10, #T_da93b_row18_col3, #T_da93b_row18_col7 {\n",
              "  background-color: #cacee5;\n",
              "  color: #000000;\n",
              "}\n",
              "#T_da93b_row11_col0 {\n",
              "  background-color: #eee9f3;\n",
              "  color: #000000;\n",
              "}\n",
              "#T_da93b_row11_col1 {\n",
              "  background-color: #e0deed;\n",
              "  color: #000000;\n",
              "}\n",
              "#T_da93b_row11_col3, #T_da93b_row11_col7, #T_da93b_row14_col1, #T_da93b_row16_col8 {\n",
              "  background-color: #e2dfee;\n",
              "  color: #000000;\n",
              "}\n",
              "#T_da93b_row11_col5 {\n",
              "  background-color: #dbdaeb;\n",
              "  color: #000000;\n",
              "}\n",
              "#T_da93b_row11_col10, #T_da93b_row14_col4, #T_da93b_row19_col15 {\n",
              "  background-color: #c9cee4;\n",
              "  color: #000000;\n",
              "}\n",
              "#T_da93b_row12_col5, #T_da93b_row14_col8, #T_da93b_row15_col13 {\n",
              "  background-color: #eee8f3;\n",
              "  color: #000000;\n",
              "}\n",
              "#T_da93b_row12_col13 {\n",
              "  background-color: #b5c4df;\n",
              "  color: #000000;\n",
              "}\n",
              "#T_da93b_row12_col16, #T_da93b_row15_col19, #T_da93b_row17_col4 {\n",
              "  background-color: #d5d5e8;\n",
              "  color: #000000;\n",
              "}\n",
              "#T_da93b_row13_col9 {\n",
              "  background-color: #034c78;\n",
              "  color: #f1f1f1;\n",
              "}\n",
              "#T_da93b_row15_col4, #T_da93b_row17_col6, #T_da93b_row19_col1 {\n",
              "  background-color: #d2d3e7;\n",
              "  color: #000000;\n",
              "}\n",
              "#T_da93b_row15_col11, #T_da93b_row19_col12 {\n",
              "  background-color: #f6eff7;\n",
              "  color: #000000;\n",
              "}\n",
              "#T_da93b_row15_col16 {\n",
              "  background-color: #9ebad9;\n",
              "  color: #000000;\n",
              "}\n",
              "#T_da93b_row15_col17, #T_da93b_row17_col15 {\n",
              "  background-color: #045280;\n",
              "  color: #f1f1f1;\n",
              "}\n",
              "#T_da93b_row15_col18 {\n",
              "  background-color: #b1c2de;\n",
              "  color: #000000;\n",
              "}\n",
              "#T_da93b_row16_col3, #T_da93b_row16_col7, #T_da93b_row19_col4 {\n",
              "  background-color: #d2d2e7;\n",
              "  color: #000000;\n",
              "}\n",
              "#T_da93b_row16_col6 {\n",
              "  background-color: #d6d6e9;\n",
              "  color: #000000;\n",
              "}\n",
              "#T_da93b_row17_col5 {\n",
              "  background-color: #a8bedc;\n",
              "  color: #000000;\n",
              "}\n",
              "#T_da93b_row17_col8 {\n",
              "  background-color: #dcdaeb;\n",
              "  color: #000000;\n",
              "}\n",
              "#T_da93b_row17_col16 {\n",
              "  background-color: #94b6d7;\n",
              "  color: #000000;\n",
              "}\n",
              "#T_da93b_row18_col1 {\n",
              "  background-color: #046096;\n",
              "  color: #f1f1f1;\n",
              "}\n",
              "#T_da93b_row18_col16, #T_da93b_row19_col16 {\n",
              "  background-color: #a5bddb;\n",
              "  color: #000000;\n",
              "}\n",
              "#T_da93b_row18_col17 {\n",
              "  background-color: #b8c6e0;\n",
              "  color: #000000;\n",
              "}\n",
              "</style>\n",
              "<table id=\"T_da93b_\" class=\"dataframe\">\n",
              "  <thead>\n",
              "    <tr>\n",
              "      <th class=\"blank level0\" >&nbsp;</th>\n",
              "      <th class=\"col_heading level0 col0\" >Anhedonia</th>\n",
              "      <th class=\"col_heading level0 col1\" >Apathy</th>\n",
              "      <th class=\"col_heading level0 col2\" >Appetite</th>\n",
              "      <th class=\"col_heading level0 col3\" >Concentration</th>\n",
              "      <th class=\"col_heading level0 col4\" >Content</th>\n",
              "      <th class=\"col_heading level0 col5\" >Delusion</th>\n",
              "      <th class=\"col_heading level0 col6\" >Dep_Mood</th>\n",
              "      <th class=\"col_heading level0 col7\" >Focus</th>\n",
              "      <th class=\"col_heading level0 col8\" >Hallucination</th>\n",
              "      <th class=\"col_heading level0 col9\" >Intrusive_Thoughts</th>\n",
              "      <th class=\"col_heading level0 col10\" >Passive</th>\n",
              "      <th class=\"col_heading level0 col11\" >Pregnant</th>\n",
              "      <th class=\"col_heading level0 col12\" >Psychomotor</th>\n",
              "      <th class=\"col_heading level0 col13\" >Rumination</th>\n",
              "      <th class=\"col_heading level0 col14\" >Sleep</th>\n",
              "      <th class=\"col_heading level0 col15\" >Stress</th>\n",
              "      <th class=\"col_heading level0 col16\" >Suspicious</th>\n",
              "      <th class=\"col_heading level0 col17\" >Tension</th>\n",
              "      <th class=\"col_heading level0 col18\" >Unusual_Thought</th>\n",
              "      <th class=\"col_heading level0 col19\" >Withdrawal</th>\n",
              "    </tr>\n",
              "  </thead>\n",
              "  <tbody>\n",
              "    <tr>\n",
              "      <th id=\"T_da93b_level0_row0\" class=\"row_heading level0 row0\" >Anhedonia</th>\n",
              "      <td id=\"T_da93b_row0_col0\" class=\"data row0 col0\" >1.000000</td>\n",
              "      <td id=\"T_da93b_row0_col1\" class=\"data row0 col1\" >-0.087146</td>\n",
              "      <td id=\"T_da93b_row0_col2\" class=\"data row0 col2\" >0.028458</td>\n",
              "      <td id=\"T_da93b_row0_col3\" class=\"data row0 col3\" >-0.103457</td>\n",
              "      <td id=\"T_da93b_row0_col4\" class=\"data row0 col4\" >0.047178</td>\n",
              "      <td id=\"T_da93b_row0_col5\" class=\"data row0 col5\" >-0.137018</td>\n",
              "      <td id=\"T_da93b_row0_col6\" class=\"data row0 col6\" >-0.001519</td>\n",
              "      <td id=\"T_da93b_row0_col7\" class=\"data row0 col7\" >-0.103457</td>\n",
              "      <td id=\"T_da93b_row0_col8\" class=\"data row0 col8\" >-0.053082</td>\n",
              "      <td id=\"T_da93b_row0_col9\" class=\"data row0 col9\" >0.195297</td>\n",
              "      <td id=\"T_da93b_row0_col10\" class=\"data row0 col10\" >0.010750</td>\n",
              "      <td id=\"T_da93b_row0_col11\" class=\"data row0 col11\" >-0.032762</td>\n",
              "      <td id=\"T_da93b_row0_col12\" class=\"data row0 col12\" >0.060917</td>\n",
              "      <td id=\"T_da93b_row0_col13\" class=\"data row0 col13\" >0.202069</td>\n",
              "      <td id=\"T_da93b_row0_col14\" class=\"data row0 col14\" >-0.014005</td>\n",
              "      <td id=\"T_da93b_row0_col15\" class=\"data row0 col15\" >-0.141027</td>\n",
              "      <td id=\"T_da93b_row0_col16\" class=\"data row0 col16\" >-0.089604</td>\n",
              "      <td id=\"T_da93b_row0_col17\" class=\"data row0 col17\" >-0.162854</td>\n",
              "      <td id=\"T_da93b_row0_col18\" class=\"data row0 col18\" >-0.119673</td>\n",
              "      <td id=\"T_da93b_row0_col19\" class=\"data row0 col19\" >-0.075209</td>\n",
              "    </tr>\n",
              "    <tr>\n",
              "      <th id=\"T_da93b_level0_row1\" class=\"row_heading level0 row1\" >Apathy</th>\n",
              "      <td id=\"T_da93b_row1_col0\" class=\"data row1 col0\" >-0.087146</td>\n",
              "      <td id=\"T_da93b_row1_col1\" class=\"data row1 col1\" >1.000000</td>\n",
              "      <td id=\"T_da93b_row1_col2\" class=\"data row1 col2\" >0.002106</td>\n",
              "      <td id=\"T_da93b_row1_col3\" class=\"data row1 col3\" >0.107747</td>\n",
              "      <td id=\"T_da93b_row1_col4\" class=\"data row1 col4\" >-0.064405</td>\n",
              "      <td id=\"T_da93b_row1_col5\" class=\"data row1 col5\" >0.145132</td>\n",
              "      <td id=\"T_da93b_row1_col6\" class=\"data row1 col6\" >-0.031882</td>\n",
              "      <td id=\"T_da93b_row1_col7\" class=\"data row1 col7\" >0.107747</td>\n",
              "      <td id=\"T_da93b_row1_col8\" class=\"data row1 col8\" >0.026718</td>\n",
              "      <td id=\"T_da93b_row1_col9\" class=\"data row1 col9\" >-0.182515</td>\n",
              "      <td id=\"T_da93b_row1_col10\" class=\"data row1 col10\" >-0.003923</td>\n",
              "      <td id=\"T_da93b_row1_col11\" class=\"data row1 col11\" >0.018414</td>\n",
              "      <td id=\"T_da93b_row1_col12\" class=\"data row1 col12\" >-0.071669</td>\n",
              "      <td id=\"T_da93b_row1_col13\" class=\"data row1 col13\" >-0.193687</td>\n",
              "      <td id=\"T_da93b_row1_col14\" class=\"data row1 col14\" >0.008407</td>\n",
              "      <td id=\"T_da93b_row1_col15\" class=\"data row1 col15\" >0.157259</td>\n",
              "      <td id=\"T_da93b_row1_col16\" class=\"data row1 col16\" >0.114802</td>\n",
              "      <td id=\"T_da93b_row1_col17\" class=\"data row1 col17\" >0.178003</td>\n",
              "      <td id=\"T_da93b_row1_col18\" class=\"data row1 col18\" >0.812859</td>\n",
              "      <td id=\"T_da93b_row1_col19\" class=\"data row1 col19\" >0.093710</td>\n",
              "    </tr>\n",
              "    <tr>\n",
              "      <th id=\"T_da93b_level0_row2\" class=\"row_heading level0 row2\" >Appetite</th>\n",
              "      <td id=\"T_da93b_row2_col0\" class=\"data row2 col0\" >0.028458</td>\n",
              "      <td id=\"T_da93b_row2_col1\" class=\"data row2 col1\" >0.002106</td>\n",
              "      <td id=\"T_da93b_row2_col2\" class=\"data row2 col2\" >1.000000</td>\n",
              "      <td id=\"T_da93b_row2_col3\" class=\"data row2 col3\" >-0.015122</td>\n",
              "      <td id=\"T_da93b_row2_col4\" class=\"data row2 col4\" >-0.028787</td>\n",
              "      <td id=\"T_da93b_row2_col5\" class=\"data row2 col5\" >-0.009600</td>\n",
              "      <td id=\"T_da93b_row2_col6\" class=\"data row2 col6\" >-0.007046</td>\n",
              "      <td id=\"T_da93b_row2_col7\" class=\"data row2 col7\" >-0.015122</td>\n",
              "      <td id=\"T_da93b_row2_col8\" class=\"data row2 col8\" >-0.002647</td>\n",
              "      <td id=\"T_da93b_row2_col9\" class=\"data row2 col9\" >0.023354</td>\n",
              "      <td id=\"T_da93b_row2_col10\" class=\"data row2 col10\" >0.004908</td>\n",
              "      <td id=\"T_da93b_row2_col11\" class=\"data row2 col11\" >-0.010042</td>\n",
              "      <td id=\"T_da93b_row2_col12\" class=\"data row2 col12\" >-0.023503</td>\n",
              "      <td id=\"T_da93b_row2_col13\" class=\"data row2 col13\" >0.020573</td>\n",
              "      <td id=\"T_da93b_row2_col14\" class=\"data row2 col14\" >0.016495</td>\n",
              "      <td id=\"T_da93b_row2_col15\" class=\"data row2 col15\" >0.006104</td>\n",
              "      <td id=\"T_da93b_row2_col16\" class=\"data row2 col16\" >0.005787</td>\n",
              "      <td id=\"T_da93b_row2_col17\" class=\"data row2 col17\" >0.011619</td>\n",
              "      <td id=\"T_da93b_row2_col18\" class=\"data row2 col18\" >-0.001190</td>\n",
              "      <td id=\"T_da93b_row2_col19\" class=\"data row2 col19\" >0.005644</td>\n",
              "    </tr>\n",
              "    <tr>\n",
              "      <th id=\"T_da93b_level0_row3\" class=\"row_heading level0 row3\" >Concentration</th>\n",
              "      <td id=\"T_da93b_row3_col0\" class=\"data row3 col0\" >-0.103457</td>\n",
              "      <td id=\"T_da93b_row3_col1\" class=\"data row3 col1\" >0.107747</td>\n",
              "      <td id=\"T_da93b_row3_col2\" class=\"data row3 col2\" >-0.015122</td>\n",
              "      <td id=\"T_da93b_row3_col3\" class=\"data row3 col3\" >1.000000</td>\n",
              "      <td id=\"T_da93b_row3_col4\" class=\"data row3 col4\" >-0.038601</td>\n",
              "      <td id=\"T_da93b_row3_col5\" class=\"data row3 col5\" >0.115106</td>\n",
              "      <td id=\"T_da93b_row3_col6\" class=\"data row3 col6\" >-0.043574</td>\n",
              "      <td id=\"T_da93b_row3_col7\" class=\"data row3 col7\" >1.000000</td>\n",
              "      <td id=\"T_da93b_row3_col8\" class=\"data row3 col8\" >0.038687</td>\n",
              "      <td id=\"T_da93b_row3_col9\" class=\"data row3 col9\" >-0.167951</td>\n",
              "      <td id=\"T_da93b_row3_col10\" class=\"data row3 col10\" >-0.006648</td>\n",
              "      <td id=\"T_da93b_row3_col11\" class=\"data row3 col11\" >0.012683</td>\n",
              "      <td id=\"T_da93b_row3_col12\" class=\"data row3 col12\" >-0.071971</td>\n",
              "      <td id=\"T_da93b_row3_col13\" class=\"data row3 col13\" >-0.190818</td>\n",
              "      <td id=\"T_da93b_row3_col14\" class=\"data row3 col14\" >-0.030384</td>\n",
              "      <td id=\"T_da93b_row3_col15\" class=\"data row3 col15\" >0.181396</td>\n",
              "      <td id=\"T_da93b_row3_col16\" class=\"data row3 col16\" >0.101632</td>\n",
              "      <td id=\"T_da93b_row3_col17\" class=\"data row3 col17\" >0.184090</td>\n",
              "      <td id=\"T_da93b_row3_col18\" class=\"data row3 col18\" >0.127945</td>\n",
              "      <td id=\"T_da93b_row3_col19\" class=\"data row3 col19\" >0.072692</td>\n",
              "    </tr>\n",
              "    <tr>\n",
              "      <th id=\"T_da93b_level0_row4\" class=\"row_heading level0 row4\" >Content</th>\n",
              "      <td id=\"T_da93b_row4_col0\" class=\"data row4 col0\" >0.047178</td>\n",
              "      <td id=\"T_da93b_row4_col1\" class=\"data row4 col1\" >-0.064405</td>\n",
              "      <td id=\"T_da93b_row4_col2\" class=\"data row4 col2\" >-0.028787</td>\n",
              "      <td id=\"T_da93b_row4_col3\" class=\"data row4 col3\" >-0.038601</td>\n",
              "      <td id=\"T_da93b_row4_col4\" class=\"data row4 col4\" >1.000000</td>\n",
              "      <td id=\"T_da93b_row4_col5\" class=\"data row4 col5\" >-0.062656</td>\n",
              "      <td id=\"T_da93b_row4_col6\" class=\"data row4 col6\" >0.030003</td>\n",
              "      <td id=\"T_da93b_row4_col7\" class=\"data row4 col7\" >-0.038601</td>\n",
              "      <td id=\"T_da93b_row4_col8\" class=\"data row4 col8\" >-0.031946</td>\n",
              "      <td id=\"T_da93b_row4_col9\" class=\"data row4 col9\" >0.072818</td>\n",
              "      <td id=\"T_da93b_row4_col10\" class=\"data row4 col10\" >-0.012404</td>\n",
              "      <td id=\"T_da93b_row4_col11\" class=\"data row4 col11\" >0.034771</td>\n",
              "      <td id=\"T_da93b_row4_col12\" class=\"data row4 col12\" >0.002365</td>\n",
              "      <td id=\"T_da93b_row4_col13\" class=\"data row4 col13\" >0.074279</td>\n",
              "      <td id=\"T_da93b_row4_col14\" class=\"data row4 col14\" >-0.014943</td>\n",
              "      <td id=\"T_da93b_row4_col15\" class=\"data row4 col15\" >-0.060263</td>\n",
              "      <td id=\"T_da93b_row4_col16\" class=\"data row4 col16\" >-0.395027</td>\n",
              "      <td id=\"T_da93b_row4_col17\" class=\"data row4 col17\" >-0.075790</td>\n",
              "      <td id=\"T_da93b_row4_col18\" class=\"data row4 col18\" >-0.073211</td>\n",
              "      <td id=\"T_da93b_row4_col19\" class=\"data row4 col19\" >-0.054486</td>\n",
              "    </tr>\n",
              "    <tr>\n",
              "      <th id=\"T_da93b_level0_row5\" class=\"row_heading level0 row5\" >Delusion</th>\n",
              "      <td id=\"T_da93b_row5_col0\" class=\"data row5 col0\" >-0.137018</td>\n",
              "      <td id=\"T_da93b_row5_col1\" class=\"data row5 col1\" >0.145132</td>\n",
              "      <td id=\"T_da93b_row5_col2\" class=\"data row5 col2\" >-0.009600</td>\n",
              "      <td id=\"T_da93b_row5_col3\" class=\"data row5 col3\" >0.115106</td>\n",
              "      <td id=\"T_da93b_row5_col4\" class=\"data row5 col4\" >-0.062656</td>\n",
              "      <td id=\"T_da93b_row5_col5\" class=\"data row5 col5\" >1.000000</td>\n",
              "      <td id=\"T_da93b_row5_col6\" class=\"data row5 col6\" >-0.045544</td>\n",
              "      <td id=\"T_da93b_row5_col7\" class=\"data row5 col7\" >0.115106</td>\n",
              "      <td id=\"T_da93b_row5_col8\" class=\"data row5 col8\" >0.446102</td>\n",
              "      <td id=\"T_da93b_row5_col9\" class=\"data row5 col9\" >-0.232700</td>\n",
              "      <td id=\"T_da93b_row5_col10\" class=\"data row5 col10\" >-0.012481</td>\n",
              "      <td id=\"T_da93b_row5_col11\" class=\"data row5 col11\" >0.002120</td>\n",
              "      <td id=\"T_da93b_row5_col12\" class=\"data row5 col12\" >-0.101670</td>\n",
              "      <td id=\"T_da93b_row5_col13\" class=\"data row5 col13\" >-0.246398</td>\n",
              "      <td id=\"T_da93b_row5_col14\" class=\"data row5 col14\" >0.019044</td>\n",
              "      <td id=\"T_da93b_row5_col15\" class=\"data row5 col15\" >0.185466</td>\n",
              "      <td id=\"T_da93b_row5_col16\" class=\"data row5 col16\" >0.144114</td>\n",
              "      <td id=\"T_da93b_row5_col17\" class=\"data row5 col17\" >0.215114</td>\n",
              "      <td id=\"T_da93b_row5_col18\" class=\"data row5 col18\" >0.172897</td>\n",
              "      <td id=\"T_da93b_row5_col19\" class=\"data row5 col19\" >0.108807</td>\n",
              "    </tr>\n",
              "    <tr>\n",
              "      <th id=\"T_da93b_level0_row6\" class=\"row_heading level0 row6\" >Dep_Mood</th>\n",
              "      <td id=\"T_da93b_row6_col0\" class=\"data row6 col0\" >-0.001519</td>\n",
              "      <td id=\"T_da93b_row6_col1\" class=\"data row6 col1\" >-0.031882</td>\n",
              "      <td id=\"T_da93b_row6_col2\" class=\"data row6 col2\" >-0.007046</td>\n",
              "      <td id=\"T_da93b_row6_col3\" class=\"data row6 col3\" >-0.043574</td>\n",
              "      <td id=\"T_da93b_row6_col4\" class=\"data row6 col4\" >0.030003</td>\n",
              "      <td id=\"T_da93b_row6_col5\" class=\"data row6 col5\" >-0.045544</td>\n",
              "      <td id=\"T_da93b_row6_col6\" class=\"data row6 col6\" >1.000000</td>\n",
              "      <td id=\"T_da93b_row6_col7\" class=\"data row6 col7\" >-0.043574</td>\n",
              "      <td id=\"T_da93b_row6_col8\" class=\"data row6 col8\" >-0.011256</td>\n",
              "      <td id=\"T_da93b_row6_col9\" class=\"data row6 col9\" >0.022233</td>\n",
              "      <td id=\"T_da93b_row6_col10\" class=\"data row6 col10\" >-0.404670</td>\n",
              "      <td id=\"T_da93b_row6_col11\" class=\"data row6 col11\" >0.007187</td>\n",
              "      <td id=\"T_da93b_row6_col12\" class=\"data row6 col12\" >0.018221</td>\n",
              "      <td id=\"T_da93b_row6_col13\" class=\"data row6 col13\" >0.011648</td>\n",
              "      <td id=\"T_da93b_row6_col14\" class=\"data row6 col14\" >0.011746</td>\n",
              "      <td id=\"T_da93b_row6_col15\" class=\"data row6 col15\" >-0.058349</td>\n",
              "      <td id=\"T_da93b_row6_col16\" class=\"data row6 col16\" >-0.090865</td>\n",
              "      <td id=\"T_da93b_row6_col17\" class=\"data row6 col17\" >-0.064671</td>\n",
              "      <td id=\"T_da93b_row6_col18\" class=\"data row6 col18\" >-0.038897</td>\n",
              "      <td id=\"T_da93b_row6_col19\" class=\"data row6 col19\" >-0.042382</td>\n",
              "    </tr>\n",
              "    <tr>\n",
              "      <th id=\"T_da93b_level0_row7\" class=\"row_heading level0 row7\" >Focus</th>\n",
              "      <td id=\"T_da93b_row7_col0\" class=\"data row7 col0\" >-0.103457</td>\n",
              "      <td id=\"T_da93b_row7_col1\" class=\"data row7 col1\" >0.107747</td>\n",
              "      <td id=\"T_da93b_row7_col2\" class=\"data row7 col2\" >-0.015122</td>\n",
              "      <td id=\"T_da93b_row7_col3\" class=\"data row7 col3\" >1.000000</td>\n",
              "      <td id=\"T_da93b_row7_col4\" class=\"data row7 col4\" >-0.038601</td>\n",
              "      <td id=\"T_da93b_row7_col5\" class=\"data row7 col5\" >0.115106</td>\n",
              "      <td id=\"T_da93b_row7_col6\" class=\"data row7 col6\" >-0.043574</td>\n",
              "      <td id=\"T_da93b_row7_col7\" class=\"data row7 col7\" >1.000000</td>\n",
              "      <td id=\"T_da93b_row7_col8\" class=\"data row7 col8\" >0.038687</td>\n",
              "      <td id=\"T_da93b_row7_col9\" class=\"data row7 col9\" >-0.167951</td>\n",
              "      <td id=\"T_da93b_row7_col10\" class=\"data row7 col10\" >-0.006648</td>\n",
              "      <td id=\"T_da93b_row7_col11\" class=\"data row7 col11\" >0.012683</td>\n",
              "      <td id=\"T_da93b_row7_col12\" class=\"data row7 col12\" >-0.071971</td>\n",
              "      <td id=\"T_da93b_row7_col13\" class=\"data row7 col13\" >-0.190818</td>\n",
              "      <td id=\"T_da93b_row7_col14\" class=\"data row7 col14\" >-0.030384</td>\n",
              "      <td id=\"T_da93b_row7_col15\" class=\"data row7 col15\" >0.181396</td>\n",
              "      <td id=\"T_da93b_row7_col16\" class=\"data row7 col16\" >0.101632</td>\n",
              "      <td id=\"T_da93b_row7_col17\" class=\"data row7 col17\" >0.184090</td>\n",
              "      <td id=\"T_da93b_row7_col18\" class=\"data row7 col18\" >0.127945</td>\n",
              "      <td id=\"T_da93b_row7_col19\" class=\"data row7 col19\" >0.072692</td>\n",
              "    </tr>\n",
              "    <tr>\n",
              "      <th id=\"T_da93b_level0_row8\" class=\"row_heading level0 row8\" >Hallucination</th>\n",
              "      <td id=\"T_da93b_row8_col0\" class=\"data row8 col0\" >-0.053082</td>\n",
              "      <td id=\"T_da93b_row8_col1\" class=\"data row8 col1\" >0.026718</td>\n",
              "      <td id=\"T_da93b_row8_col2\" class=\"data row8 col2\" >-0.002647</td>\n",
              "      <td id=\"T_da93b_row8_col3\" class=\"data row8 col3\" >0.038687</td>\n",
              "      <td id=\"T_da93b_row8_col4\" class=\"data row8 col4\" >-0.031946</td>\n",
              "      <td id=\"T_da93b_row8_col5\" class=\"data row8 col5\" >0.446102</td>\n",
              "      <td id=\"T_da93b_row8_col6\" class=\"data row8 col6\" >-0.011256</td>\n",
              "      <td id=\"T_da93b_row8_col7\" class=\"data row8 col7\" >0.038687</td>\n",
              "      <td id=\"T_da93b_row8_col8\" class=\"data row8 col8\" >1.000000</td>\n",
              "      <td id=\"T_da93b_row8_col9\" class=\"data row8 col9\" >-0.099086</td>\n",
              "      <td id=\"T_da93b_row8_col10\" class=\"data row8 col10\" >0.007514</td>\n",
              "      <td id=\"T_da93b_row8_col11\" class=\"data row8 col11\" >-0.020834</td>\n",
              "      <td id=\"T_da93b_row8_col12\" class=\"data row8 col12\" >-0.061639</td>\n",
              "      <td id=\"T_da93b_row8_col13\" class=\"data row8 col13\" >-0.110613</td>\n",
              "      <td id=\"T_da93b_row8_col14\" class=\"data row8 col14\" >0.015907</td>\n",
              "      <td id=\"T_da93b_row8_col15\" class=\"data row8 col15\" >0.095685</td>\n",
              "      <td id=\"T_da93b_row8_col16\" class=\"data row8 col16\" >0.076141</td>\n",
              "      <td id=\"T_da93b_row8_col17\" class=\"data row8 col17\" >0.110464</td>\n",
              "      <td id=\"T_da93b_row8_col18\" class=\"data row8 col18\" >0.048999</td>\n",
              "      <td id=\"T_da93b_row8_col19\" class=\"data row8 col19\" >0.028669</td>\n",
              "    </tr>\n",
              "    <tr>\n",
              "      <th id=\"T_da93b_level0_row9\" class=\"row_heading level0 row9\" >Intrusive_Thoughts</th>\n",
              "      <td id=\"T_da93b_row9_col0\" class=\"data row9 col0\" >0.195297</td>\n",
              "      <td id=\"T_da93b_row9_col1\" class=\"data row9 col1\" >-0.182515</td>\n",
              "      <td id=\"T_da93b_row9_col2\" class=\"data row9 col2\" >0.023354</td>\n",
              "      <td id=\"T_da93b_row9_col3\" class=\"data row9 col3\" >-0.167951</td>\n",
              "      <td id=\"T_da93b_row9_col4\" class=\"data row9 col4\" >0.072818</td>\n",
              "      <td id=\"T_da93b_row9_col5\" class=\"data row9 col5\" >-0.232700</td>\n",
              "      <td id=\"T_da93b_row9_col6\" class=\"data row9 col6\" >0.022233</td>\n",
              "      <td id=\"T_da93b_row9_col7\" class=\"data row9 col7\" >-0.167951</td>\n",
              "      <td id=\"T_da93b_row9_col8\" class=\"data row9 col8\" >-0.099086</td>\n",
              "      <td id=\"T_da93b_row9_col9\" class=\"data row9 col9\" >1.000000</td>\n",
              "      <td id=\"T_da93b_row9_col10\" class=\"data row9 col10\" >0.020195</td>\n",
              "      <td id=\"T_da93b_row9_col11\" class=\"data row9 col11\" >-0.036063</td>\n",
              "      <td id=\"T_da93b_row9_col12\" class=\"data row9 col12\" >0.160036</td>\n",
              "      <td id=\"T_da93b_row9_col13\" class=\"data row9 col13\" >0.907793</td>\n",
              "      <td id=\"T_da93b_row9_col14\" class=\"data row9 col14\" >-0.010683</td>\n",
              "      <td id=\"T_da93b_row9_col15\" class=\"data row9 col15\" >-0.105531</td>\n",
              "      <td id=\"T_da93b_row9_col16\" class=\"data row9 col16\" >-0.214653</td>\n",
              "      <td id=\"T_da93b_row9_col17\" class=\"data row9 col17\" >-0.123461</td>\n",
              "      <td id=\"T_da93b_row9_col18\" class=\"data row9 col18\" >-0.221437</td>\n",
              "      <td id=\"T_da93b_row9_col19\" class=\"data row9 col19\" >-0.080340</td>\n",
              "    </tr>\n",
              "    <tr>\n",
              "      <th id=\"T_da93b_level0_row10\" class=\"row_heading level0 row10\" >Passive</th>\n",
              "      <td id=\"T_da93b_row10_col0\" class=\"data row10 col0\" >0.010750</td>\n",
              "      <td id=\"T_da93b_row10_col1\" class=\"data row10 col1\" >-0.003923</td>\n",
              "      <td id=\"T_da93b_row10_col2\" class=\"data row10 col2\" >0.004908</td>\n",
              "      <td id=\"T_da93b_row10_col3\" class=\"data row10 col3\" >-0.006648</td>\n",
              "      <td id=\"T_da93b_row10_col4\" class=\"data row10 col4\" >-0.012404</td>\n",
              "      <td id=\"T_da93b_row10_col5\" class=\"data row10 col5\" >-0.012481</td>\n",
              "      <td id=\"T_da93b_row10_col6\" class=\"data row10 col6\" >-0.404670</td>\n",
              "      <td id=\"T_da93b_row10_col7\" class=\"data row10 col7\" >-0.006648</td>\n",
              "      <td id=\"T_da93b_row10_col8\" class=\"data row10 col8\" >0.007514</td>\n",
              "      <td id=\"T_da93b_row10_col9\" class=\"data row10 col9\" >0.020195</td>\n",
              "      <td id=\"T_da93b_row10_col10\" class=\"data row10 col10\" >1.000000</td>\n",
              "      <td id=\"T_da93b_row10_col11\" class=\"data row10 col11\" >-0.022250</td>\n",
              "      <td id=\"T_da93b_row10_col12\" class=\"data row10 col12\" >0.022604</td>\n",
              "      <td id=\"T_da93b_row10_col13\" class=\"data row10 col13\" >0.028510</td>\n",
              "      <td id=\"T_da93b_row10_col14\" class=\"data row10 col14\" >0.015243</td>\n",
              "      <td id=\"T_da93b_row10_col15\" class=\"data row10 col15\" >-0.030859</td>\n",
              "      <td id=\"T_da93b_row10_col16\" class=\"data row10 col16\" >-0.019477</td>\n",
              "      <td id=\"T_da93b_row10_col17\" class=\"data row10 col17\" >-0.018675</td>\n",
              "      <td id=\"T_da93b_row10_col18\" class=\"data row10 col18\" >-0.005470</td>\n",
              "      <td id=\"T_da93b_row10_col19\" class=\"data row10 col19\" >0.008342</td>\n",
              "    </tr>\n",
              "    <tr>\n",
              "      <th id=\"T_da93b_level0_row11\" class=\"row_heading level0 row11\" >Pregnant</th>\n",
              "      <td id=\"T_da93b_row11_col0\" class=\"data row11 col0\" >-0.032762</td>\n",
              "      <td id=\"T_da93b_row11_col1\" class=\"data row11 col1\" >0.018414</td>\n",
              "      <td id=\"T_da93b_row11_col2\" class=\"data row11 col2\" >-0.010042</td>\n",
              "      <td id=\"T_da93b_row11_col3\" class=\"data row11 col3\" >0.012683</td>\n",
              "      <td id=\"T_da93b_row11_col4\" class=\"data row11 col4\" >0.034771</td>\n",
              "      <td id=\"T_da93b_row11_col5\" class=\"data row11 col5\" >0.002120</td>\n",
              "      <td id=\"T_da93b_row11_col6\" class=\"data row11 col6\" >0.007187</td>\n",
              "      <td id=\"T_da93b_row11_col7\" class=\"data row11 col7\" >0.012683</td>\n",
              "      <td id=\"T_da93b_row11_col8\" class=\"data row11 col8\" >-0.020834</td>\n",
              "      <td id=\"T_da93b_row11_col9\" class=\"data row11 col9\" >-0.036063</td>\n",
              "      <td id=\"T_da93b_row11_col10\" class=\"data row11 col10\" >-0.022250</td>\n",
              "      <td id=\"T_da93b_row11_col11\" class=\"data row11 col11\" >1.000000</td>\n",
              "      <td id=\"T_da93b_row11_col12\" class=\"data row11 col12\" >-0.007210</td>\n",
              "      <td id=\"T_da93b_row11_col13\" class=\"data row11 col13\" >-0.011992</td>\n",
              "      <td id=\"T_da93b_row11_col14\" class=\"data row11 col14\" >0.018370</td>\n",
              "      <td id=\"T_da93b_row11_col15\" class=\"data row11 col15\" >0.028443</td>\n",
              "      <td id=\"T_da93b_row11_col16\" class=\"data row11 col16\" >-0.006086</td>\n",
              "      <td id=\"T_da93b_row11_col17\" class=\"data row11 col17\" >0.030501</td>\n",
              "      <td id=\"T_da93b_row11_col18\" class=\"data row11 col18\" >0.020422</td>\n",
              "      <td id=\"T_da93b_row11_col19\" class=\"data row11 col19\" >-0.003607</td>\n",
              "    </tr>\n",
              "    <tr>\n",
              "      <th id=\"T_da93b_level0_row12\" class=\"row_heading level0 row12\" >Psychomotor</th>\n",
              "      <td id=\"T_da93b_row12_col0\" class=\"data row12 col0\" >0.060917</td>\n",
              "      <td id=\"T_da93b_row12_col1\" class=\"data row12 col1\" >-0.071669</td>\n",
              "      <td id=\"T_da93b_row12_col2\" class=\"data row12 col2\" >-0.023503</td>\n",
              "      <td id=\"T_da93b_row12_col3\" class=\"data row12 col3\" >-0.071971</td>\n",
              "      <td id=\"T_da93b_row12_col4\" class=\"data row12 col4\" >0.002365</td>\n",
              "      <td id=\"T_da93b_row12_col5\" class=\"data row12 col5\" >-0.101670</td>\n",
              "      <td id=\"T_da93b_row12_col6\" class=\"data row12 col6\" >0.018221</td>\n",
              "      <td id=\"T_da93b_row12_col7\" class=\"data row12 col7\" >-0.071971</td>\n",
              "      <td id=\"T_da93b_row12_col8\" class=\"data row12 col8\" >-0.061639</td>\n",
              "      <td id=\"T_da93b_row12_col9\" class=\"data row12 col9\" >0.160036</td>\n",
              "      <td id=\"T_da93b_row12_col10\" class=\"data row12 col10\" >0.022604</td>\n",
              "      <td id=\"T_da93b_row12_col11\" class=\"data row12 col11\" >-0.007210</td>\n",
              "      <td id=\"T_da93b_row12_col12\" class=\"data row12 col12\" >1.000000</td>\n",
              "      <td id=\"T_da93b_row12_col13\" class=\"data row12 col13\" >0.166637</td>\n",
              "      <td id=\"T_da93b_row12_col14\" class=\"data row12 col14\" >-0.028548</td>\n",
              "      <td id=\"T_da93b_row12_col15\" class=\"data row12 col15\" >-0.105286</td>\n",
              "      <td id=\"T_da93b_row12_col16\" class=\"data row12 col16\" >-0.075369</td>\n",
              "      <td id=\"T_da93b_row12_col17\" class=\"data row12 col17\" >-0.115610</td>\n",
              "      <td id=\"T_da93b_row12_col18\" class=\"data row12 col18\" >-0.091341</td>\n",
              "      <td id=\"T_da93b_row12_col19\" class=\"data row12 col19\" >-0.046948</td>\n",
              "    </tr>\n",
              "    <tr>\n",
              "      <th id=\"T_da93b_level0_row13\" class=\"row_heading level0 row13\" >Rumination</th>\n",
              "      <td id=\"T_da93b_row13_col0\" class=\"data row13 col0\" >0.202069</td>\n",
              "      <td id=\"T_da93b_row13_col1\" class=\"data row13 col1\" >-0.193687</td>\n",
              "      <td id=\"T_da93b_row13_col2\" class=\"data row13 col2\" >0.020573</td>\n",
              "      <td id=\"T_da93b_row13_col3\" class=\"data row13 col3\" >-0.190818</td>\n",
              "      <td id=\"T_da93b_row13_col4\" class=\"data row13 col4\" >0.074279</td>\n",
              "      <td id=\"T_da93b_row13_col5\" class=\"data row13 col5\" >-0.246398</td>\n",
              "      <td id=\"T_da93b_row13_col6\" class=\"data row13 col6\" >0.011648</td>\n",
              "      <td id=\"T_da93b_row13_col7\" class=\"data row13 col7\" >-0.190818</td>\n",
              "      <td id=\"T_da93b_row13_col8\" class=\"data row13 col8\" >-0.110613</td>\n",
              "      <td id=\"T_da93b_row13_col9\" class=\"data row13 col9\" >0.907793</td>\n",
              "      <td id=\"T_da93b_row13_col10\" class=\"data row13 col10\" >0.028510</td>\n",
              "      <td id=\"T_da93b_row13_col11\" class=\"data row13 col11\" >-0.011992</td>\n",
              "      <td id=\"T_da93b_row13_col12\" class=\"data row13 col12\" >0.166637</td>\n",
              "      <td id=\"T_da93b_row13_col13\" class=\"data row13 col13\" >1.000000</td>\n",
              "      <td id=\"T_da93b_row13_col14\" class=\"data row13 col14\" >-0.015916</td>\n",
              "      <td id=\"T_da93b_row13_col15\" class=\"data row13 col15\" >-0.103619</td>\n",
              "      <td id=\"T_da93b_row13_col16\" class=\"data row13 col16\" >-0.222629</td>\n",
              "      <td id=\"T_da93b_row13_col17\" class=\"data row13 col17\" >-0.120006</td>\n",
              "      <td id=\"T_da93b_row13_col18\" class=\"data row13 col18\" >-0.241222</td>\n",
              "      <td id=\"T_da93b_row13_col19\" class=\"data row13 col19\" >-0.072750</td>\n",
              "    </tr>\n",
              "    <tr>\n",
              "      <th id=\"T_da93b_level0_row14\" class=\"row_heading level0 row14\" >Sleep</th>\n",
              "      <td id=\"T_da93b_row14_col0\" class=\"data row14 col0\" >-0.014005</td>\n",
              "      <td id=\"T_da93b_row14_col1\" class=\"data row14 col1\" >0.008407</td>\n",
              "      <td id=\"T_da93b_row14_col2\" class=\"data row14 col2\" >0.016495</td>\n",
              "      <td id=\"T_da93b_row14_col3\" class=\"data row14 col3\" >-0.030384</td>\n",
              "      <td id=\"T_da93b_row14_col4\" class=\"data row14 col4\" >-0.014943</td>\n",
              "      <td id=\"T_da93b_row14_col5\" class=\"data row14 col5\" >0.019044</td>\n",
              "      <td id=\"T_da93b_row14_col6\" class=\"data row14 col6\" >0.011746</td>\n",
              "      <td id=\"T_da93b_row14_col7\" class=\"data row14 col7\" >-0.030384</td>\n",
              "      <td id=\"T_da93b_row14_col8\" class=\"data row14 col8\" >0.015907</td>\n",
              "      <td id=\"T_da93b_row14_col9\" class=\"data row14 col9\" >-0.010683</td>\n",
              "      <td id=\"T_da93b_row14_col10\" class=\"data row14 col10\" >0.015243</td>\n",
              "      <td id=\"T_da93b_row14_col11\" class=\"data row14 col11\" >0.018370</td>\n",
              "      <td id=\"T_da93b_row14_col12\" class=\"data row14 col12\" >-0.028548</td>\n",
              "      <td id=\"T_da93b_row14_col13\" class=\"data row14 col13\" >-0.015916</td>\n",
              "      <td id=\"T_da93b_row14_col14\" class=\"data row14 col14\" >1.000000</td>\n",
              "      <td id=\"T_da93b_row14_col15\" class=\"data row14 col15\" >-0.016342</td>\n",
              "      <td id=\"T_da93b_row14_col16\" class=\"data row14 col16\" >0.000057</td>\n",
              "      <td id=\"T_da93b_row14_col17\" class=\"data row14 col17\" >-0.011030</td>\n",
              "      <td id=\"T_da93b_row14_col18\" class=\"data row14 col18\" >0.012168</td>\n",
              "      <td id=\"T_da93b_row14_col19\" class=\"data row14 col19\" >-0.003911</td>\n",
              "    </tr>\n",
              "    <tr>\n",
              "      <th id=\"T_da93b_level0_row15\" class=\"row_heading level0 row15\" >Stress</th>\n",
              "      <td id=\"T_da93b_row15_col0\" class=\"data row15 col0\" >-0.141027</td>\n",
              "      <td id=\"T_da93b_row15_col1\" class=\"data row15 col1\" >0.157259</td>\n",
              "      <td id=\"T_da93b_row15_col2\" class=\"data row15 col2\" >0.006104</td>\n",
              "      <td id=\"T_da93b_row15_col3\" class=\"data row15 col3\" >0.181396</td>\n",
              "      <td id=\"T_da93b_row15_col4\" class=\"data row15 col4\" >-0.060263</td>\n",
              "      <td id=\"T_da93b_row15_col5\" class=\"data row15 col5\" >0.185466</td>\n",
              "      <td id=\"T_da93b_row15_col6\" class=\"data row15 col6\" >-0.058349</td>\n",
              "      <td id=\"T_da93b_row15_col7\" class=\"data row15 col7\" >0.181396</td>\n",
              "      <td id=\"T_da93b_row15_col8\" class=\"data row15 col8\" >0.095685</td>\n",
              "      <td id=\"T_da93b_row15_col9\" class=\"data row15 col9\" >-0.105531</td>\n",
              "      <td id=\"T_da93b_row15_col10\" class=\"data row15 col10\" >-0.030859</td>\n",
              "      <td id=\"T_da93b_row15_col11\" class=\"data row15 col11\" >0.028443</td>\n",
              "      <td id=\"T_da93b_row15_col12\" class=\"data row15 col12\" >-0.105286</td>\n",
              "      <td id=\"T_da93b_row15_col13\" class=\"data row15 col13\" >-0.103619</td>\n",
              "      <td id=\"T_da93b_row15_col14\" class=\"data row15 col14\" >-0.016342</td>\n",
              "      <td id=\"T_da93b_row15_col15\" class=\"data row15 col15\" >1.000000</td>\n",
              "      <td id=\"T_da93b_row15_col16\" class=\"data row15 col16\" >0.159545</td>\n",
              "      <td id=\"T_da93b_row15_col17\" class=\"data row15 col17\" >0.889383</td>\n",
              "      <td id=\"T_da93b_row15_col18\" class=\"data row15 col18\" >0.183224</td>\n",
              "      <td id=\"T_da93b_row15_col19\" class=\"data row15 col19\" >0.167794</td>\n",
              "    </tr>\n",
              "    <tr>\n",
              "      <th id=\"T_da93b_level0_row16\" class=\"row_heading level0 row16\" >Suspicious</th>\n",
              "      <td id=\"T_da93b_row16_col0\" class=\"data row16 col0\" >-0.089604</td>\n",
              "      <td id=\"T_da93b_row16_col1\" class=\"data row16 col1\" >0.114802</td>\n",
              "      <td id=\"T_da93b_row16_col2\" class=\"data row16 col2\" >0.005787</td>\n",
              "      <td id=\"T_da93b_row16_col3\" class=\"data row16 col3\" >0.101632</td>\n",
              "      <td id=\"T_da93b_row16_col4\" class=\"data row16 col4\" >-0.395027</td>\n",
              "      <td id=\"T_da93b_row16_col5\" class=\"data row16 col5\" >0.144114</td>\n",
              "      <td id=\"T_da93b_row16_col6\" class=\"data row16 col6\" >-0.090865</td>\n",
              "      <td id=\"T_da93b_row16_col7\" class=\"data row16 col7\" >0.101632</td>\n",
              "      <td id=\"T_da93b_row16_col8\" class=\"data row16 col8\" >0.076141</td>\n",
              "      <td id=\"T_da93b_row16_col9\" class=\"data row16 col9\" >-0.214653</td>\n",
              "      <td id=\"T_da93b_row16_col10\" class=\"data row16 col10\" >-0.019477</td>\n",
              "      <td id=\"T_da93b_row16_col11\" class=\"data row16 col11\" >-0.006086</td>\n",
              "      <td id=\"T_da93b_row16_col12\" class=\"data row16 col12\" >-0.075369</td>\n",
              "      <td id=\"T_da93b_row16_col13\" class=\"data row16 col13\" >-0.222629</td>\n",
              "      <td id=\"T_da93b_row16_col14\" class=\"data row16 col14\" >0.000057</td>\n",
              "      <td id=\"T_da93b_row16_col15\" class=\"data row16 col15\" >0.159545</td>\n",
              "      <td id=\"T_da93b_row16_col16\" class=\"data row16 col16\" >1.000000</td>\n",
              "      <td id=\"T_da93b_row16_col17\" class=\"data row16 col17\" >0.192628</td>\n",
              "      <td id=\"T_da93b_row16_col18\" class=\"data row16 col18\" >0.132231</td>\n",
              "      <td id=\"T_da93b_row16_col19\" class=\"data row16 col19\" >0.130248</td>\n",
              "    </tr>\n",
              "    <tr>\n",
              "      <th id=\"T_da93b_level0_row17\" class=\"row_heading level0 row17\" >Tension</th>\n",
              "      <td id=\"T_da93b_row17_col0\" class=\"data row17 col0\" >-0.162854</td>\n",
              "      <td id=\"T_da93b_row17_col1\" class=\"data row17 col1\" >0.178003</td>\n",
              "      <td id=\"T_da93b_row17_col2\" class=\"data row17 col2\" >0.011619</td>\n",
              "      <td id=\"T_da93b_row17_col3\" class=\"data row17 col3\" >0.184090</td>\n",
              "      <td id=\"T_da93b_row17_col4\" class=\"data row17 col4\" >-0.075790</td>\n",
              "      <td id=\"T_da93b_row17_col5\" class=\"data row17 col5\" >0.215114</td>\n",
              "      <td id=\"T_da93b_row17_col6\" class=\"data row17 col6\" >-0.064671</td>\n",
              "      <td id=\"T_da93b_row17_col7\" class=\"data row17 col7\" >0.184090</td>\n",
              "      <td id=\"T_da93b_row17_col8\" class=\"data row17 col8\" >0.110464</td>\n",
              "      <td id=\"T_da93b_row17_col9\" class=\"data row17 col9\" >-0.123461</td>\n",
              "      <td id=\"T_da93b_row17_col10\" class=\"data row17 col10\" >-0.018675</td>\n",
              "      <td id=\"T_da93b_row17_col11\" class=\"data row17 col11\" >0.030501</td>\n",
              "      <td id=\"T_da93b_row17_col12\" class=\"data row17 col12\" >-0.115610</td>\n",
              "      <td id=\"T_da93b_row17_col13\" class=\"data row17 col13\" >-0.120006</td>\n",
              "      <td id=\"T_da93b_row17_col14\" class=\"data row17 col14\" >-0.011030</td>\n",
              "      <td id=\"T_da93b_row17_col15\" class=\"data row17 col15\" >0.889383</td>\n",
              "      <td id=\"T_da93b_row17_col16\" class=\"data row17 col16\" >0.192628</td>\n",
              "      <td id=\"T_da93b_row17_col17\" class=\"data row17 col17\" >1.000000</td>\n",
              "      <td id=\"T_da93b_row17_col18\" class=\"data row17 col18\" >0.212458</td>\n",
              "      <td id=\"T_da93b_row17_col19\" class=\"data row17 col19\" >0.201853</td>\n",
              "    </tr>\n",
              "    <tr>\n",
              "      <th id=\"T_da93b_level0_row18\" class=\"row_heading level0 row18\" >Unusual_Thought</th>\n",
              "      <td id=\"T_da93b_row18_col0\" class=\"data row18 col0\" >-0.119673</td>\n",
              "      <td id=\"T_da93b_row18_col1\" class=\"data row18 col1\" >0.812859</td>\n",
              "      <td id=\"T_da93b_row18_col2\" class=\"data row18 col2\" >-0.001190</td>\n",
              "      <td id=\"T_da93b_row18_col3\" class=\"data row18 col3\" >0.127945</td>\n",
              "      <td id=\"T_da93b_row18_col4\" class=\"data row18 col4\" >-0.073211</td>\n",
              "      <td id=\"T_da93b_row18_col5\" class=\"data row18 col5\" >0.172897</td>\n",
              "      <td id=\"T_da93b_row18_col6\" class=\"data row18 col6\" >-0.038897</td>\n",
              "      <td id=\"T_da93b_row18_col7\" class=\"data row18 col7\" >0.127945</td>\n",
              "      <td id=\"T_da93b_row18_col8\" class=\"data row18 col8\" >0.048999</td>\n",
              "      <td id=\"T_da93b_row18_col9\" class=\"data row18 col9\" >-0.221437</td>\n",
              "      <td id=\"T_da93b_row18_col10\" class=\"data row18 col10\" >-0.005470</td>\n",
              "      <td id=\"T_da93b_row18_col11\" class=\"data row18 col11\" >0.020422</td>\n",
              "      <td id=\"T_da93b_row18_col12\" class=\"data row18 col12\" >-0.091341</td>\n",
              "      <td id=\"T_da93b_row18_col13\" class=\"data row18 col13\" >-0.241222</td>\n",
              "      <td id=\"T_da93b_row18_col14\" class=\"data row18 col14\" >0.012168</td>\n",
              "      <td id=\"T_da93b_row18_col15\" class=\"data row18 col15\" >0.183224</td>\n",
              "      <td id=\"T_da93b_row18_col16\" class=\"data row18 col16\" >0.132231</td>\n",
              "      <td id=\"T_da93b_row18_col17\" class=\"data row18 col17\" >0.212458</td>\n",
              "      <td id=\"T_da93b_row18_col18\" class=\"data row18 col18\" >1.000000</td>\n",
              "      <td id=\"T_da93b_row18_col19\" class=\"data row18 col19\" >0.109089</td>\n",
              "    </tr>\n",
              "    <tr>\n",
              "      <th id=\"T_da93b_level0_row19\" class=\"row_heading level0 row19\" >Withdrawal</th>\n",
              "      <td id=\"T_da93b_row19_col0\" class=\"data row19 col0\" >-0.075209</td>\n",
              "      <td id=\"T_da93b_row19_col1\" class=\"data row19 col1\" >0.093710</td>\n",
              "      <td id=\"T_da93b_row19_col2\" class=\"data row19 col2\" >0.005644</td>\n",
              "      <td id=\"T_da93b_row19_col3\" class=\"data row19 col3\" >0.072692</td>\n",
              "      <td id=\"T_da93b_row19_col4\" class=\"data row19 col4\" >-0.054486</td>\n",
              "      <td id=\"T_da93b_row19_col5\" class=\"data row19 col5\" >0.108807</td>\n",
              "      <td id=\"T_da93b_row19_col6\" class=\"data row19 col6\" >-0.042382</td>\n",
              "      <td id=\"T_da93b_row19_col7\" class=\"data row19 col7\" >0.072692</td>\n",
              "      <td id=\"T_da93b_row19_col8\" class=\"data row19 col8\" >0.028669</td>\n",
              "      <td id=\"T_da93b_row19_col9\" class=\"data row19 col9\" >-0.080340</td>\n",
              "      <td id=\"T_da93b_row19_col10\" class=\"data row19 col10\" >0.008342</td>\n",
              "      <td id=\"T_da93b_row19_col11\" class=\"data row19 col11\" >-0.003607</td>\n",
              "      <td id=\"T_da93b_row19_col12\" class=\"data row19 col12\" >-0.046948</td>\n",
              "      <td id=\"T_da93b_row19_col13\" class=\"data row19 col13\" >-0.072750</td>\n",
              "      <td id=\"T_da93b_row19_col14\" class=\"data row19 col14\" >-0.003911</td>\n",
              "      <td id=\"T_da93b_row19_col15\" class=\"data row19 col15\" >0.167794</td>\n",
              "      <td id=\"T_da93b_row19_col16\" class=\"data row19 col16\" >0.130248</td>\n",
              "      <td id=\"T_da93b_row19_col17\" class=\"data row19 col17\" >0.201853</td>\n",
              "      <td id=\"T_da93b_row19_col18\" class=\"data row19 col18\" >0.109089</td>\n",
              "      <td id=\"T_da93b_row19_col19\" class=\"data row19 col19\" >1.000000</td>\n",
              "    </tr>\n",
              "  </tbody>\n",
              "</table>\n"
            ]
          },
          "metadata": {},
          "execution_count": 221
        }
      ]
    },
    {
      "cell_type": "markdown",
      "source": [
        "**Conclusion**:\n",
        "- Variable 'Participant' is constant, has no predicting power, thus will be removed. \n",
        "- Variable 'Tired' has 'NaN' and 'inf' values.\n",
        "- Variables 'Intrusive_Thoughts' and 'Pregnant' have significant number of null values.\n",
        "- Variales 'Passive' and 'Hallucination' have big value ranges, significantly bigger than other variables, thus we need to standardize them. \n",
        "- Target variable 'Diagnosis' is not imbalanced.\n",
        "- There are multicollinearity between variables. "
      ],
      "metadata": {
        "id": "7TaW7rk_8LHO"
      }
    },
    {
      "cell_type": "markdown",
      "source": [
        "#Create Training and Test Datasets and Data Processing "
      ],
      "metadata": {
        "id": "6MP2_Nw5-mPB"
      }
    },
    {
      "cell_type": "code",
      "source": [
        "#split the training and testing datasets\n",
        "train_set, test_set = train_test_split(data, test_size=0.3, random_state=42)"
      ],
      "metadata": {
        "id": "8zeG5rPE_YfP"
      },
      "execution_count": 94,
      "outputs": []
    },
    {
      "cell_type": "code",
      "source": [
        "train_set.info()"
      ],
      "metadata": {
        "colab": {
          "base_uri": "https://localhost:8080/"
        },
        "id": "cqf10gHV_mze",
        "outputId": "cb921a3c-c6e3-4d1a-feef-d026ceb6886c"
      },
      "execution_count": 95,
      "outputs": [
        {
          "output_type": "stream",
          "name": "stdout",
          "text": [
            "<class 'pandas.core.frame.DataFrame'>\n",
            "Int64Index: 3500 entries, 1840 to 860\n",
            "Data columns (total 27 columns):\n",
            " #   Column              Non-Null Count  Dtype  \n",
            "---  ------              --------------  -----  \n",
            " 0   Diagnosis           3500 non-null   int64  \n",
            " 1   Anhedonia           3500 non-null   float64\n",
            " 2   Apathy              3500 non-null   float64\n",
            " 3   Appetite            3500 non-null   float64\n",
            " 4   Concentration       3500 non-null   float64\n",
            " 5   Content             3500 non-null   float64\n",
            " 6   Delay               3500 non-null   object \n",
            " 7   Delusion            3500 non-null   float64\n",
            " 8   Dep_Mood            3500 non-null   float64\n",
            " 9   Focus               3500 non-null   float64\n",
            " 10  Hallucination       3500 non-null   float64\n",
            " 11  Housing             3500 non-null   object \n",
            " 12  Intrusive_Thoughts  2928 non-null   float64\n",
            " 13  Participant         3500 non-null   int64  \n",
            " 14  Passive             3500 non-null   float64\n",
            " 15  Pregnant            1931 non-null   float64\n",
            " 16  Psychomotor         3500 non-null   float64\n",
            " 17  Race                3500 non-null   object \n",
            " 18  Rumination          3500 non-null   float64\n",
            " 19  Sex                 3500 non-null   object \n",
            " 20  Sleep               3500 non-null   float64\n",
            " 21  Stress              3500 non-null   float64\n",
            " 22  Suspicious          1491 non-null   float64\n",
            " 23  Tension             3500 non-null   float64\n",
            " 24  Tired               3500 non-null   float64\n",
            " 25  Unusual_Thought     3500 non-null   float64\n",
            " 26  Withdrawal          3500 non-null   float64\n",
            "dtypes: float64(21), int64(2), object(4)\n",
            "memory usage: 765.6+ KB\n"
          ]
        }
      ]
    },
    {
      "cell_type": "markdown",
      "source": [
        "Below is the function for data processing"
      ],
      "metadata": {
        "id": "TBRdf3599RKD"
      }
    },
    {
      "cell_type": "code",
      "source": [
        "num_var = [\n",
        " 'Anhedonia',\n",
        " 'Apathy',\n",
        " 'Appetite',\n",
        " 'Concentration',\n",
        " 'Content',\n",
        " 'Delusion',\n",
        " 'Dep_Mood',\n",
        " 'Focus',\n",
        " 'Hallucination',\n",
        " 'Intrusive_Thoughts',\n",
        " 'Passive',\n",
        " 'Psychomotor',\n",
        " 'Rumination',\n",
        " 'Sleep',\n",
        " 'Stress',\n",
        " 'Suspicious',\n",
        " 'Tension',\n",
        " 'Tired',\n",
        " 'Unusual_Thought',\n",
        " 'Withdrawal']\n",
        "\n",
        "categories = ['Sex','Race','Housing','Delay'] \n",
        "\n",
        "def data_remove(data):\n",
        "    data['Pregnant'].fillna(0, inplace=True)\n",
        "    data.fillna(data.mean(), inplace=True)\n",
        "    # clipper method for 'Tired' column. \n",
        "    data = data.replace([np.inf, -np.inf], np.nan)\n",
        "    data['Tired'] = data['Tired'].replace(np.nan, data['Tired'].max())\n",
        "    # Create a copy of the dataframe, and remove 'Participant'\n",
        "    data_standardized = data.drop('Participant', axis= 1).copy()\n",
        "    # Initialize the StandardScaler\n",
        "    scaler = StandardScaler()\n",
        "    # Fit and transform the selected columns\n",
        "    data_standardized[num_var] = scaler.fit_transform(data_standardized[num_var])\n",
        "    return data_standardized"
      ],
      "metadata": {
        "id": "2NU25vTX9N6q"
      },
      "execution_count": 102,
      "outputs": []
    },
    {
      "cell_type": "code",
      "source": [
        "train_processed = data_remove(train_set)\n"
      ],
      "metadata": {
        "id": "yjufgZC4Bbqi"
      },
      "execution_count": 103,
      "outputs": []
    },
    {
      "cell_type": "code",
      "source": [
        "train_processed.describe()"
      ],
      "metadata": {
        "colab": {
          "base_uri": "https://localhost:8080/",
          "height": 463
        },
        "id": "mDXp9lB8BqNw",
        "outputId": "7c130d4d-e4c1-4289-bf7f-58fa957323dc"
      },
      "execution_count": 104,
      "outputs": [
        {
          "output_type": "execute_result",
          "data": {
            "text/plain": [
              "         Diagnosis     Anhedonia        Apathy      Appetite  Concentration  \\\n",
              "count  3500.000000  3.500000e+03  3.500000e+03  3.500000e+03   3.500000e+03   \n",
              "mean      0.509143 -2.233134e-17 -1.319579e-16  2.740665e-17   3.958738e-16   \n",
              "std       0.499988  1.000143e+00  1.000143e+00  1.000143e+00   1.000143e+00   \n",
              "min       0.000000 -3.654868e+00 -3.314213e+00 -1.884883e+00  -3.373871e+00   \n",
              "25%       0.000000 -6.721595e-01 -6.984433e-01 -7.259440e-01  -6.753702e-01   \n",
              "50%       1.000000 -8.077150e-03 -3.295586e-02 -1.304131e-01  -5.487980e-03   \n",
              "75%       1.000000  6.597938e-01  6.851706e-01  5.770021e-01   6.802446e-01   \n",
              "max       1.000000  3.443855e+00  3.664224e+00  6.058780e+00   3.460949e+00   \n",
              "\n",
              "            Content      Delusion      Dep_Mood         Focus  Hallucination  \\\n",
              "count  3.500000e+03  3.500000e+03  3.500000e+03  3.500000e+03   3.500000e+03   \n",
              "mean   2.233134e-17 -1.725604e-16 -7.460699e-17  3.958738e-16   1.725604e-17   \n",
              "std    1.000143e+00  1.000143e+00  1.000143e+00  1.000143e+00   1.000143e+00   \n",
              "min   -3.279762e-01 -3.305412e+00 -1.714357e+00 -3.373871e+00  -2.926019e-01   \n",
              "25%   -3.059933e-01 -6.942597e-01 -3.311272e-01 -6.753702e-01  -2.745053e-01   \n",
              "50%   -2.524068e-01 -5.762460e-02  3.234149e-01 -5.487980e-03  -2.373150e-01   \n",
              "75%   -7.727791e-02  6.540532e-01  7.111871e-01  6.802446e-01  -1.017766e-01   \n",
              "max    2.460813e+01  4.394420e+00  1.833049e+00  3.460949e+00   2.724021e+01   \n",
              "\n",
              "       ...     Pregnant   Psychomotor    Rumination         Sleep  \\\n",
              "count  ...  3500.000000  3.500000e+03  3.500000e+03  3.500000e+03   \n",
              "mean   ...     0.057429 -3.994265e-16  2.537653e-16 -9.643080e-17   \n",
              "std    ...     0.232693  1.000143e+00  1.000143e+00  1.000143e+00   \n",
              "min    ...     0.000000 -3.196337e+00 -2.810780e+00 -3.398210e+00   \n",
              "25%    ...     0.000000 -6.435262e-01 -7.615094e-01 -6.793727e-01   \n",
              "50%    ...     0.000000  3.619940e-02 -6.798797e-02 -2.846128e-02   \n",
              "75%    ...     0.000000  6.688512e-01  7.352330e-01  6.850679e-01   \n",
              "max    ...     1.000000  3.712931e+00  2.928521e+00  3.503370e+00   \n",
              "\n",
              "             Stress    Suspicious       Tension         Tired  \\\n",
              "count  3.500000e+03  3.500000e+03  3.500000e+03  3.500000e+03   \n",
              "mean   2.294038e-16  1.756056e-16 -2.552879e-16  5.278317e-17   \n",
              "std    1.000143e+00  1.000143e+00  1.000143e+00  1.000143e+00   \n",
              "min   -3.691577e+00 -5.232394e+00 -3.652975e+00 -3.178789e+00   \n",
              "25%   -6.568420e-01  0.000000e+00 -6.836694e-01 -6.771948e-01   \n",
              "50%    7.416802e-02  0.000000e+00  1.541857e-01 -5.153212e-02   \n",
              "75%    7.333228e-01  0.000000e+00  7.477167e-01  5.791632e-01   \n",
              "max    3.186551e+00  5.642975e+00  2.415287e+00  3.561616e+00   \n",
              "\n",
              "       Unusual_Thought    Withdrawal  \n",
              "count     3.500000e+03  3.500000e+03  \n",
              "mean      4.618528e-16 -1.481989e-16  \n",
              "std       1.000143e+00  1.000143e+00  \n",
              "min      -3.190353e+00 -3.049202e+00  \n",
              "25%      -7.025235e-01 -6.940240e-01  \n",
              "50%      -7.253756e-02  9.159707e-03  \n",
              "75%       6.664495e-01  6.874679e-01  \n",
              "max       3.975659e+00  3.466733e+00  \n",
              "\n",
              "[8 rows x 22 columns]"
            ],
            "text/html": [
              "\n",
              "  <div id=\"df-944537f5-529d-4e56-ba51-d3c58166bb46\">\n",
              "    <div class=\"colab-df-container\">\n",
              "      <div>\n",
              "<style scoped>\n",
              "    .dataframe tbody tr th:only-of-type {\n",
              "        vertical-align: middle;\n",
              "    }\n",
              "\n",
              "    .dataframe tbody tr th {\n",
              "        vertical-align: top;\n",
              "    }\n",
              "\n",
              "    .dataframe thead th {\n",
              "        text-align: right;\n",
              "    }\n",
              "</style>\n",
              "<table border=\"1\" class=\"dataframe\">\n",
              "  <thead>\n",
              "    <tr style=\"text-align: right;\">\n",
              "      <th></th>\n",
              "      <th>Diagnosis</th>\n",
              "      <th>Anhedonia</th>\n",
              "      <th>Apathy</th>\n",
              "      <th>Appetite</th>\n",
              "      <th>Concentration</th>\n",
              "      <th>Content</th>\n",
              "      <th>Delusion</th>\n",
              "      <th>Dep_Mood</th>\n",
              "      <th>Focus</th>\n",
              "      <th>Hallucination</th>\n",
              "      <th>...</th>\n",
              "      <th>Pregnant</th>\n",
              "      <th>Psychomotor</th>\n",
              "      <th>Rumination</th>\n",
              "      <th>Sleep</th>\n",
              "      <th>Stress</th>\n",
              "      <th>Suspicious</th>\n",
              "      <th>Tension</th>\n",
              "      <th>Tired</th>\n",
              "      <th>Unusual_Thought</th>\n",
              "      <th>Withdrawal</th>\n",
              "    </tr>\n",
              "  </thead>\n",
              "  <tbody>\n",
              "    <tr>\n",
              "      <th>count</th>\n",
              "      <td>3500.000000</td>\n",
              "      <td>3.500000e+03</td>\n",
              "      <td>3.500000e+03</td>\n",
              "      <td>3.500000e+03</td>\n",
              "      <td>3.500000e+03</td>\n",
              "      <td>3.500000e+03</td>\n",
              "      <td>3.500000e+03</td>\n",
              "      <td>3.500000e+03</td>\n",
              "      <td>3.500000e+03</td>\n",
              "      <td>3.500000e+03</td>\n",
              "      <td>...</td>\n",
              "      <td>3500.000000</td>\n",
              "      <td>3.500000e+03</td>\n",
              "      <td>3.500000e+03</td>\n",
              "      <td>3.500000e+03</td>\n",
              "      <td>3.500000e+03</td>\n",
              "      <td>3.500000e+03</td>\n",
              "      <td>3.500000e+03</td>\n",
              "      <td>3.500000e+03</td>\n",
              "      <td>3.500000e+03</td>\n",
              "      <td>3.500000e+03</td>\n",
              "    </tr>\n",
              "    <tr>\n",
              "      <th>mean</th>\n",
              "      <td>0.509143</td>\n",
              "      <td>-2.233134e-17</td>\n",
              "      <td>-1.319579e-16</td>\n",
              "      <td>2.740665e-17</td>\n",
              "      <td>3.958738e-16</td>\n",
              "      <td>2.233134e-17</td>\n",
              "      <td>-1.725604e-16</td>\n",
              "      <td>-7.460699e-17</td>\n",
              "      <td>3.958738e-16</td>\n",
              "      <td>1.725604e-17</td>\n",
              "      <td>...</td>\n",
              "      <td>0.057429</td>\n",
              "      <td>-3.994265e-16</td>\n",
              "      <td>2.537653e-16</td>\n",
              "      <td>-9.643080e-17</td>\n",
              "      <td>2.294038e-16</td>\n",
              "      <td>1.756056e-16</td>\n",
              "      <td>-2.552879e-16</td>\n",
              "      <td>5.278317e-17</td>\n",
              "      <td>4.618528e-16</td>\n",
              "      <td>-1.481989e-16</td>\n",
              "    </tr>\n",
              "    <tr>\n",
              "      <th>std</th>\n",
              "      <td>0.499988</td>\n",
              "      <td>1.000143e+00</td>\n",
              "      <td>1.000143e+00</td>\n",
              "      <td>1.000143e+00</td>\n",
              "      <td>1.000143e+00</td>\n",
              "      <td>1.000143e+00</td>\n",
              "      <td>1.000143e+00</td>\n",
              "      <td>1.000143e+00</td>\n",
              "      <td>1.000143e+00</td>\n",
              "      <td>1.000143e+00</td>\n",
              "      <td>...</td>\n",
              "      <td>0.232693</td>\n",
              "      <td>1.000143e+00</td>\n",
              "      <td>1.000143e+00</td>\n",
              "      <td>1.000143e+00</td>\n",
              "      <td>1.000143e+00</td>\n",
              "      <td>1.000143e+00</td>\n",
              "      <td>1.000143e+00</td>\n",
              "      <td>1.000143e+00</td>\n",
              "      <td>1.000143e+00</td>\n",
              "      <td>1.000143e+00</td>\n",
              "    </tr>\n",
              "    <tr>\n",
              "      <th>min</th>\n",
              "      <td>0.000000</td>\n",
              "      <td>-3.654868e+00</td>\n",
              "      <td>-3.314213e+00</td>\n",
              "      <td>-1.884883e+00</td>\n",
              "      <td>-3.373871e+00</td>\n",
              "      <td>-3.279762e-01</td>\n",
              "      <td>-3.305412e+00</td>\n",
              "      <td>-1.714357e+00</td>\n",
              "      <td>-3.373871e+00</td>\n",
              "      <td>-2.926019e-01</td>\n",
              "      <td>...</td>\n",
              "      <td>0.000000</td>\n",
              "      <td>-3.196337e+00</td>\n",
              "      <td>-2.810780e+00</td>\n",
              "      <td>-3.398210e+00</td>\n",
              "      <td>-3.691577e+00</td>\n",
              "      <td>-5.232394e+00</td>\n",
              "      <td>-3.652975e+00</td>\n",
              "      <td>-3.178789e+00</td>\n",
              "      <td>-3.190353e+00</td>\n",
              "      <td>-3.049202e+00</td>\n",
              "    </tr>\n",
              "    <tr>\n",
              "      <th>25%</th>\n",
              "      <td>0.000000</td>\n",
              "      <td>-6.721595e-01</td>\n",
              "      <td>-6.984433e-01</td>\n",
              "      <td>-7.259440e-01</td>\n",
              "      <td>-6.753702e-01</td>\n",
              "      <td>-3.059933e-01</td>\n",
              "      <td>-6.942597e-01</td>\n",
              "      <td>-3.311272e-01</td>\n",
              "      <td>-6.753702e-01</td>\n",
              "      <td>-2.745053e-01</td>\n",
              "      <td>...</td>\n",
              "      <td>0.000000</td>\n",
              "      <td>-6.435262e-01</td>\n",
              "      <td>-7.615094e-01</td>\n",
              "      <td>-6.793727e-01</td>\n",
              "      <td>-6.568420e-01</td>\n",
              "      <td>0.000000e+00</td>\n",
              "      <td>-6.836694e-01</td>\n",
              "      <td>-6.771948e-01</td>\n",
              "      <td>-7.025235e-01</td>\n",
              "      <td>-6.940240e-01</td>\n",
              "    </tr>\n",
              "    <tr>\n",
              "      <th>50%</th>\n",
              "      <td>1.000000</td>\n",
              "      <td>-8.077150e-03</td>\n",
              "      <td>-3.295586e-02</td>\n",
              "      <td>-1.304131e-01</td>\n",
              "      <td>-5.487980e-03</td>\n",
              "      <td>-2.524068e-01</td>\n",
              "      <td>-5.762460e-02</td>\n",
              "      <td>3.234149e-01</td>\n",
              "      <td>-5.487980e-03</td>\n",
              "      <td>-2.373150e-01</td>\n",
              "      <td>...</td>\n",
              "      <td>0.000000</td>\n",
              "      <td>3.619940e-02</td>\n",
              "      <td>-6.798797e-02</td>\n",
              "      <td>-2.846128e-02</td>\n",
              "      <td>7.416802e-02</td>\n",
              "      <td>0.000000e+00</td>\n",
              "      <td>1.541857e-01</td>\n",
              "      <td>-5.153212e-02</td>\n",
              "      <td>-7.253756e-02</td>\n",
              "      <td>9.159707e-03</td>\n",
              "    </tr>\n",
              "    <tr>\n",
              "      <th>75%</th>\n",
              "      <td>1.000000</td>\n",
              "      <td>6.597938e-01</td>\n",
              "      <td>6.851706e-01</td>\n",
              "      <td>5.770021e-01</td>\n",
              "      <td>6.802446e-01</td>\n",
              "      <td>-7.727791e-02</td>\n",
              "      <td>6.540532e-01</td>\n",
              "      <td>7.111871e-01</td>\n",
              "      <td>6.802446e-01</td>\n",
              "      <td>-1.017766e-01</td>\n",
              "      <td>...</td>\n",
              "      <td>0.000000</td>\n",
              "      <td>6.688512e-01</td>\n",
              "      <td>7.352330e-01</td>\n",
              "      <td>6.850679e-01</td>\n",
              "      <td>7.333228e-01</td>\n",
              "      <td>0.000000e+00</td>\n",
              "      <td>7.477167e-01</td>\n",
              "      <td>5.791632e-01</td>\n",
              "      <td>6.664495e-01</td>\n",
              "      <td>6.874679e-01</td>\n",
              "    </tr>\n",
              "    <tr>\n",
              "      <th>max</th>\n",
              "      <td>1.000000</td>\n",
              "      <td>3.443855e+00</td>\n",
              "      <td>3.664224e+00</td>\n",
              "      <td>6.058780e+00</td>\n",
              "      <td>3.460949e+00</td>\n",
              "      <td>2.460813e+01</td>\n",
              "      <td>4.394420e+00</td>\n",
              "      <td>1.833049e+00</td>\n",
              "      <td>3.460949e+00</td>\n",
              "      <td>2.724021e+01</td>\n",
              "      <td>...</td>\n",
              "      <td>1.000000</td>\n",
              "      <td>3.712931e+00</td>\n",
              "      <td>2.928521e+00</td>\n",
              "      <td>3.503370e+00</td>\n",
              "      <td>3.186551e+00</td>\n",
              "      <td>5.642975e+00</td>\n",
              "      <td>2.415287e+00</td>\n",
              "      <td>3.561616e+00</td>\n",
              "      <td>3.975659e+00</td>\n",
              "      <td>3.466733e+00</td>\n",
              "    </tr>\n",
              "  </tbody>\n",
              "</table>\n",
              "<p>8 rows × 22 columns</p>\n",
              "</div>\n",
              "      <button class=\"colab-df-convert\" onclick=\"convertToInteractive('df-944537f5-529d-4e56-ba51-d3c58166bb46')\"\n",
              "              title=\"Convert this dataframe to an interactive table.\"\n",
              "              style=\"display:none;\">\n",
              "        \n",
              "  <svg xmlns=\"http://www.w3.org/2000/svg\" height=\"24px\"viewBox=\"0 0 24 24\"\n",
              "       width=\"24px\">\n",
              "    <path d=\"M0 0h24v24H0V0z\" fill=\"none\"/>\n",
              "    <path d=\"M18.56 5.44l.94 2.06.94-2.06 2.06-.94-2.06-.94-.94-2.06-.94 2.06-2.06.94zm-11 1L8.5 8.5l.94-2.06 2.06-.94-2.06-.94L8.5 2.5l-.94 2.06-2.06.94zm10 10l.94 2.06.94-2.06 2.06-.94-2.06-.94-.94-2.06-.94 2.06-2.06.94z\"/><path d=\"M17.41 7.96l-1.37-1.37c-.4-.4-.92-.59-1.43-.59-.52 0-1.04.2-1.43.59L10.3 9.45l-7.72 7.72c-.78.78-.78 2.05 0 2.83L4 21.41c.39.39.9.59 1.41.59.51 0 1.02-.2 1.41-.59l7.78-7.78 2.81-2.81c.8-.78.8-2.07 0-2.86zM5.41 20L4 18.59l7.72-7.72 1.47 1.35L5.41 20z\"/>\n",
              "  </svg>\n",
              "      </button>\n",
              "      \n",
              "  <style>\n",
              "    .colab-df-container {\n",
              "      display:flex;\n",
              "      flex-wrap:wrap;\n",
              "      gap: 12px;\n",
              "    }\n",
              "\n",
              "    .colab-df-convert {\n",
              "      background-color: #E8F0FE;\n",
              "      border: none;\n",
              "      border-radius: 50%;\n",
              "      cursor: pointer;\n",
              "      display: none;\n",
              "      fill: #1967D2;\n",
              "      height: 32px;\n",
              "      padding: 0 0 0 0;\n",
              "      width: 32px;\n",
              "    }\n",
              "\n",
              "    .colab-df-convert:hover {\n",
              "      background-color: #E2EBFA;\n",
              "      box-shadow: 0px 1px 2px rgba(60, 64, 67, 0.3), 0px 1px 3px 1px rgba(60, 64, 67, 0.15);\n",
              "      fill: #174EA6;\n",
              "    }\n",
              "\n",
              "    [theme=dark] .colab-df-convert {\n",
              "      background-color: #3B4455;\n",
              "      fill: #D2E3FC;\n",
              "    }\n",
              "\n",
              "    [theme=dark] .colab-df-convert:hover {\n",
              "      background-color: #434B5C;\n",
              "      box-shadow: 0px 1px 3px 1px rgba(0, 0, 0, 0.15);\n",
              "      filter: drop-shadow(0px 1px 2px rgba(0, 0, 0, 0.3));\n",
              "      fill: #FFFFFF;\n",
              "    }\n",
              "  </style>\n",
              "\n",
              "      <script>\n",
              "        const buttonEl =\n",
              "          document.querySelector('#df-944537f5-529d-4e56-ba51-d3c58166bb46 button.colab-df-convert');\n",
              "        buttonEl.style.display =\n",
              "          google.colab.kernel.accessAllowed ? 'block' : 'none';\n",
              "\n",
              "        async function convertToInteractive(key) {\n",
              "          const element = document.querySelector('#df-944537f5-529d-4e56-ba51-d3c58166bb46');\n",
              "          const dataTable =\n",
              "            await google.colab.kernel.invokeFunction('convertToInteractive',\n",
              "                                                     [key], {});\n",
              "          if (!dataTable) return;\n",
              "\n",
              "          const docLinkHtml = 'Like what you see? Visit the ' +\n",
              "            '<a target=\"_blank\" href=https://colab.research.google.com/notebooks/data_table.ipynb>data table notebook</a>'\n",
              "            + ' to learn more about interactive tables.';\n",
              "          element.innerHTML = '';\n",
              "          dataTable['output_type'] = 'display_data';\n",
              "          await google.colab.output.renderOutput(dataTable, element);\n",
              "          const docLink = document.createElement('div');\n",
              "          docLink.innerHTML = docLinkHtml;\n",
              "          element.appendChild(docLink);\n",
              "        }\n",
              "      </script>\n",
              "    </div>\n",
              "  </div>\n",
              "  "
            ]
          },
          "metadata": {},
          "execution_count": 104
        }
      ]
    },
    {
      "cell_type": "markdown",
      "source": [
        "#Feature Selection"
      ],
      "metadata": {
        "id": "d9l5C64DDspY"
      }
    },
    {
      "cell_type": "markdown",
      "source": [
        "Encode the categorical variables"
      ],
      "metadata": {
        "id": "p2glnU04QxKl"
      }
    },
    {
      "cell_type": "code",
      "source": [
        "train_encoded = pd.get_dummies(train_processed, columns = categories)"
      ],
      "metadata": {
        "id": "zsl6VfBwNE2o"
      },
      "execution_count": 120,
      "outputs": []
    },
    {
      "cell_type": "code",
      "source": [
        "train_encoded.drop('Diagnosis', axis = 1).info()"
      ],
      "metadata": {
        "colab": {
          "base_uri": "https://localhost:8080/"
        },
        "id": "Jgd0elRuRf6l",
        "outputId": "47389699-1a4c-4932-8769-19a56d5b6042"
      },
      "execution_count": 123,
      "outputs": [
        {
          "output_type": "stream",
          "name": "stdout",
          "text": [
            "<class 'pandas.core.frame.DataFrame'>\n",
            "Int64Index: 3500 entries, 1840 to 860\n",
            "Data columns (total 31 columns):\n",
            " #   Column              Non-Null Count  Dtype  \n",
            "---  ------              --------------  -----  \n",
            " 0   Anhedonia           3500 non-null   float64\n",
            " 1   Apathy              3500 non-null   float64\n",
            " 2   Appetite            3500 non-null   float64\n",
            " 3   Concentration       3500 non-null   float64\n",
            " 4   Content             3500 non-null   float64\n",
            " 5   Delusion            3500 non-null   float64\n",
            " 6   Dep_Mood            3500 non-null   float64\n",
            " 7   Focus               3500 non-null   float64\n",
            " 8   Hallucination       3500 non-null   float64\n",
            " 9   Intrusive_Thoughts  3500 non-null   float64\n",
            " 10  Passive             3500 non-null   float64\n",
            " 11  Pregnant            3500 non-null   float64\n",
            " 12  Psychomotor         3500 non-null   float64\n",
            " 13  Rumination          3500 non-null   float64\n",
            " 14  Sleep               3500 non-null   float64\n",
            " 15  Stress              3500 non-null   float64\n",
            " 16  Suspicious          3500 non-null   float64\n",
            " 17  Tension             3500 non-null   float64\n",
            " 18  Tired               3500 non-null   float64\n",
            " 19  Unusual_Thought     3500 non-null   float64\n",
            " 20  Withdrawal          3500 non-null   float64\n",
            " 21  Sex_Female          3500 non-null   uint8  \n",
            " 22  Sex_Male            3500 non-null   uint8  \n",
            " 23  Race_Asian          3500 non-null   uint8  \n",
            " 24  Race_Black          3500 non-null   uint8  \n",
            " 25  Race_Hispanic       3500 non-null   uint8  \n",
            " 26  Race_White          3500 non-null   uint8  \n",
            " 27  Housing_Stable      3500 non-null   uint8  \n",
            " 28  Housing_Unstable    3500 non-null   uint8  \n",
            " 29  Delay_No            3500 non-null   uint8  \n",
            " 30  Delay_Yes           3500 non-null   uint8  \n",
            "dtypes: float64(21), uint8(10)\n",
            "memory usage: 635.7 KB\n"
          ]
        }
      ]
    },
    {
      "cell_type": "markdown",
      "source": [
        "Univariave feature selection using mutual_info_classif"
      ],
      "metadata": {
        "id": "EYb1xYuPQ2Y4"
      }
    },
    {
      "cell_type": "code",
      "source": [
        "from sklearn.feature_selection import mutual_info_classif\n",
        "threshold = 30  # the number of most relevant features\n",
        "high_score_features = []\n",
        "feature_scores = mutual_info_classif(train_encoded.drop('Diagnosis', axis =1), train_encoded['Diagnosis'], random_state=42)\n",
        "for score, f_name in sorted(zip(feature_scores, train_encoded.drop('Diagnosis', axis =1).columns), reverse=True)[:threshold]:\n",
        "        print(f_name, score)\n",
        "        high_score_features.append(f_name)\n",
        "train_encoded_mic = train_encoded.drop('Diagnosis', axis =1)[high_score_features]\n",
        "#print(train_encoded_mic.columns)"
      ],
      "metadata": {
        "colab": {
          "base_uri": "https://localhost:8080/"
        },
        "id": "2lljpo2FYJKz",
        "outputId": "f758ce32-ceef-4123-8a99-708ef41f703d"
      },
      "execution_count": 151,
      "outputs": [
        {
          "output_type": "stream",
          "name": "stdout",
          "text": [
            "Rumination 0.2202406089996165\n",
            "Tension 0.17450665158009748\n",
            "Intrusive_Thoughts 0.15508192490716688\n",
            "Stress 0.15413108795730746\n",
            "Delusion 0.09562425233677407\n",
            "Unusual_Thought 0.08360311772467077\n",
            "Tired 0.06594352664749392\n",
            "Content 0.06298614018805004\n",
            "Hallucination 0.06098762988606343\n",
            "Focus 0.05695708496251517\n",
            "Concentration 0.05695708496251517\n",
            "Anhedonia 0.055474482414566983\n",
            "Apathy 0.04715804172389437\n",
            "Sex_Male 0.036033881421929426\n",
            "Dep_Mood 0.02880927294439206\n",
            "Sex_Female 0.023318300519074908\n",
            "Psychomotor 0.020520962124726427\n",
            "Housing_Stable 0.017950366228102865\n",
            "Withdrawal 0.016876142099514935\n",
            "Suspicious 0.01642045991623564\n",
            "Delay_Yes 0.010842834510005783\n",
            "Sleep 0.007370002048595392\n",
            "Pregnant 0.006106436075033805\n",
            "Delay_No 0.005932263056543707\n",
            "Race_Black 0.005580595547434841\n",
            "Race_Asian 0.005533055374879359\n",
            "Housing_Unstable 0.004683920726335611\n",
            "Appetite 0.000500637811672533\n",
            "Race_White 0.0\n",
            "Race_Hispanic 0.0\n"
          ]
        }
      ]
    },
    {
      "cell_type": "markdown",
      "source": [
        "Chi-squared test for independent test. When p value >0.05, fail to reject the null that the two variables are independent. In our case, we remove the features with p value > 0.05. "
      ],
      "metadata": {
        "id": "kHcsmlpUeaa_"
      }
    },
    {
      "cell_type": "code",
      "source": [
        "from sklearn.feature_selection import SelectKBest\n",
        "from sklearn.feature_selection import chi2\n",
        "#threshold = 30  # the number of most relevant features\n",
        "skb = SelectKBest(score_func=chi2, k=threshold)\n",
        "sel_skb = skb.fit(train_encoded.drop('Diagnosis', axis =1)+10, train_encoded['Diagnosis'])\n",
        "sel_skb_index = sel_skb.get_support()\n",
        "train_encoded_skb = train_encoded.drop('Diagnosis', axis =1).iloc[:, sel_skb_index]\n",
        "removed_feature = []\n",
        "for (col, pvalue) in zip(train_encoded_skb.columns,sel_skb.pvalues_):\n",
        "  if pvalue>0.05:\n",
        "    print('remove variable ', col, '| with Pvalue', pvalue)\n",
        "    removed_feature.append(col)"
      ],
      "metadata": {
        "colab": {
          "base_uri": "https://localhost:8080/"
        },
        "id": "3TQVZ2rcZ2uj",
        "outputId": "d8d19bdc-18fa-437a-9fa6-5f764ec9f105"
      },
      "execution_count": 157,
      "outputs": [
        {
          "output_type": "stream",
          "name": "stdout",
          "text": [
            "remove variable  Concentration | with Pvalue 0.8775609149886208\n",
            "remove variable  Focus | with Pvalue 0.12087770338665184\n",
            "remove variable  Pregnant | with Pvalue 0.631576837061036\n",
            "remove variable  Psychomotor | with Pvalue 0.8617182901824069\n",
            "remove variable  Stress | with Pvalue 0.5827389383240646\n",
            "remove variable  Sex_Male | with Pvalue 0.055255796125826206\n",
            "remove variable  Race_Asian | with Pvalue 0.05406397755400666\n",
            "remove variable  Race_Black | with Pvalue 0.6059615710808992\n",
            "remove variable  Race_Hispanic | with Pvalue 0.13240903106391186\n",
            "remove variable  Race_White | with Pvalue 0.7578056166909481\n",
            "remove variable  Housing_Stable | with Pvalue 0.4919154341015347\n",
            "remove variable  Housing_Unstable | with Pvalue 0.5400056748968054\n",
            "remove variable  Delay_No | with Pvalue 0.5229748339112372\n",
            "remove variable  Delay_Yes | with Pvalue 0.11806216554090353\n"
          ]
        }
      ]
    },
    {
      "cell_type": "markdown",
      "source": [
        "**Conclusion**:\n",
        "\n",
        "Combining both methods, we remove features in removed_feature."
      ],
      "metadata": {
        "id": "0h3vW1Nue5hG"
      }
    },
    {
      "cell_type": "code",
      "source": [
        "train_feature_reduced = train_encoded.drop(removed_feature, axis=1)"
      ],
      "metadata": {
        "id": "algBmZMJuxk7"
      },
      "execution_count": 206,
      "outputs": []
    },
    {
      "cell_type": "markdown",
      "source": [
        "#Unsupervised Learning"
      ],
      "metadata": {
        "id": "cctPXKmBtjE-"
      }
    },
    {
      "cell_type": "code",
      "source": [
        "from sklearn.cluster import KMeans\n",
        "# Compute the inertia on the data for different numbers of clusters\n",
        "inertias = []\n",
        "for k in range(1, 11):\n",
        "    kmeans = KMeans(n_clusters=k, random_state=0).fit(train_feature_reduced.drop('Diagnosis', axis=1))\n",
        "    inertias.append(kmeans.inertia_)\n",
        "\n",
        "# Plot the inertia for each number of clusters\n",
        "plt.plot(range(1, 11), inertias, marker='o')\n",
        "plt.xlabel('Number of clusters')\n",
        "plt.ylabel('Inertia')\n",
        "plt.show()"
      ],
      "metadata": {
        "colab": {
          "base_uri": "https://localhost:8080/",
          "height": 280
        },
        "id": "VirHqcs7tog1",
        "outputId": "06759214-def6-43af-8c97-6ca98a5bbf79"
      },
      "execution_count": 207,
      "outputs": [
        {
          "output_type": "display_data",
          "data": {
            "text/plain": [
              "<Figure size 432x288 with 1 Axes>"
            ],
            "image/png": "[encoded data removed]"
          },
          "metadata": {
            "needs_background": "light"
          }
        }
      ]
    },
    {
      "cell_type": "markdown",
      "source": [
        "From the inertia plot, using elbow method, there exist two clusters."
      ],
      "metadata": {
        "id": "azQCfd9mG5w2"
      }
    },
    {
      "cell_type": "code",
      "source": [
        "from scipy.cluster.hierarchy import linkage, dendrogram\n",
        "# Compute the linkage matrix\n",
        "Z = linkage(train_feature_reduced.drop('Diagnosis', axis=1), method='ward')\n",
        "\n",
        "# Plot the dendrogram\n",
        "plt.figure(figsize=(25, 10))\n",
        "dendrogram(Z)\n",
        "plt.show()"
      ],
      "metadata": {
        "colab": {
          "base_uri": "https://localhost:8080/",
          "height": 458
        },
        "id": "12h5DYO3xEks",
        "outputId": "fcd09e95-a83e-47df-ff5f-e969ecae5081"
      },
      "execution_count": 208,
      "outputs": [
        {
          "output_type": "display_data",
          "data": {
            "text/plain": [
              "<Figure size 1800x720 with 1 Axes>"
            ],
            "image/png": "[encoded data removed]"
          },
          "metadata": {
            "needs_background": "light"
          }
        }
      ]
    },
    {
      "cell_type": "markdown",
      "source": [
        "From both the K means inertia plot and hierarchy cluserting dendrogram, we can see there exist 2 or 3 clusters.\n",
        "\n",
        "Since the unsupervised learning clustering approaches dones't tell why the clusters are formed. We assume the clusters are due to the diagnosis results. We use t-sne and PCA to project the data into 2 dimensions and color code the diagnosis results. "
      ],
      "metadata": {
        "id": "wg9bKtt94-4G"
      }
    },
    {
      "cell_type": "code",
      "source": [
        "# Perform t-SNE to reduce the number of dimensions to 2\n",
        "tsne = TSNE(n_components=2)\n",
        "tsne_data = tsne.fit_transform(train_feature_reduced.drop('Diagnosis', axis=1))\n",
        "\n",
        "# Plot the data points\n",
        "plt.scatter(tsne_data[:, 0], tsne_data[:, 1], c=train_feature_reduced['Diagnosis'], cmap='rainbow')\n",
        "\n",
        "# Add labels and title to the plot\n",
        "plt.xlabel('t-SNE 1')\n",
        "plt.ylabel('t-SNE 2')\n",
        "plt.title('Diagnosis')\n",
        "\n",
        "# Show the plot\n",
        "plt.show()"
      ],
      "metadata": {
        "colab": {
          "base_uri": "https://localhost:8080/",
          "height": 295
        },
        "id": "8TTxbZ7Mz5ca",
        "outputId": "c3508300-447d-4dfc-eb26-39e51a268773"
      },
      "execution_count": 212,
      "outputs": [
        {
          "output_type": "display_data",
          "data": {
            "text/plain": [
              "<Figure size 432x288 with 1 Axes>"
            ],
            "image/png": "[encoded data removed]"
          },
          "metadata": {
            "needs_background": "light"
          }
        }
      ]
    },
    {
      "cell_type": "markdown",
      "source": [
        "T-sne transformation cannot represents the two groups by diagnosis results. "
      ],
      "metadata": {
        "id": "smTAs6asGpQ3"
      }
    },
    {
      "cell_type": "code",
      "source": [
        "#PCA\n",
        "from sklearn.decomposition import PCA\n",
        "# Perform PCA\n",
        "pca = PCA(n_components=2)\n",
        "pca_data = pca.fit_transform(train_feature_reduced.drop('Diagnosis', axis=1))\n",
        "\n",
        "# Plot the data points\n",
        "plt.scatter(pca_data[:, 0], pca_data[:, 1], c=train_feature_reduced['Diagnosis'], cmap='rainbow')\n",
        "\n",
        "# Add labels and title to the plot\n",
        "plt.xlabel('PCA 1')\n",
        "plt.ylabel('PCA 2')\n",
        "plt.title('Diagnosis')\n",
        "\n",
        "# Show the plot\n",
        "plt.show()"
      ],
      "metadata": {
        "colab": {
          "base_uri": "https://localhost:8080/",
          "height": 295
        },
        "id": "7r_Utr-B4ECe",
        "outputId": "9b9bbd3c-d269-4e23-85a0-291b107a3964"
      },
      "execution_count": 215,
      "outputs": [
        {
          "output_type": "display_data",
          "data": {
            "text/plain": [
              "<Figure size 432x288 with 1 Axes>"
            ],
            "image/png": "[encoded data removed]"
          },
          "metadata": {
            "needs_background": "light"
          }
        }
      ]
    },
    {
      "cell_type": "markdown",
      "source": [
        "**Conclusion**: \n",
        "It seems, PCA can better represent the two groups of diagnosis results. Another reason to try PCA, is that there are multicollinerity between the variables. "
      ],
      "metadata": {
        "id": "5VSRobJd66w0"
      }
    },
    {
      "cell_type": "code",
      "source": [
        "# Perform PCA\n",
        "pca = PCA()\n",
        "X_train_pca = pca.fit_transform(train_feature_reduced.drop('Diagnosis', axis=1))\n",
        "\n",
        "# Get explained variance ratio\n",
        "explained_variance = pca.explained_variance_ratio_\n",
        "\n",
        "# Rank explained variance ratio\n",
        "rank = np.argsort(-explained_variance)\n",
        "\n",
        "# Print the ranked explained variance ratio\n",
        "print(\"Ranked explained variance ratio:\", explained_variance[rank])"
      ],
      "metadata": {
        "colab": {
          "base_uri": "https://localhost:8080/"
        },
        "id": "025NI14y9wjc",
        "outputId": "58a00fba-5c3b-483d-bf95-65cf82e19c63"
      },
      "execution_count": 222,
      "outputs": [
        {
          "output_type": "stream",
          "name": "stdout",
          "text": [
            "Ranked explained variance ratio: [0.17038873 0.09321823 0.08905871 0.08202601 0.0775919  0.06701052\n",
            " 0.06235928 0.06019321 0.05664527 0.05464414 0.04711396 0.04154832\n",
            " 0.03509518 0.03148057 0.01200515 0.01126861 0.0083522 ]\n"
          ]
        }
      ]
    },
    {
      "cell_type": "code",
      "source": [
        "# Update other data sets for PCA\n",
        "test_processed_pca = data_remove(test_set)\n",
        "test_encoded_pca = pd.get_dummies(test_processed_pca, columns = categories)\n",
        "test_feature_reduced = test_encoded_pca.drop(removed_feature, axis=1)\n",
        "X_test_pca = pca.transform(test_feature_reduced.drop('Diagnosis', axis=1))"
      ],
      "metadata": {
        "id": "za13SRcB_hMK"
      },
      "execution_count": 241,
      "outputs": []
    },
    {
      "cell_type": "markdown",
      "source": [
        "##Classification "
      ],
      "metadata": {
        "id": "920K6DvZhPi5"
      }
    },
    {
      "cell_type": "markdown",
      "source": [
        "Use accuracy, precision, recall rates, and confusion metric to evaluate model performance. "
      ],
      "metadata": {
        "id": "mvZKY_K6ognq"
      }
    },
    {
      "cell_type": "code",
      "source": [
        "def clf_metrics(y_test, y_pred, test_name):\n",
        "    # Compute confusion matrix\n",
        "    cm = confusion_matrix(y_test, y_pred)\n",
        "    print(\"--- Metrics for\", test_name, '---')\n",
        "    print('Accuracy:', skm.accuracy_score(y_test, y_pred))\n",
        "    # Compute precision and recall\n",
        "    precision = precision_score(y_test, y_pred)\n",
        "    recall = recall_score(y_test, y_pred)\n",
        "\n",
        "    print(\"Precision:\", precision)\n",
        "    print(\"Recall:\", recall)\n",
        "\n",
        "    # Plot confusion matrix using seaborn heatmap\n",
        "    sns.heatmap(cm, annot=True, fmt='d')\n",
        "    plt.xlabel('Predicted label')\n",
        "    plt.ylabel('True label')\n",
        "    plt.show()"
      ],
      "metadata": {
        "id": "Q0a0qLSnoeUb"
      },
      "execution_count": 199,
      "outputs": []
    },
    {
      "cell_type": "markdown",
      "source": [
        "First, lets build binary classification models with PCA transformation. "
      ],
      "metadata": {
        "id": "b8idv8qOD6q8"
      }
    },
    {
      "cell_type": "markdown",
      "source": [
        "Process test dataset"
      ],
      "metadata": {
        "id": "khcasFEfhZjX"
      }
    },
    {
      "cell_type": "code",
      "source": [
        "test_processed = data_remove(test_set)\n",
        "test_encoded = pd.get_dummies(test_processed, columns = categories)\n",
        "X_test = test_encoded.drop('Diagnosis', axis= 1).drop(removed_feature, axis=1)\n",
        "y_test = test_encoded['Diagnosis']\n",
        "X_train = train_encoded.drop('Diagnosis', axis= 1).drop(removed_feature, axis=1)\n",
        "y_train = train_encoded['Diagnosis']"
      ],
      "metadata": {
        "id": "Wt0WofIjgfSv"
      },
      "execution_count": 242,
      "outputs": []
    },
    {
      "cell_type": "markdown",
      "source": [
        "Light GBM model"
      ],
      "metadata": {
        "id": "otGJ7nFyheb3"
      }
    },
    {
      "cell_type": "code",
      "source": [
        "def GBM(X_train,y_train, X_test, y_test):\n",
        "    # Define the LightGBM model\n",
        "    model = lgb.LGBMClassifier()\n",
        "\n",
        "    # Train the model\n",
        "    model.fit(X_train, y_train)\n",
        "\n",
        "    # Get the predicted probabilities for the test set\n",
        "    y_probs = model.predict_proba(X_test)[:, 1]\n",
        "\n",
        "    # Create an array of threshold values\n",
        "    thresholds = np.arange(0, 1.01, 0.01)\n",
        "\n",
        "    # Initialize an empty list to store the AUC scores\n",
        "    scores = []\n",
        "\n",
        "    # Iterate over the threshold values\n",
        "    for t in thresholds:\n",
        "        # Convert the predicted probabilities to class labels using the current threshold\n",
        "        y_pred = (y_probs > t).astype(int)\n",
        "        # Calculate the AUC score for the current threshold\n",
        "        score = roc_auc_score(y_test, y_pred)\n",
        "        # Append the score to the list\n",
        "        scores.append(score)\n",
        "\n",
        "    # Find the threshold that corresponds to the highest AUC score\n",
        "    best_threshold = thresholds[np.argmax(scores)]\n",
        "    #print(f'The optimal threshold is {best_threshold:.2f}')\n",
        "\n",
        "    train_data = lgb.Dataset(X_train, label=y_train)\n",
        "    params = {'objective': 'binary', 'metric': 'binary_logloss'}\n",
        "    LGB_model = lgb.train(params, train_data)\n",
        "    # Predict on the test data\n",
        "    LGB_test_predictions = LGB_model.predict(X_test)\n",
        "\n",
        "    # Convert the predicted probabilities to binary labels\n",
        "    LGB_test_predictions = (LGB_test_predictions > best_threshold).astype(int)\n",
        "\n",
        "    clf_metrics(y_test, LGB_test_predictions, 'Light GBM')\n",
        "    lgb.plot_importance(LGB_model)\n",
        "    return LGB_test_predictions"
      ],
      "metadata": {
        "id": "aWkhO9yff905"
      },
      "execution_count": 246,
      "outputs": []
    },
    {
      "cell_type": "code",
      "source": [
        "LGB_test_predictions = GBM(X_train,y_train, X_test, y_test)"
      ],
      "metadata": {
        "colab": {
          "base_uri": "https://localhost:8080/",
          "height": 651
        },
        "id": "qAzzjnllB5dT",
        "outputId": "fe9c1339-f6fe-4dbe-c497-b333ccc45e74"
      },
      "execution_count": 247,
      "outputs": [
        {
          "output_type": "stream",
          "name": "stdout",
          "text": [
            "--- Metrics for Light GBM ---\n",
            "Accuracy: 0.9433333333333334\n",
            "Precision: 0.9401595744680851\n",
            "Recall: 0.9464524765729585\n"
          ]
        },
        {
          "output_type": "display_data",
          "data": {
            "text/plain": [
              "<Figure size 432x288 with 2 Axes>"
            ],
            "image/png": "[encoded data removed]"
          },
          "metadata": {}
        },
        {
          "output_type": "display_data",
          "data": {
            "text/plain": [
              "<Figure size 432x288 with 1 Axes>"
            ],
            "image/png": "[encoded data removed]"
          },
          "metadata": {}
        }
      ]
    },
    {
      "cell_type": "markdown",
      "source": [
        "Logistic Regression Model"
      ],
      "metadata": {
        "id": "Y-0K3URkpjeT"
      }
    },
    {
      "cell_type": "code",
      "source": [
        "def logisticR(X_train,y_train, X_test, y_test):\n",
        "    #Logistc regression training \n",
        "    LGmodel = LogisticRegression(penalty='elasticnet', max_iter= 1000, solver= 'saga', l1_ratio=1)\n",
        "    LGmodel.fit(X_train, y_train)\n",
        "    LG_test_predict = LGmodel.predict(X_test)\n",
        "    clf_metrics(y_test, LG_test_predict, 'Logistic Regression')"
      ],
      "metadata": {
        "id": "cZt5_FckpmYb"
      },
      "execution_count": 238,
      "outputs": []
    },
    {
      "cell_type": "code",
      "source": [
        "logisticR(X_train,y_train, X_test, y_test)"
      ],
      "metadata": {
        "colab": {
          "base_uri": "https://localhost:8080/",
          "height": 360
        },
        "id": "05tqr05RCnRq",
        "outputId": "7e67800a-c140-4965-db4a-81cca73ca571"
      },
      "execution_count": 244,
      "outputs": [
        {
          "output_type": "stream",
          "name": "stdout",
          "text": [
            "--- Metrics for Logistic Regression ---\n",
            "Accuracy: 0.9233333333333333\n",
            "Precision: 0.927027027027027\n",
            "Recall: 0.9183400267737617\n"
          ]
        },
        {
          "output_type": "display_data",
          "data": {
            "text/plain": [
              "<Figure size 432x288 with 2 Axes>"
            ],
            "image/png": "[encoded data removed]"
          },
          "metadata": {}
        }
      ]
    },
    {
      "cell_type": "markdown",
      "source": [
        "SVM"
      ],
      "metadata": {
        "id": "bCiPdbePrOI4"
      }
    },
    {
      "cell_type": "code",
      "source": [
        "from sklearn import svm\n",
        "svm_model = svm.SVC(kernel='linear')\n",
        "svm_model = svm_model.fit(X_train, y_train)\n",
        "svm_test_predictions = svm_model.predict(X_test)\n",
        "clf_metrics(y_test, svm_test_predictions, 'SVM')"
      ],
      "metadata": {
        "colab": {
          "base_uri": "https://localhost:8080/",
          "height": 350
        },
        "id": "8fTrA6kVrAqJ",
        "outputId": "ebfa0e14-2ce0-46e0-c884-0375b9432a0c"
      },
      "execution_count": 200,
      "outputs": [
        {
          "output_type": "stream",
          "name": "stdout",
          "text": [
            "--- Metrics for SVM ---\n",
            "Accuracy: 0.92\n",
            "Precision: 0.9242219215155616\n",
            "Recall: 0.9143239625167336\n"
          ]
        },
        {
          "output_type": "display_data",
          "data": {
            "text/plain": [
              "<Figure size 432x288 with 2 Axes>"
            ],
            "image/png": "[encoded data removed]"
          },
          "metadata": {
            "needs_background": "light"
          }
        }
      ]
    },
    {
      "cell_type": "code",
      "source": [
        "from sklearn.ensemble import RandomForestClassifier\n",
        "# Create a random forest classifier\n",
        "clf = RandomForestClassifier(n_estimators=200, random_state=42)\n",
        "\n",
        "# Train the classifier\n",
        "clf.fit(X_train, y_train)\n",
        "\n",
        "# Predict the labels for the test set\n",
        "rf_test_predictions = clf.predict(X_test)\n",
        "\n",
        "clf_metrics(y_test, rf_test_predictions, 'Random Forest')"
      ],
      "metadata": {
        "colab": {
          "base_uri": "https://localhost:8080/",
          "height": 352
        },
        "id": "6Or9m4jmsGJP",
        "outputId": "5a41ba32-1dda-489f-bbf3-be8a98a2934e"
      },
      "execution_count": 205,
      "outputs": [
        {
          "output_type": "stream",
          "name": "stdout",
          "text": [
            "--- Metrics for Random Forest ---\n",
            "Accuracy: 0.9406666666666667\n",
            "Precision: 0.9398395721925134\n",
            "Recall: 0.9410977242302544\n"
          ]
        },
        {
          "output_type": "display_data",
          "data": {
            "text/plain": [
              "<Figure size 432x288 with 2 Axes>"
            ],
            "image/png": "[encoded data removed]"
          },
          "metadata": {
            "needs_background": "light"
          }
        }
      ]
    },
    {
      "cell_type": "markdown",
      "source": [
        "Without PCA transformation, the best classficaition model is Light GBM model with the best accuracy, recall and precision rates, followed by Random Forrest, logistic regression and SVM. \n",
        "\n",
        "Next, we will compare the Light GBM results with PCA transformation. "
      ],
      "metadata": {
        "id": "XZ0eYHTNEjQw"
      }
    },
    {
      "cell_type": "code",
      "source": [
        "GBM(X_train_pca,y_train, X_test_pca, y_test)"
      ],
      "metadata": {
        "colab": {
          "base_uri": "https://localhost:8080/",
          "height": 650
        },
        "id": "oNpU0gexFYSQ",
        "outputId": "d64c1e13-6832-4fd7-e28b-5e407cecb24e"
      },
      "execution_count": 245,
      "outputs": [
        {
          "output_type": "stream",
          "name": "stdout",
          "text": [
            "--- Metrics for Light GBM ---\n",
            "Accuracy: 0.94\n",
            "Precision: 0.9445196211096076\n",
            "Recall: 0.9344042838018741\n"
          ]
        },
        {
          "output_type": "display_data",
          "data": {
            "text/plain": [
              "<Figure size 432x288 with 2 Axes>"
            ],
            "image/png": "[encoded data removed]"
          },
          "metadata": {}
        },
        {
          "output_type": "display_data",
          "data": {
            "text/plain": [
              "<Figure size 432x288 with 1 Axes>"
            ],
            "image/png": "[encoded data removed]"
          },
          "metadata": {}
        }
      ]
    },
    {
      "cell_type": "markdown",
      "source": [
        "**Conclusion**: \n",
        "It seems PCA tranformation doesn't improve the performance of the Light GBM model. The best model is the Light GBM model with selected features without PCA transformation, compared with Random Forrest, logistic regression and SVM. "
      ],
      "metadata": {
        "id": "C1axZC9fFnrm"
      }
    },
    {
      "cell_type": "markdown",
      "source": [
        "#Bias Analysis"
      ],
      "metadata": {
        "id": "YfN4I1WEIYak"
      }
    },
    {
      "cell_type": "markdown",
      "source": [
        "The false negative rate (FNR) is a metric that measures the number of instances where a disease was not diagnosed but should have been, divided by the total number of instances where the disease was actually present. It is calculated as FNR = (false negatives) / (false negatives + true positives).\n",
        "\n",
        "In disease diagnosis, FNR is an important metric because it tells us how many cases of the disease are being missed by the diagnostic test. A high FNR means that the test is not sensitive enough and is missing many cases of the disease. This can have serious consequences for patients, as they may not receive the necessary treatment in a timely manner. On the other hand, a low FNR indicates that the test is able to detect the disease effectively, which is essential for proper disease management.Therefore, the disgnosis models should aims for high recall rate and low FNR. \n",
        "\n",
        "In this analysis, we explore the model bias from sex and race perspectives. We use a python lib called fairlearn to facilitate our analysis.  "
      ],
      "metadata": {
        "id": "hOGfriEMKYfD"
      }
    },
    {
      "cell_type": "code",
      "source": [
        "def raceNsex_fn(truelabels, predictions, test):\n",
        "  sesitive = pd.DataFrame(np.stack([test.Race, test.Sex], axis = 1),\n",
        "                          columns = ['Race','Sex']) \n",
        "  fmetrics = MetricFrame(metrics= fairlearn.metrics.false_negative_rate, \n",
        "                         y_true=truelabels, \n",
        "                         y_pred=predictions,\n",
        "                         sensitive_features=sesitive)\n",
        "  results = pd.DataFrame([fmetrics.by_group, fmetrics.by_group/fmetrics.by_group.White.Male], \n",
        "                         index= ['FNR', 'FNR Parity'])\n",
        "  return results"
      ],
      "metadata": {
        "id": "3mqIBVa6IdgS"
      },
      "execution_count": 251,
      "outputs": []
    },
    {
      "cell_type": "code",
      "source": [
        "raceNsex_fn(y_test, LGB_test_predictions, test_set)"
      ],
      "metadata": {
        "colab": {
          "base_uri": "https://localhost:8080/",
          "height": 143
        },
        "id": "1kYCe5xVItE2",
        "outputId": "1717f0de-a7ea-4cb3-96cc-866d844a7c0e"
      },
      "execution_count": 252,
      "outputs": [
        {
          "output_type": "execute_result",
          "data": {
            "text/plain": [
              "Race           Asian               Black            Hispanic            \\\n",
              "Sex           Female      Male    Female      Male    Female      Male   \n",
              "FNR         0.075472  0.034483  0.075472  0.012658  0.081633  0.047619   \n",
              "FNR Parity  2.515723  1.149425  2.515723  0.421941  2.721088  1.587302   \n",
              "\n",
              "Race           White        \n",
              "Sex           Female  Male  \n",
              "FNR         0.114504  0.03  \n",
              "FNR Parity  3.816794  1.00  "
            ],
            "text/html": [
              "\n",
              "  <div id=\"df-2522ef26-60fe-48e9-9d5f-a8f1b629cecf\">\n",
              "    <div class=\"colab-df-container\">\n",
              "      <div>\n",
              "<style scoped>\n",
              "    .dataframe tbody tr th:only-of-type {\n",
              "        vertical-align: middle;\n",
              "    }\n",
              "\n",
              "    .dataframe tbody tr th {\n",
              "        vertical-align: top;\n",
              "    }\n",
              "\n",
              "    .dataframe thead tr th {\n",
              "        text-align: left;\n",
              "    }\n",
              "</style>\n",
              "<table border=\"1\" class=\"dataframe\">\n",
              "  <thead>\n",
              "    <tr>\n",
              "      <th>Race</th>\n",
              "      <th colspan=\"2\" halign=\"left\">Asian</th>\n",
              "      <th colspan=\"2\" halign=\"left\">Black</th>\n",
              "      <th colspan=\"2\" halign=\"left\">Hispanic</th>\n",
              "      <th colspan=\"2\" halign=\"left\">White</th>\n",
              "    </tr>\n",
              "    <tr>\n",
              "      <th>Sex</th>\n",
              "      <th>Female</th>\n",
              "      <th>Male</th>\n",
              "      <th>Female</th>\n",
              "      <th>Male</th>\n",
              "      <th>Female</th>\n",
              "      <th>Male</th>\n",
              "      <th>Female</th>\n",
              "      <th>Male</th>\n",
              "    </tr>\n",
              "  </thead>\n",
              "  <tbody>\n",
              "    <tr>\n",
              "      <th>FNR</th>\n",
              "      <td>0.075472</td>\n",
              "      <td>0.034483</td>\n",
              "      <td>0.075472</td>\n",
              "      <td>0.012658</td>\n",
              "      <td>0.081633</td>\n",
              "      <td>0.047619</td>\n",
              "      <td>0.114504</td>\n",
              "      <td>0.03</td>\n",
              "    </tr>\n",
              "    <tr>\n",
              "      <th>FNR Parity</th>\n",
              "      <td>2.515723</td>\n",
              "      <td>1.149425</td>\n",
              "      <td>2.515723</td>\n",
              "      <td>0.421941</td>\n",
              "      <td>2.721088</td>\n",
              "      <td>1.587302</td>\n",
              "      <td>3.816794</td>\n",
              "      <td>1.00</td>\n",
              "    </tr>\n",
              "  </tbody>\n",
              "</table>\n",
              "</div>\n",
              "      <button class=\"colab-df-convert\" onclick=\"convertToInteractive('df-2522ef26-60fe-48e9-9d5f-a8f1b629cecf')\"\n",
              "              title=\"Convert this dataframe to an interactive table.\"\n",
              "              style=\"display:none;\">\n",
              "        \n",
              "  <svg xmlns=\"http://www.w3.org/2000/svg\" height=\"24px\"viewBox=\"0 0 24 24\"\n",
              "       width=\"24px\">\n",
              "    <path d=\"M0 0h24v24H0V0z\" fill=\"none\"/>\n",
              "    <path d=\"M18.56 5.44l.94 2.06.94-2.06 2.06-.94-2.06-.94-.94-2.06-.94 2.06-2.06.94zm-11 1L8.5 8.5l.94-2.06 2.06-.94-2.06-.94L8.5 2.5l-.94 2.06-2.06.94zm10 10l.94 2.06.94-2.06 2.06-.94-2.06-.94-.94-2.06-.94 2.06-2.06.94z\"/><path d=\"M17.41 7.96l-1.37-1.37c-.4-.4-.92-.59-1.43-.59-.52 0-1.04.2-1.43.59L10.3 9.45l-7.72 7.72c-.78.78-.78 2.05 0 2.83L4 21.41c.39.39.9.59 1.41.59.51 0 1.02-.2 1.41-.59l7.78-7.78 2.81-2.81c.8-.78.8-2.07 0-2.86zM5.41 20L4 18.59l7.72-7.72 1.47 1.35L5.41 20z\"/>\n",
              "  </svg>\n",
              "      </button>\n",
              "      \n",
              "  <style>\n",
              "    .colab-df-container {\n",
              "      display:flex;\n",
              "      flex-wrap:wrap;\n",
              "      gap: 12px;\n",
              "    }\n",
              "\n",
              "    .colab-df-convert {\n",
              "      background-color: #E8F0FE;\n",
              "      border: none;\n",
              "      border-radius: 50%;\n",
              "      cursor: pointer;\n",
              "      display: none;\n",
              "      fill: #1967D2;\n",
              "      height: 32px;\n",
              "      padding: 0 0 0 0;\n",
              "      width: 32px;\n",
              "    }\n",
              "\n",
              "    .colab-df-convert:hover {\n",
              "      background-color: #E2EBFA;\n",
              "      box-shadow: 0px 1px 2px rgba(60, 64, 67, 0.3), 0px 1px 3px 1px rgba(60, 64, 67, 0.15);\n",
              "      fill: #174EA6;\n",
              "    }\n",
              "\n",
              "    [theme=dark] .colab-df-convert {\n",
              "      background-color: #3B4455;\n",
              "      fill: #D2E3FC;\n",
              "    }\n",
              "\n",
              "    [theme=dark] .colab-df-convert:hover {\n",
              "      background-color: #434B5C;\n",
              "      box-shadow: 0px 1px 3px 1px rgba(0, 0, 0, 0.15);\n",
              "      filter: drop-shadow(0px 1px 2px rgba(0, 0, 0, 0.3));\n",
              "      fill: #FFFFFF;\n",
              "    }\n",
              "  </style>\n",
              "\n",
              "      <script>\n",
              "        const buttonEl =\n",
              "          document.querySelector('#df-2522ef26-60fe-48e9-9d5f-a8f1b629cecf button.colab-df-convert');\n",
              "        buttonEl.style.display =\n",
              "          google.colab.kernel.accessAllowed ? 'block' : 'none';\n",
              "\n",
              "        async function convertToInteractive(key) {\n",
              "          const element = document.querySelector('#df-2522ef26-60fe-48e9-9d5f-a8f1b629cecf');\n",
              "          const dataTable =\n",
              "            await google.colab.kernel.invokeFunction('convertToInteractive',\n",
              "                                                     [key], {});\n",
              "          if (!dataTable) return;\n",
              "\n",
              "          const docLinkHtml = 'Like what you see? Visit the ' +\n",
              "            '<a target=\"_blank\" href=https://colab.research.google.com/notebooks/data_table.ipynb>data table notebook</a>'\n",
              "            + ' to learn more about interactive tables.';\n",
              "          element.innerHTML = '';\n",
              "          dataTable['output_type'] = 'display_data';\n",
              "          await google.colab.output.renderOutput(dataTable, element);\n",
              "          const docLink = document.createElement('div');\n",
              "          docLink.innerHTML = docLinkHtml;\n",
              "          element.appendChild(docLink);\n",
              "        }\n",
              "      </script>\n",
              "    </div>\n",
              "  </div>\n",
              "  "
            ]
          },
          "metadata": {},
          "execution_count": 252
        }
      ]
    },
    {
      "cell_type": "markdown",
      "source": [
        "Conclusion:\n",
        "\n",
        "- Females always have higher FNR than males in the same racial group. \n",
        "- White Female has the highest FNR, while Black Male has the lowest FNR. \n",
        "- Overall Black group has lower FNR in both sexes. "
      ],
      "metadata": {
        "id": "hsoDqoPwMRml"
      }
    }
  ]
}