{
  "nbformat": 4,
  "nbformat_minor": 0,
  "metadata": {
    "colab": {
      "provenance": [],
      "authorship_tag": "ABX9TyPqiynuOoHly7ldnsxxZmx7",
      "include_colab_link": true
    },
    "kernelspec": {
      "name": "python3",
      "display_name": "Python 3"
    },
    "language_info": {
      "name": "python"
    }
  },
  "cells": [
    {
      "cell_type": "markdown",
      "metadata": {
        "id": "view-in-github",
        "colab_type": "text"
      },
      "source": [
        "<a href=\"https://colab.research.google.com/github/ElvesJohn/MachineLearningCW/blob/main/MachineLearningColab.ipynb\" target=\"_parent\"><img src=\"https://colab.research.google.com/assets/colab-badge.svg\" alt=\"Open In Colab\"/></a>"
      ]
    },
    {
      "cell_type": "markdown",
      "source": [
        "##Set up libs and data reader"
      ],
      "metadata": {
        "id": "jPFftoJq1zkM"
      }
    },
    {
      "cell_type": "code",
      "execution_count": 114,
      "metadata": {
        "id": "_7Qi5Agf0Ccf"
      },
      "outputs": [],
      "source": [
        "import pandas as pd\n",
        "import matplotlib.pyplot as plt\n",
        "import seaborn as sns\n",
        "import sklearn.metrics as skm\n",
        "from sklearn.model_selection import train_test_split,cross_val_score\n",
        "from sklearn.preprocessing import OrdinalEncoder, OneHotEncoder,MinMaxScaler,StandardScaler\n",
        "from sklearn.linear_model import LogisticRegression\n",
        "from sklearn.metrics import confusion_matrix\n",
        "from sklearn.metrics import plot_confusion_matrix\n",
        "from sklearn.metrics import classification_report\n",
        "import numpy as np\n",
        "import lightgbm as lgb\n",
        "from sklearn.metrics import roc_auc_score\n",
        "import os\n",
        "# Where to save the figures\n",
        "PROJECT_ROOT_DIR = \".\"\n",
        "CHAPTER_ID = \"ML_project\"\n",
        "IMAGES_PATH = os.path.join(PROJECT_ROOT_DIR, \"images\", CHAPTER_ID)\n",
        "os.makedirs(IMAGES_PATH, exist_ok=True)\n",
        "\n",
        "def save_fig(fig_id, tight_layout=True, fig_extension=\"png\", resolution=300):\n",
        "    path = os.path.join(IMAGES_PATH, fig_id + \".\" + fig_extension)\n",
        "    print(\"Saving figure\", fig_id)\n",
        "    if tight_layout:\n",
        "        plt.tight_layout()\n",
        "    plt.savefig(path, format=fig_extension, dpi=resolution)"
      ]
    },
    {
      "cell_type": "code",
      "source": [
        "pip install fairlearn "
      ],
      "metadata": {
        "colab": {
          "base_uri": "https://localhost:8080/"
        },
        "id": "8tEiB7K_0RTl",
        "outputId": "a0a3efc4-a478-4cf7-d98a-a8a5ffd15201"
      },
      "execution_count": 80,
      "outputs": [
        {
          "output_type": "stream",
          "name": "stdout",
          "text": [
            "Looking in indexes: https://pypi.org/simple, https://us-python.pkg.dev/colab-wheels/public/simple/\n",
            "Requirement already satisfied: fairlearn in /usr/local/lib/python3.8/dist-packages (0.8.0)\n",
            "Requirement already satisfied: scikit-learn>=0.22.1 in /usr/local/lib/python3.8/dist-packages (from fairlearn) (1.0.2)\n",
            "Requirement already satisfied: pandas>=0.25.1 in /usr/local/lib/python3.8/dist-packages (from fairlearn) (1.3.5)\n",
            "Requirement already satisfied: scipy>=1.4.1 in /usr/local/lib/python3.8/dist-packages (from fairlearn) (1.7.3)\n",
            "Requirement already satisfied: numpy>=1.17.2 in /usr/local/lib/python3.8/dist-packages (from fairlearn) (1.21.6)\n",
            "Requirement already satisfied: pytz>=2017.3 in /usr/local/lib/python3.8/dist-packages (from pandas>=0.25.1->fairlearn) (2022.7)\n",
            "Requirement already satisfied: python-dateutil>=2.7.3 in /usr/local/lib/python3.8/dist-packages (from pandas>=0.25.1->fairlearn) (2.8.2)\n",
            "Requirement already satisfied: joblib>=0.11 in /usr/local/lib/python3.8/dist-packages (from scikit-learn>=0.22.1->fairlearn) (1.2.0)\n",
            "Requirement already satisfied: threadpoolctl>=2.0.0 in /usr/local/lib/python3.8/dist-packages (from scikit-learn>=0.22.1->fairlearn) (3.1.0)\n",
            "Requirement already satisfied: six>=1.5 in /usr/local/lib/python3.8/dist-packages (from python-dateutil>=2.7.3->pandas>=0.25.1->fairlearn) (1.15.0)\n"
          ]
        }
      ]
    },
    {
      "cell_type": "code",
      "source": [
        "import fairlearn\n",
        "from fairlearn.metrics import MetricFrame\n"
      ],
      "metadata": {
        "id": "Ly1r45Lq0fwI"
      },
      "execution_count": 81,
      "outputs": []
    },
    {
      "cell_type": "code",
      "source": [
        "import warnings\n",
        "warnings.filterwarnings(\"ignore\")"
      ],
      "metadata": {
        "id": "ns-QgG_b08qT"
      },
      "execution_count": 82,
      "outputs": []
    },
    {
      "cell_type": "code",
      "source": [
        "data = pd.read_csv('/content/MS4S16_Dataset.csv')"
      ],
      "metadata": {
        "id": "tQlI-0hn1Elx"
      },
      "execution_count": 83,
      "outputs": []
    },
    {
      "cell_type": "markdown",
      "source": [
        "##Explorative Data Analysis"
      ],
      "metadata": {
        "id": "c6NmDzf11bk3"
      }
    },
    {
      "cell_type": "markdown",
      "source": [
        "Take a look at the data structure"
      ],
      "metadata": {
        "id": "jK31LQ5D1mrV"
      }
    },
    {
      "cell_type": "code",
      "source": [
        "data.head()"
      ],
      "metadata": {
        "colab": {
          "base_uri": "https://localhost:8080/",
          "height": 300
        },
        "id": "IT0ehDzF1oLM",
        "outputId": "28064611-1ad7-4cca-9c0d-9693253355a6"
      },
      "execution_count": 84,
      "outputs": [
        {
          "output_type": "execute_result",
          "data": {
            "text/plain": [
              "   Diagnosis  Anhedonia    Apathy   Appetite  Concentration   Content Delay  \\\n",
              "0          1   4.501446  3.056575   9.283891       8.305502  0.006142   Yes   \n",
              "1          0   5.432608  0.307721  25.809400       5.060206  0.062209   Yes   \n",
              "2          0   6.557500 -1.412208  24.842012       6.504229  0.071532    No   \n",
              "3          0   5.429568  1.686157  24.175853       6.994948  0.278345    No   \n",
              "4          1   5.099846 -0.612506  45.808490       5.869212  0.004214   Yes   \n",
              "\n",
              "   Delusion   Dep_Mood     Focus  ...   Race Rumination     Sex     Sleep  \\\n",
              "0  1.170842   8.177884  8.305502  ...  White   5.041432  Female  6.552082   \n",
              "1  2.272548  11.162913  5.060206  ...  White   4.656790    Male  5.558434   \n",
              "2  1.439095   5.887363  6.504229  ...  Black   7.290494  Female  5.787561   \n",
              "3  1.380185   8.943851  6.994948  ...  White   6.759339  Female  6.787287   \n",
              "4  1.237976   6.741627  5.869212  ...  Black   6.190019    Male  7.748312   \n",
              "\n",
              "     Stress  Suspicious   Tension     Tired  Unusual_Thought Withdrawal  \n",
              "0  5.915492    3.991749  6.371877  4.537270         3.744410   5.242819  \n",
              "1  4.008265         NaN  2.238665  6.113746         0.720458   3.797242  \n",
              "2  7.177926         NaN  6.992499  5.557374        -0.491255   4.421288  \n",
              "3  2.866815         NaN  4.018286  6.136269         0.765388   2.299562  \n",
              "4  6.798220    5.103103  5.063542  4.213723         0.705895   6.547707  \n",
              "\n",
              "[5 rows x 27 columns]"
            ],
            "text/html": [
              "\n",
              "  <div id=\"df-6533a70a-1127-4d81-8d61-d1fc949ac539\">\n",
              "    <div class=\"colab-df-container\">\n",
              "      <div>\n",
              "<style scoped>\n",
              "    .dataframe tbody tr th:only-of-type {\n",
              "        vertical-align: middle;\n",
              "    }\n",
              "\n",
              "    .dataframe tbody tr th {\n",
              "        vertical-align: top;\n",
              "    }\n",
              "\n",
              "    .dataframe thead th {\n",
              "        text-align: right;\n",
              "    }\n",
              "</style>\n",
              "<table border=\"1\" class=\"dataframe\">\n",
              "  <thead>\n",
              "    <tr style=\"text-align: right;\">\n",
              "      <th></th>\n",
              "      <th>Diagnosis</th>\n",
              "      <th>Anhedonia</th>\n",
              "      <th>Apathy</th>\n",
              "      <th>Appetite</th>\n",
              "      <th>Concentration</th>\n",
              "      <th>Content</th>\n",
              "      <th>Delay</th>\n",
              "      <th>Delusion</th>\n",
              "      <th>Dep_Mood</th>\n",
              "      <th>Focus</th>\n",
              "      <th>...</th>\n",
              "      <th>Race</th>\n",
              "      <th>Rumination</th>\n",
              "      <th>Sex</th>\n",
              "      <th>Sleep</th>\n",
              "      <th>Stress</th>\n",
              "      <th>Suspicious</th>\n",
              "      <th>Tension</th>\n",
              "      <th>Tired</th>\n",
              "      <th>Unusual_Thought</th>\n",
              "      <th>Withdrawal</th>\n",
              "    </tr>\n",
              "  </thead>\n",
              "  <tbody>\n",
              "    <tr>\n",
              "      <th>0</th>\n",
              "      <td>1</td>\n",
              "      <td>4.501446</td>\n",
              "      <td>3.056575</td>\n",
              "      <td>9.283891</td>\n",
              "      <td>8.305502</td>\n",
              "      <td>0.006142</td>\n",
              "      <td>Yes</td>\n",
              "      <td>1.170842</td>\n",
              "      <td>8.177884</td>\n",
              "      <td>8.305502</td>\n",
              "      <td>...</td>\n",
              "      <td>White</td>\n",
              "      <td>5.041432</td>\n",
              "      <td>Female</td>\n",
              "      <td>6.552082</td>\n",
              "      <td>5.915492</td>\n",
              "      <td>3.991749</td>\n",
              "      <td>6.371877</td>\n",
              "      <td>4.537270</td>\n",
              "      <td>3.744410</td>\n",
              "      <td>5.242819</td>\n",
              "    </tr>\n",
              "    <tr>\n",
              "      <th>1</th>\n",
              "      <td>0</td>\n",
              "      <td>5.432608</td>\n",
              "      <td>0.307721</td>\n",
              "      <td>25.809400</td>\n",
              "      <td>5.060206</td>\n",
              "      <td>0.062209</td>\n",
              "      <td>Yes</td>\n",
              "      <td>2.272548</td>\n",
              "      <td>11.162913</td>\n",
              "      <td>5.060206</td>\n",
              "      <td>...</td>\n",
              "      <td>White</td>\n",
              "      <td>4.656790</td>\n",
              "      <td>Male</td>\n",
              "      <td>5.558434</td>\n",
              "      <td>4.008265</td>\n",
              "      <td>NaN</td>\n",
              "      <td>2.238665</td>\n",
              "      <td>6.113746</td>\n",
              "      <td>0.720458</td>\n",
              "      <td>3.797242</td>\n",
              "    </tr>\n",
              "    <tr>\n",
              "      <th>2</th>\n",
              "      <td>0</td>\n",
              "      <td>6.557500</td>\n",
              "      <td>-1.412208</td>\n",
              "      <td>24.842012</td>\n",
              "      <td>6.504229</td>\n",
              "      <td>0.071532</td>\n",
              "      <td>No</td>\n",
              "      <td>1.439095</td>\n",
              "      <td>5.887363</td>\n",
              "      <td>6.504229</td>\n",
              "      <td>...</td>\n",
              "      <td>Black</td>\n",
              "      <td>7.290494</td>\n",
              "      <td>Female</td>\n",
              "      <td>5.787561</td>\n",
              "      <td>7.177926</td>\n",
              "      <td>NaN</td>\n",
              "      <td>6.992499</td>\n",
              "      <td>5.557374</td>\n",
              "      <td>-0.491255</td>\n",
              "      <td>4.421288</td>\n",
              "    </tr>\n",
              "    <tr>\n",
              "      <th>3</th>\n",
              "      <td>0</td>\n",
              "      <td>5.429568</td>\n",
              "      <td>1.686157</td>\n",
              "      <td>24.175853</td>\n",
              "      <td>6.994948</td>\n",
              "      <td>0.278345</td>\n",
              "      <td>No</td>\n",
              "      <td>1.380185</td>\n",
              "      <td>8.943851</td>\n",
              "      <td>6.994948</td>\n",
              "      <td>...</td>\n",
              "      <td>White</td>\n",
              "      <td>6.759339</td>\n",
              "      <td>Female</td>\n",
              "      <td>6.787287</td>\n",
              "      <td>2.866815</td>\n",
              "      <td>NaN</td>\n",
              "      <td>4.018286</td>\n",
              "      <td>6.136269</td>\n",
              "      <td>0.765388</td>\n",
              "      <td>2.299562</td>\n",
              "    </tr>\n",
              "    <tr>\n",
              "      <th>4</th>\n",
              "      <td>1</td>\n",
              "      <td>5.099846</td>\n",
              "      <td>-0.612506</td>\n",
              "      <td>45.808490</td>\n",
              "      <td>5.869212</td>\n",
              "      <td>0.004214</td>\n",
              "      <td>Yes</td>\n",
              "      <td>1.237976</td>\n",
              "      <td>6.741627</td>\n",
              "      <td>5.869212</td>\n",
              "      <td>...</td>\n",
              "      <td>Black</td>\n",
              "      <td>6.190019</td>\n",
              "      <td>Male</td>\n",
              "      <td>7.748312</td>\n",
              "      <td>6.798220</td>\n",
              "      <td>5.103103</td>\n",
              "      <td>5.063542</td>\n",
              "      <td>4.213723</td>\n",
              "      <td>0.705895</td>\n",
              "      <td>6.547707</td>\n",
              "    </tr>\n",
              "  </tbody>\n",
              "</table>\n",
              "<p>5 rows × 27 columns</p>\n",
              "</div>\n",
              "      <button class=\"colab-df-convert\" onclick=\"convertToInteractive('df-6533a70a-1127-4d81-8d61-d1fc949ac539')\"\n",
              "              title=\"Convert this dataframe to an interactive table.\"\n",
              "              style=\"display:none;\">\n",
              "        \n",
              "  <svg xmlns=\"http://www.w3.org/2000/svg\" height=\"24px\"viewBox=\"0 0 24 24\"\n",
              "       width=\"24px\">\n",
              "    <path d=\"M0 0h24v24H0V0z\" fill=\"none\"/>\n",
              "    <path d=\"M18.56 5.44l.94 2.06.94-2.06 2.06-.94-2.06-.94-.94-2.06-.94 2.06-2.06.94zm-11 1L8.5 8.5l.94-2.06 2.06-.94-2.06-.94L8.5 2.5l-.94 2.06-2.06.94zm10 10l.94 2.06.94-2.06 2.06-.94-2.06-.94-.94-2.06-.94 2.06-2.06.94z\"/><path d=\"M17.41 7.96l-1.37-1.37c-.4-.4-.92-.59-1.43-.59-.52 0-1.04.2-1.43.59L10.3 9.45l-7.72 7.72c-.78.78-.78 2.05 0 2.83L4 21.41c.39.39.9.59 1.41.59.51 0 1.02-.2 1.41-.59l7.78-7.78 2.81-2.81c.8-.78.8-2.07 0-2.86zM5.41 20L4 18.59l7.72-7.72 1.47 1.35L5.41 20z\"/>\n",
              "  </svg>\n",
              "      </button>\n",
              "      \n",
              "  <style>\n",
              "    .colab-df-container {\n",
              "      display:flex;\n",
              "      flex-wrap:wrap;\n",
              "      gap: 12px;\n",
              "    }\n",
              "\n",
              "    .colab-df-convert {\n",
              "      background-color: #E8F0FE;\n",
              "      border: none;\n",
              "      border-radius: 50%;\n",
              "      cursor: pointer;\n",
              "      display: none;\n",
              "      fill: #1967D2;\n",
              "      height: 32px;\n",
              "      padding: 0 0 0 0;\n",
              "      width: 32px;\n",
              "    }\n",
              "\n",
              "    .colab-df-convert:hover {\n",
              "      background-color: #E2EBFA;\n",
              "      box-shadow: 0px 1px 2px rgba(60, 64, 67, 0.3), 0px 1px 3px 1px rgba(60, 64, 67, 0.15);\n",
              "      fill: #174EA6;\n",
              "    }\n",
              "\n",
              "    [theme=dark] .colab-df-convert {\n",
              "      background-color: #3B4455;\n",
              "      fill: #D2E3FC;\n",
              "    }\n",
              "\n",
              "    [theme=dark] .colab-df-convert:hover {\n",
              "      background-color: #434B5C;\n",
              "      box-shadow: 0px 1px 3px 1px rgba(0, 0, 0, 0.15);\n",
              "      filter: drop-shadow(0px 1px 2px rgba(0, 0, 0, 0.3));\n",
              "      fill: #FFFFFF;\n",
              "    }\n",
              "  </style>\n",
              "\n",
              "      <script>\n",
              "        const buttonEl =\n",
              "          document.querySelector('#df-6533a70a-1127-4d81-8d61-d1fc949ac539 button.colab-df-convert');\n",
              "        buttonEl.style.display =\n",
              "          google.colab.kernel.accessAllowed ? 'block' : 'none';\n",
              "\n",
              "        async function convertToInteractive(key) {\n",
              "          const element = document.querySelector('#df-6533a70a-1127-4d81-8d61-d1fc949ac539');\n",
              "          const dataTable =\n",
              "            await google.colab.kernel.invokeFunction('convertToInteractive',\n",
              "                                                     [key], {});\n",
              "          if (!dataTable) return;\n",
              "\n",
              "          const docLinkHtml = 'Like what you see? Visit the ' +\n",
              "            '<a target=\"_blank\" href=https://colab.research.google.com/notebooks/data_table.ipynb>data table notebook</a>'\n",
              "            + ' to learn more about interactive tables.';\n",
              "          element.innerHTML = '';\n",
              "          dataTable['output_type'] = 'display_data';\n",
              "          await google.colab.output.renderOutput(dataTable, element);\n",
              "          const docLink = document.createElement('div');\n",
              "          docLink.innerHTML = docLinkHtml;\n",
              "          element.appendChild(docLink);\n",
              "        }\n",
              "      </script>\n",
              "    </div>\n",
              "  </div>\n",
              "  "
            ]
          },
          "metadata": {},
          "execution_count": 84
        }
      ]
    },
    {
      "cell_type": "code",
      "source": [
        "data.info()"
      ],
      "metadata": {
        "colab": {
          "base_uri": "https://localhost:8080/"
        },
        "id": "Xe9GPS-_2xpr",
        "outputId": "66c7346e-926e-48e1-a649-372966c4cc5c"
      },
      "execution_count": 85,
      "outputs": [
        {
          "output_type": "stream",
          "name": "stdout",
          "text": [
            "<class 'pandas.core.frame.DataFrame'>\n",
            "RangeIndex: 5000 entries, 0 to 4999\n",
            "Data columns (total 27 columns):\n",
            " #   Column              Non-Null Count  Dtype  \n",
            "---  ------              --------------  -----  \n",
            " 0   Diagnosis           5000 non-null   int64  \n",
            " 1   Anhedonia           5000 non-null   float64\n",
            " 2   Apathy              5000 non-null   float64\n",
            " 3   Appetite            5000 non-null   float64\n",
            " 4   Concentration       5000 non-null   float64\n",
            " 5   Content             5000 non-null   float64\n",
            " 6   Delay               5000 non-null   object \n",
            " 7   Delusion            5000 non-null   float64\n",
            " 8   Dep_Mood            5000 non-null   float64\n",
            " 9   Focus               5000 non-null   float64\n",
            " 10  Hallucination       5000 non-null   float64\n",
            " 11  Housing             5000 non-null   object \n",
            " 12  Intrusive_Thoughts  4170 non-null   float64\n",
            " 13  Participant         5000 non-null   int64  \n",
            " 14  Passive             5000 non-null   float64\n",
            " 15  Pregnant            2762 non-null   float64\n",
            " 16  Psychomotor         5000 non-null   float64\n",
            " 17  Race                5000 non-null   object \n",
            " 18  Rumination          5000 non-null   float64\n",
            " 19  Sex                 5000 non-null   object \n",
            " 20  Sleep               5000 non-null   float64\n",
            " 21  Stress              5000 non-null   float64\n",
            " 22  Suspicious          2127 non-null   float64\n",
            " 23  Tension             5000 non-null   float64\n",
            " 24  Tired               5000 non-null   float64\n",
            " 25  Unusual_Thought     5000 non-null   float64\n",
            " 26  Withdrawal          5000 non-null   float64\n",
            "dtypes: float64(21), int64(2), object(4)\n",
            "memory usage: 1.0+ MB\n"
          ]
        }
      ]
    },
    {
      "cell_type": "code",
      "source": [
        "data['Sex'].value_counts()"
      ],
      "metadata": {
        "colab": {
          "base_uri": "https://localhost:8080/"
        },
        "id": "76fWA60s39Rh",
        "outputId": "1e73b807-33fa-45b1-d419-e7c31be72380"
      },
      "execution_count": 86,
      "outputs": [
        {
          "output_type": "execute_result",
          "data": {
            "text/plain": [
              "Female    2762\n",
              "Male      2238\n",
              "Name: Sex, dtype: int64"
            ]
          },
          "metadata": {},
          "execution_count": 86
        }
      ]
    },
    {
      "cell_type": "code",
      "source": [
        "data['Delay'].value_counts()"
      ],
      "metadata": {
        "colab": {
          "base_uri": "https://localhost:8080/"
        },
        "id": "98JHJXFc4LHo",
        "outputId": "079c09f9-3a79-4c65-fb37-010add87eafd"
      },
      "execution_count": 87,
      "outputs": [
        {
          "output_type": "execute_result",
          "data": {
            "text/plain": [
              "Yes    2571\n",
              "No     2429\n",
              "Name: Delay, dtype: int64"
            ]
          },
          "metadata": {},
          "execution_count": 87
        }
      ]
    },
    {
      "cell_type": "code",
      "source": [
        "data['Housing'].value_counts()"
      ],
      "metadata": {
        "colab": {
          "base_uri": "https://localhost:8080/"
        },
        "id": "mXoamwkR4Rgz",
        "outputId": "d9aa8861-ff1f-4f47-9827-75e7fe9d11c0"
      },
      "execution_count": 88,
      "outputs": [
        {
          "output_type": "execute_result",
          "data": {
            "text/plain": [
              "Stable      4674\n",
              "Unstable     326\n",
              "Name: Housing, dtype: int64"
            ]
          },
          "metadata": {},
          "execution_count": 88
        }
      ]
    },
    {
      "cell_type": "code",
      "source": [
        "data['Race'].value_counts()"
      ],
      "metadata": {
        "colab": {
          "base_uri": "https://localhost:8080/"
        },
        "id": "iZcijQlR4Y3H",
        "outputId": "fb9262d9-5bf3-4e80-da2e-64909dff8480"
      },
      "execution_count": 89,
      "outputs": [
        {
          "output_type": "execute_result",
          "data": {
            "text/plain": [
              "White       1838\n",
              "Black       1741\n",
              "Hispanic     715\n",
              "Asian        706\n",
              "Name: Race, dtype: int64"
            ]
          },
          "metadata": {},
          "execution_count": 89
        }
      ]
    },
    {
      "cell_type": "code",
      "source": [
        "data['Diagnosis'].value_counts()"
      ],
      "metadata": {
        "colab": {
          "base_uri": "https://localhost:8080/"
        },
        "id": "bK_9S4Ts4gfv",
        "outputId": "86d15aeb-4a07-46a3-fee3-08c9c51da8df"
      },
      "execution_count": 90,
      "outputs": [
        {
          "output_type": "execute_result",
          "data": {
            "text/plain": [
              "1    2529\n",
              "0    2471\n",
              "Name: Diagnosis, dtype: int64"
            ]
          },
          "metadata": {},
          "execution_count": 90
        }
      ]
    },
    {
      "cell_type": "markdown",
      "source": [
        "**The dataset is not imbalanced. **"
      ],
      "metadata": {
        "id": "D66clZ8s4mo_"
      }
    },
    {
      "cell_type": "code",
      "source": [
        "data.describe()"
      ],
      "metadata": {
        "colab": {
          "base_uri": "https://localhost:8080/",
          "height": 394
        },
        "id": "J3AZ2I7G23Ha",
        "outputId": "894b8a2b-a0f6-4e25-9e15-e9169a2e4bb2"
      },
      "execution_count": 91,
      "outputs": [
        {
          "output_type": "execute_result",
          "data": {
            "text/plain": [
              "         Diagnosis    Anhedonia       Apathy     Appetite  Concentration  \\\n",
              "count  5000.000000  5000.000000  5000.000000  5000.000000    5000.000000   \n",
              "mean      0.505800     6.502860     2.478849    27.070029       6.519924   \n",
              "std       0.500016     1.488151     1.730810    14.202618       1.474846   \n",
              "min       0.000000     1.098854    -3.211011     0.141074       1.299964   \n",
              "25%       0.000000     5.495361     1.265128    16.724108       5.528181   \n",
              "50%       1.000000     6.485527     2.427409    25.165292       6.498042   \n",
              "75%       1.000000     7.489218     3.642059    35.447666       7.519759   \n",
              "max       1.000000    11.603140     8.803433   113.438734      11.649649   \n",
              "\n",
              "           Content     Delusion     Dep_Mood        Focus  Hallucination  ...  \\\n",
              "count  5000.000000  5000.000000  5000.000000  5000.000000    5000.000000  ...   \n",
              "mean      0.279407     2.637389     5.727062     6.519924      65.073832  ...   \n",
              "std       0.834494     1.440347     3.284501     1.474846     223.943469  ...   \n",
              "min       0.000187    -2.127037     0.000000     1.299964       0.027350  ...   \n",
              "25%       0.018655     1.629919     4.678095     5.528181       4.113962  ...   \n",
              "50%       0.064259     2.558146     6.752196     6.498042      12.764604  ...   \n",
              "75%       0.215773     3.588012     8.045706     7.519759      41.814204  ...   \n",
              "max      21.001327     8.978785    12.003550    11.649649    6287.163151  ...   \n",
              "\n",
              "          Pregnant  Psychomotor   Rumination        Sleep       Stress  \\\n",
              "count  2762.000000  5000.000000  5000.000000  5000.000000  5000.000000   \n",
              "mean      0.101376     4.680583     5.685816     7.011266     4.916418   \n",
              "std       0.301880     1.482692     2.161891     1.410841     2.220262   \n",
              "min       0.000000    -0.024974    -0.409032     2.144726    -3.257788   \n",
              "25%       0.000000     3.697870     4.042552     6.058402     3.443683   \n",
              "50%       0.000000     4.720156     5.521805     6.980519     5.096416   \n",
              "75%       0.000000     5.682627     7.276673     7.977138     6.531673   \n",
              "max       1.000000    10.171540    12.009666    11.920312    11.970952   \n",
              "\n",
              "        Suspicious      Tension        Tired  Unusual_Thought   Withdrawal  \n",
              "count  2127.000000  5000.000000  5000.000000      5000.000000  5000.000000  \n",
              "mean      2.754909     4.920667          inf         2.480266     3.958121  \n",
              "std       1.496126     1.962342          NaN         1.410475     1.469444  \n",
              "min      -2.346238    -2.183456     0.366650        -1.981307    -0.825919  \n",
              "25%       1.703462     3.565482     4.491580         1.486439     2.969534  \n",
              "50%       2.735108     5.247353     5.513508         2.388994     3.962131  \n",
              "75%       3.725759     6.385145     6.569176         3.426667     4.972302  \n",
              "max       8.212275     9.622076          inf         8.066822     9.022207  \n",
              "\n",
              "[8 rows x 23 columns]"
            ],
            "text/html": [
              "\n",
              "  <div id=\"df-7b271195-8b8b-4bd2-8e0e-e4f31bab0de7\">\n",
              "    <div class=\"colab-df-container\">\n",
              "      <div>\n",
              "<style scoped>\n",
              "    .dataframe tbody tr th:only-of-type {\n",
              "        vertical-align: middle;\n",
              "    }\n",
              "\n",
              "    .dataframe tbody tr th {\n",
              "        vertical-align: top;\n",
              "    }\n",
              "\n",
              "    .dataframe thead th {\n",
              "        text-align: right;\n",
              "    }\n",
              "</style>\n",
              "<table border=\"1\" class=\"dataframe\">\n",
              "  <thead>\n",
              "    <tr style=\"text-align: right;\">\n",
              "      <th></th>\n",
              "      <th>Diagnosis</th>\n",
              "      <th>Anhedonia</th>\n",
              "      <th>Apathy</th>\n",
              "      <th>Appetite</th>\n",
              "      <th>Concentration</th>\n",
              "      <th>Content</th>\n",
              "      <th>Delusion</th>\n",
              "      <th>Dep_Mood</th>\n",
              "      <th>Focus</th>\n",
              "      <th>Hallucination</th>\n",
              "      <th>...</th>\n",
              "      <th>Pregnant</th>\n",
              "      <th>Psychomotor</th>\n",
              "      <th>Rumination</th>\n",
              "      <th>Sleep</th>\n",
              "      <th>Stress</th>\n",
              "      <th>Suspicious</th>\n",
              "      <th>Tension</th>\n",
              "      <th>Tired</th>\n",
              "      <th>Unusual_Thought</th>\n",
              "      <th>Withdrawal</th>\n",
              "    </tr>\n",
              "  </thead>\n",
              "  <tbody>\n",
              "    <tr>\n",
              "      <th>count</th>\n",
              "      <td>5000.000000</td>\n",
              "      <td>5000.000000</td>\n",
              "      <td>5000.000000</td>\n",
              "      <td>5000.000000</td>\n",
              "      <td>5000.000000</td>\n",
              "      <td>5000.000000</td>\n",
              "      <td>5000.000000</td>\n",
              "      <td>5000.000000</td>\n",
              "      <td>5000.000000</td>\n",
              "      <td>5000.000000</td>\n",
              "      <td>...</td>\n",
              "      <td>2762.000000</td>\n",
              "      <td>5000.000000</td>\n",
              "      <td>5000.000000</td>\n",
              "      <td>5000.000000</td>\n",
              "      <td>5000.000000</td>\n",
              "      <td>2127.000000</td>\n",
              "      <td>5000.000000</td>\n",
              "      <td>5000.000000</td>\n",
              "      <td>5000.000000</td>\n",
              "      <td>5000.000000</td>\n",
              "    </tr>\n",
              "    <tr>\n",
              "      <th>mean</th>\n",
              "      <td>0.505800</td>\n",
              "      <td>6.502860</td>\n",
              "      <td>2.478849</td>\n",
              "      <td>27.070029</td>\n",
              "      <td>6.519924</td>\n",
              "      <td>0.279407</td>\n",
              "      <td>2.637389</td>\n",
              "      <td>5.727062</td>\n",
              "      <td>6.519924</td>\n",
              "      <td>65.073832</td>\n",
              "      <td>...</td>\n",
              "      <td>0.101376</td>\n",
              "      <td>4.680583</td>\n",
              "      <td>5.685816</td>\n",
              "      <td>7.011266</td>\n",
              "      <td>4.916418</td>\n",
              "      <td>2.754909</td>\n",
              "      <td>4.920667</td>\n",
              "      <td>inf</td>\n",
              "      <td>2.480266</td>\n",
              "      <td>3.958121</td>\n",
              "    </tr>\n",
              "    <tr>\n",
              "      <th>std</th>\n",
              "      <td>0.500016</td>\n",
              "      <td>1.488151</td>\n",
              "      <td>1.730810</td>\n",
              "      <td>14.202618</td>\n",
              "      <td>1.474846</td>\n",
              "      <td>0.834494</td>\n",
              "      <td>1.440347</td>\n",
              "      <td>3.284501</td>\n",
              "      <td>1.474846</td>\n",
              "      <td>223.943469</td>\n",
              "      <td>...</td>\n",
              "      <td>0.301880</td>\n",
              "      <td>1.482692</td>\n",
              "      <td>2.161891</td>\n",
              "      <td>1.410841</td>\n",
              "      <td>2.220262</td>\n",
              "      <td>1.496126</td>\n",
              "      <td>1.962342</td>\n",
              "      <td>NaN</td>\n",
              "      <td>1.410475</td>\n",
              "      <td>1.469444</td>\n",
              "    </tr>\n",
              "    <tr>\n",
              "      <th>min</th>\n",
              "      <td>0.000000</td>\n",
              "      <td>1.098854</td>\n",
              "      <td>-3.211011</td>\n",
              "      <td>0.141074</td>\n",
              "      <td>1.299964</td>\n",
              "      <td>0.000187</td>\n",
              "      <td>-2.127037</td>\n",
              "      <td>0.000000</td>\n",
              "      <td>1.299964</td>\n",
              "      <td>0.027350</td>\n",
              "      <td>...</td>\n",
              "      <td>0.000000</td>\n",
              "      <td>-0.024974</td>\n",
              "      <td>-0.409032</td>\n",
              "      <td>2.144726</td>\n",
              "      <td>-3.257788</td>\n",
              "      <td>-2.346238</td>\n",
              "      <td>-2.183456</td>\n",
              "      <td>0.366650</td>\n",
              "      <td>-1.981307</td>\n",
              "      <td>-0.825919</td>\n",
              "    </tr>\n",
              "    <tr>\n",
              "      <th>25%</th>\n",
              "      <td>0.000000</td>\n",
              "      <td>5.495361</td>\n",
              "      <td>1.265128</td>\n",
              "      <td>16.724108</td>\n",
              "      <td>5.528181</td>\n",
              "      <td>0.018655</td>\n",
              "      <td>1.629919</td>\n",
              "      <td>4.678095</td>\n",
              "      <td>5.528181</td>\n",
              "      <td>4.113962</td>\n",
              "      <td>...</td>\n",
              "      <td>0.000000</td>\n",
              "      <td>3.697870</td>\n",
              "      <td>4.042552</td>\n",
              "      <td>6.058402</td>\n",
              "      <td>3.443683</td>\n",
              "      <td>1.703462</td>\n",
              "      <td>3.565482</td>\n",
              "      <td>4.491580</td>\n",
              "      <td>1.486439</td>\n",
              "      <td>2.969534</td>\n",
              "    </tr>\n",
              "    <tr>\n",
              "      <th>50%</th>\n",
              "      <td>1.000000</td>\n",
              "      <td>6.485527</td>\n",
              "      <td>2.427409</td>\n",
              "      <td>25.165292</td>\n",
              "      <td>6.498042</td>\n",
              "      <td>0.064259</td>\n",
              "      <td>2.558146</td>\n",
              "      <td>6.752196</td>\n",
              "      <td>6.498042</td>\n",
              "      <td>12.764604</td>\n",
              "      <td>...</td>\n",
              "      <td>0.000000</td>\n",
              "      <td>4.720156</td>\n",
              "      <td>5.521805</td>\n",
              "      <td>6.980519</td>\n",
              "      <td>5.096416</td>\n",
              "      <td>2.735108</td>\n",
              "      <td>5.247353</td>\n",
              "      <td>5.513508</td>\n",
              "      <td>2.388994</td>\n",
              "      <td>3.962131</td>\n",
              "    </tr>\n",
              "    <tr>\n",
              "      <th>75%</th>\n",
              "      <td>1.000000</td>\n",
              "      <td>7.489218</td>\n",
              "      <td>3.642059</td>\n",
              "      <td>35.447666</td>\n",
              "      <td>7.519759</td>\n",
              "      <td>0.215773</td>\n",
              "      <td>3.588012</td>\n",
              "      <td>8.045706</td>\n",
              "      <td>7.519759</td>\n",
              "      <td>41.814204</td>\n",
              "      <td>...</td>\n",
              "      <td>0.000000</td>\n",
              "      <td>5.682627</td>\n",
              "      <td>7.276673</td>\n",
              "      <td>7.977138</td>\n",
              "      <td>6.531673</td>\n",
              "      <td>3.725759</td>\n",
              "      <td>6.385145</td>\n",
              "      <td>6.569176</td>\n",
              "      <td>3.426667</td>\n",
              "      <td>4.972302</td>\n",
              "    </tr>\n",
              "    <tr>\n",
              "      <th>max</th>\n",
              "      <td>1.000000</td>\n",
              "      <td>11.603140</td>\n",
              "      <td>8.803433</td>\n",
              "      <td>113.438734</td>\n",
              "      <td>11.649649</td>\n",
              "      <td>21.001327</td>\n",
              "      <td>8.978785</td>\n",
              "      <td>12.003550</td>\n",
              "      <td>11.649649</td>\n",
              "      <td>6287.163151</td>\n",
              "      <td>...</td>\n",
              "      <td>1.000000</td>\n",
              "      <td>10.171540</td>\n",
              "      <td>12.009666</td>\n",
              "      <td>11.920312</td>\n",
              "      <td>11.970952</td>\n",
              "      <td>8.212275</td>\n",
              "      <td>9.622076</td>\n",
              "      <td>inf</td>\n",
              "      <td>8.066822</td>\n",
              "      <td>9.022207</td>\n",
              "    </tr>\n",
              "  </tbody>\n",
              "</table>\n",
              "<p>8 rows × 23 columns</p>\n",
              "</div>\n",
              "      <button class=\"colab-df-convert\" onclick=\"convertToInteractive('df-7b271195-8b8b-4bd2-8e0e-e4f31bab0de7')\"\n",
              "              title=\"Convert this dataframe to an interactive table.\"\n",
              "              style=\"display:none;\">\n",
              "        \n",
              "  <svg xmlns=\"http://www.w3.org/2000/svg\" height=\"24px\"viewBox=\"0 0 24 24\"\n",
              "       width=\"24px\">\n",
              "    <path d=\"M0 0h24v24H0V0z\" fill=\"none\"/>\n",
              "    <path d=\"M18.56 5.44l.94 2.06.94-2.06 2.06-.94-2.06-.94-.94-2.06-.94 2.06-2.06.94zm-11 1L8.5 8.5l.94-2.06 2.06-.94-2.06-.94L8.5 2.5l-.94 2.06-2.06.94zm10 10l.94 2.06.94-2.06 2.06-.94-2.06-.94-.94-2.06-.94 2.06-2.06.94z\"/><path d=\"M17.41 7.96l-1.37-1.37c-.4-.4-.92-.59-1.43-.59-.52 0-1.04.2-1.43.59L10.3 9.45l-7.72 7.72c-.78.78-.78 2.05 0 2.83L4 21.41c.39.39.9.59 1.41.59.51 0 1.02-.2 1.41-.59l7.78-7.78 2.81-2.81c.8-.78.8-2.07 0-2.86zM5.41 20L4 18.59l7.72-7.72 1.47 1.35L5.41 20z\"/>\n",
              "  </svg>\n",
              "      </button>\n",
              "      \n",
              "  <style>\n",
              "    .colab-df-container {\n",
              "      display:flex;\n",
              "      flex-wrap:wrap;\n",
              "      gap: 12px;\n",
              "    }\n",
              "\n",
              "    .colab-df-convert {\n",
              "      background-color: #E8F0FE;\n",
              "      border: none;\n",
              "      border-radius: 50%;\n",
              "      cursor: pointer;\n",
              "      display: none;\n",
              "      fill: #1967D2;\n",
              "      height: 32px;\n",
              "      padding: 0 0 0 0;\n",
              "      width: 32px;\n",
              "    }\n",
              "\n",
              "    .colab-df-convert:hover {\n",
              "      background-color: #E2EBFA;\n",
              "      box-shadow: 0px 1px 2px rgba(60, 64, 67, 0.3), 0px 1px 3px 1px rgba(60, 64, 67, 0.15);\n",
              "      fill: #174EA6;\n",
              "    }\n",
              "\n",
              "    [theme=dark] .colab-df-convert {\n",
              "      background-color: #3B4455;\n",
              "      fill: #D2E3FC;\n",
              "    }\n",
              "\n",
              "    [theme=dark] .colab-df-convert:hover {\n",
              "      background-color: #434B5C;\n",
              "      box-shadow: 0px 1px 3px 1px rgba(0, 0, 0, 0.15);\n",
              "      filter: drop-shadow(0px 1px 2px rgba(0, 0, 0, 0.3));\n",
              "      fill: #FFFFFF;\n",
              "    }\n",
              "  </style>\n",
              "\n",
              "      <script>\n",
              "        const buttonEl =\n",
              "          document.querySelector('#df-7b271195-8b8b-4bd2-8e0e-e4f31bab0de7 button.colab-df-convert');\n",
              "        buttonEl.style.display =\n",
              "          google.colab.kernel.accessAllowed ? 'block' : 'none';\n",
              "\n",
              "        async function convertToInteractive(key) {\n",
              "          const element = document.querySelector('#df-7b271195-8b8b-4bd2-8e0e-e4f31bab0de7');\n",
              "          const dataTable =\n",
              "            await google.colab.kernel.invokeFunction('convertToInteractive',\n",
              "                                                     [key], {});\n",
              "          if (!dataTable) return;\n",
              "\n",
              "          const docLinkHtml = 'Like what you see? Visit the ' +\n",
              "            '<a target=\"_blank\" href=https://colab.research.google.com/notebooks/data_table.ipynb>data table notebook</a>'\n",
              "            + ' to learn more about interactive tables.';\n",
              "          element.innerHTML = '';\n",
              "          dataTable['output_type'] = 'display_data';\n",
              "          await google.colab.output.renderOutput(dataTable, element);\n",
              "          const docLink = document.createElement('div');\n",
              "          docLink.innerHTML = docLinkHtml;\n",
              "          element.appendChild(docLink);\n",
              "        }\n",
              "      </script>\n",
              "    </div>\n",
              "  </div>\n",
              "  "
            ]
          },
          "metadata": {},
          "execution_count": 91
        }
      ]
    },
    {
      "cell_type": "code",
      "source": [
        "data['Participant'].value_counts()"
      ],
      "metadata": {
        "colab": {
          "base_uri": "https://localhost:8080/"
        },
        "id": "3m27DaZp4-WF",
        "outputId": "a27fb2d4-0087-4bfa-cfce-8734f282fd7a"
      },
      "execution_count": 92,
      "outputs": [
        {
          "output_type": "execute_result",
          "data": {
            "text/plain": [
              "1    5000\n",
              "Name: Participant, dtype: int64"
            ]
          },
          "metadata": {},
          "execution_count": 92
        }
      ]
    },
    {
      "cell_type": "code",
      "execution_count": 93,
      "metadata": {
        "id": "qkqrJioNx4x3",
        "outputId": "1a146a4b-f02c-42e0-c985-2ec86383a94e",
        "colab": {
          "base_uri": "https://localhost:8080/",
          "height": 822
        }
      },
      "outputs": [
        {
          "output_type": "display_data",
          "data": {
            "text/plain": [
              "<Figure size 1440x1080 with 25 Axes>"
            ],
            "image/png": "[encoded data removed]"
          },
          "metadata": {
            "needs_background": "light"
          }
        }
      ],
      "source": [
        "%matplotlib inline\n",
        "data.drop('Tired', axis=1, inplace=False).hist(bins=50, figsize=(20,15))\n",
        "plt.show()"
      ]
    },
    {
      "cell_type": "markdown",
      "source": [
        "**Conclusion**:\n",
        "- Variable 'Participant' is constant, has no predicting power, thus will be removed. \n",
        "- Variable 'Tired' has 'NaN' and 'inf' values.\n",
        "- Variables 'Intrusive_Thoughts' and 'Pregnant' have significant number of null values.\n",
        "- Variales 'Passive' and 'Hallucination' have big value ranges, significantly bigger than other variables, thus we need to standardize them. \n",
        "- Target variable 'Diagnosis' is not imbalanced."
      ],
      "metadata": {
        "id": "7TaW7rk_8LHO"
      }
    },
    {
      "cell_type": "markdown",
      "source": [
        "#Create Training and Test Datasets and Data Processing "
      ],
      "metadata": {
        "id": "6MP2_Nw5-mPB"
      }
    },
    {
      "cell_type": "code",
      "source": [
        "#split the training and testing datasets\n",
        "train_set, test_set = train_test_split(data, test_size=0.3, random_state=42)"
      ],
      "metadata": {
        "id": "8zeG5rPE_YfP"
      },
      "execution_count": 94,
      "outputs": []
    },
    {
      "cell_type": "code",
      "source": [
        "train_set.info()"
      ],
      "metadata": {
        "colab": {
          "base_uri": "https://localhost:8080/"
        },
        "id": "cqf10gHV_mze",
        "outputId": "cb921a3c-c6e3-4d1a-feef-d026ceb6886c"
      },
      "execution_count": 95,
      "outputs": [
        {
          "output_type": "stream",
          "name": "stdout",
          "text": [
            "<class 'pandas.core.frame.DataFrame'>\n",
            "Int64Index: 3500 entries, 1840 to 860\n",
            "Data columns (total 27 columns):\n",
            " #   Column              Non-Null Count  Dtype  \n",
            "---  ------              --------------  -----  \n",
            " 0   Diagnosis           3500 non-null   int64  \n",
            " 1   Anhedonia           3500 non-null   float64\n",
            " 2   Apathy              3500 non-null   float64\n",
            " 3   Appetite            3500 non-null   float64\n",
            " 4   Concentration       3500 non-null   float64\n",
            " 5   Content             3500 non-null   float64\n",
            " 6   Delay               3500 non-null   object \n",
            " 7   Delusion            3500 non-null   float64\n",
            " 8   Dep_Mood            3500 non-null   float64\n",
            " 9   Focus               3500 non-null   float64\n",
            " 10  Hallucination       3500 non-null   float64\n",
            " 11  Housing             3500 non-null   object \n",
            " 12  Intrusive_Thoughts  2928 non-null   float64\n",
            " 13  Participant         3500 non-null   int64  \n",
            " 14  Passive             3500 non-null   float64\n",
            " 15  Pregnant            1931 non-null   float64\n",
            " 16  Psychomotor         3500 non-null   float64\n",
            " 17  Race                3500 non-null   object \n",
            " 18  Rumination          3500 non-null   float64\n",
            " 19  Sex                 3500 non-null   object \n",
            " 20  Sleep               3500 non-null   float64\n",
            " 21  Stress              3500 non-null   float64\n",
            " 22  Suspicious          1491 non-null   float64\n",
            " 23  Tension             3500 non-null   float64\n",
            " 24  Tired               3500 non-null   float64\n",
            " 25  Unusual_Thought     3500 non-null   float64\n",
            " 26  Withdrawal          3500 non-null   float64\n",
            "dtypes: float64(21), int64(2), object(4)\n",
            "memory usage: 765.6+ KB\n"
          ]
        }
      ]
    },
    {
      "cell_type": "markdown",
      "source": [
        "Below is the function for data processing"
      ],
      "metadata": {
        "id": "TBRdf3599RKD"
      }
    },
    {
      "cell_type": "code",
      "source": [
        "num_var = [\n",
        " 'Anhedonia',\n",
        " 'Apathy',\n",
        " 'Appetite',\n",
        " 'Concentration',\n",
        " 'Content',\n",
        " 'Delusion',\n",
        " 'Dep_Mood',\n",
        " 'Focus',\n",
        " 'Hallucination',\n",
        " 'Intrusive_Thoughts',\n",
        " 'Passive',\n",
        " 'Psychomotor',\n",
        " 'Rumination',\n",
        " 'Sleep',\n",
        " 'Stress',\n",
        " 'Suspicious',\n",
        " 'Tension',\n",
        " 'Tired',\n",
        " 'Unusual_Thought',\n",
        " 'Withdrawal']\n",
        "\n",
        "categories = ['Sex','Race','Housing','Delay'] \n",
        "\n",
        "def data_remove(data):\n",
        "    data['Pregnant'].fillna(0, inplace=True)\n",
        "    data.fillna(data.mean(), inplace=True)\n",
        "    # clipper method for 'Tired' column. \n",
        "    data = data.replace([np.inf, -np.inf], np.nan)\n",
        "    data['Tired'] = data['Tired'].replace(np.nan, data['Tired'].max())\n",
        "    # Create a copy of the dataframe, and remove 'Participant'\n",
        "    data_standardized = data.drop('Participant', axis= 1).copy()\n",
        "    # Initialize the StandardScaler\n",
        "    scaler = StandardScaler()\n",
        "    # Fit and transform the selected columns\n",
        "    data_standardized[num_var] = scaler.fit_transform(data_standardized[num_var])\n",
        "    return data_standardized"
      ],
      "metadata": {
        "id": "2NU25vTX9N6q"
      },
      "execution_count": 102,
      "outputs": []
    },
    {
      "cell_type": "code",
      "source": [
        "train_processed = data_remove(train_set)\n"
      ],
      "metadata": {
        "id": "yjufgZC4Bbqi"
      },
      "execution_count": 103,
      "outputs": []
    },
    {
      "cell_type": "code",
      "source": [
        "train_processed.describe()"
      ],
      "metadata": {
        "colab": {
          "base_uri": "https://localhost:8080/",
          "height": 463
        },
        "id": "mDXp9lB8BqNw",
        "outputId": "7c130d4d-e4c1-4289-bf7f-58fa957323dc"
      },
      "execution_count": 104,
      "outputs": [
        {
          "output_type": "execute_result",
          "data": {
            "text/plain": [
              "         Diagnosis     Anhedonia        Apathy      Appetite  Concentration  \\\n",
              "count  3500.000000  3.500000e+03  3.500000e+03  3.500000e+03   3.500000e+03   \n",
              "mean      0.509143 -2.233134e-17 -1.319579e-16  2.740665e-17   3.958738e-16   \n",
              "std       0.499988  1.000143e+00  1.000143e+00  1.000143e+00   1.000143e+00   \n",
              "min       0.000000 -3.654868e+00 -3.314213e+00 -1.884883e+00  -3.373871e+00   \n",
              "25%       0.000000 -6.721595e-01 -6.984433e-01 -7.259440e-01  -6.753702e-01   \n",
              "50%       1.000000 -8.077150e-03 -3.295586e-02 -1.304131e-01  -5.487980e-03   \n",
              "75%       1.000000  6.597938e-01  6.851706e-01  5.770021e-01   6.802446e-01   \n",
              "max       1.000000  3.443855e+00  3.664224e+00  6.058780e+00   3.460949e+00   \n",
              "\n",
              "            Content      Delusion      Dep_Mood         Focus  Hallucination  \\\n",
              "count  3.500000e+03  3.500000e+03  3.500000e+03  3.500000e+03   3.500000e+03   \n",
              "mean   2.233134e-17 -1.725604e-16 -7.460699e-17  3.958738e-16   1.725604e-17   \n",
              "std    1.000143e+00  1.000143e+00  1.000143e+00  1.000143e+00   1.000143e+00   \n",
              "min   -3.279762e-01 -3.305412e+00 -1.714357e+00 -3.373871e+00  -2.926019e-01   \n",
              "25%   -3.059933e-01 -6.942597e-01 -3.311272e-01 -6.753702e-01  -2.745053e-01   \n",
              "50%   -2.524068e-01 -5.762460e-02  3.234149e-01 -5.487980e-03  -2.373150e-01   \n",
              "75%   -7.727791e-02  6.540532e-01  7.111871e-01  6.802446e-01  -1.017766e-01   \n",
              "max    2.460813e+01  4.394420e+00  1.833049e+00  3.460949e+00   2.724021e+01   \n",
              "\n",
              "       ...     Pregnant   Psychomotor    Rumination         Sleep  \\\n",
              "count  ...  3500.000000  3.500000e+03  3.500000e+03  3.500000e+03   \n",
              "mean   ...     0.057429 -3.994265e-16  2.537653e-16 -9.643080e-17   \n",
              "std    ...     0.232693  1.000143e+00  1.000143e+00  1.000143e+00   \n",
              "min    ...     0.000000 -3.196337e+00 -2.810780e+00 -3.398210e+00   \n",
              "25%    ...     0.000000 -6.435262e-01 -7.615094e-01 -6.793727e-01   \n",
              "50%    ...     0.000000  3.619940e-02 -6.798797e-02 -2.846128e-02   \n",
              "75%    ...     0.000000  6.688512e-01  7.352330e-01  6.850679e-01   \n",
              "max    ...     1.000000  3.712931e+00  2.928521e+00  3.503370e+00   \n",
              "\n",
              "             Stress    Suspicious       Tension         Tired  \\\n",
              "count  3.500000e+03  3.500000e+03  3.500000e+03  3.500000e+03   \n",
              "mean   2.294038e-16  1.756056e-16 -2.552879e-16  5.278317e-17   \n",
              "std    1.000143e+00  1.000143e+00  1.000143e+00  1.000143e+00   \n",
              "min   -3.691577e+00 -5.232394e+00 -3.652975e+00 -3.178789e+00   \n",
              "25%   -6.568420e-01  0.000000e+00 -6.836694e-01 -6.771948e-01   \n",
              "50%    7.416802e-02  0.000000e+00  1.541857e-01 -5.153212e-02   \n",
              "75%    7.333228e-01  0.000000e+00  7.477167e-01  5.791632e-01   \n",
              "max    3.186551e+00  5.642975e+00  2.415287e+00  3.561616e+00   \n",
              "\n",
              "       Unusual_Thought    Withdrawal  \n",
              "count     3.500000e+03  3.500000e+03  \n",
              "mean      4.618528e-16 -1.481989e-16  \n",
              "std       1.000143e+00  1.000143e+00  \n",
              "min      -3.190353e+00 -3.049202e+00  \n",
              "25%      -7.025235e-01 -6.940240e-01  \n",
              "50%      -7.253756e-02  9.159707e-03  \n",
              "75%       6.664495e-01  6.874679e-01  \n",
              "max       3.975659e+00  3.466733e+00  \n",
              "\n",
              "[8 rows x 22 columns]"
            ],
            "text/html": [
              "\n",
              "  <div id=\"df-944537f5-529d-4e56-ba51-d3c58166bb46\">\n",
              "    <div class=\"colab-df-container\">\n",
              "      <div>\n",
              "<style scoped>\n",
              "    .dataframe tbody tr th:only-of-type {\n",
              "        vertical-align: middle;\n",
              "    }\n",
              "\n",
              "    .dataframe tbody tr th {\n",
              "        vertical-align: top;\n",
              "    }\n",
              "\n",
              "    .dataframe thead th {\n",
              "        text-align: right;\n",
              "    }\n",
              "</style>\n",
              "<table border=\"1\" class=\"dataframe\">\n",
              "  <thead>\n",
              "    <tr style=\"text-align: right;\">\n",
              "      <th></th>\n",
              "      <th>Diagnosis</th>\n",
              "      <th>Anhedonia</th>\n",
              "      <th>Apathy</th>\n",
              "      <th>Appetite</th>\n",
              "      <th>Concentration</th>\n",
              "      <th>Content</th>\n",
              "      <th>Delusion</th>\n",
              "      <th>Dep_Mood</th>\n",
              "      <th>Focus</th>\n",
              "      <th>Hallucination</th>\n",
              "      <th>...</th>\n",
              "      <th>Pregnant</th>\n",
              "      <th>Psychomotor</th>\n",
              "      <th>Rumination</th>\n",
              "      <th>Sleep</th>\n",
              "      <th>Stress</th>\n",
              "      <th>Suspicious</th>\n",
              "      <th>Tension</th>\n",
              "      <th>Tired</th>\n",
              "      <th>Unusual_Thought</th>\n",
              "      <th>Withdrawal</th>\n",
              "    </tr>\n",
              "  </thead>\n",
              "  <tbody>\n",
              "    <tr>\n",
              "      <th>count</th>\n",
              "      <td>3500.000000</td>\n",
              "      <td>3.500000e+03</td>\n",
              "      <td>3.500000e+03</td>\n",
              "      <td>3.500000e+03</td>\n",
              "      <td>3.500000e+03</td>\n",
              "      <td>3.500000e+03</td>\n",
              "      <td>3.500000e+03</td>\n",
              "      <td>3.500000e+03</td>\n",
              "      <td>3.500000e+03</td>\n",
              "      <td>3.500000e+03</td>\n",
              "      <td>...</td>\n",
              "      <td>3500.000000</td>\n",
              "      <td>3.500000e+03</td>\n",
              "      <td>3.500000e+03</td>\n",
              "      <td>3.500000e+03</td>\n",
              "      <td>3.500000e+03</td>\n",
              "      <td>3.500000e+03</td>\n",
              "      <td>3.500000e+03</td>\n",
              "      <td>3.500000e+03</td>\n",
              "      <td>3.500000e+03</td>\n",
              "      <td>3.500000e+03</td>\n",
              "    </tr>\n",
              "    <tr>\n",
              "      <th>mean</th>\n",
              "      <td>0.509143</td>\n",
              "      <td>-2.233134e-17</td>\n",
              "      <td>-1.319579e-16</td>\n",
              "      <td>2.740665e-17</td>\n",
              "      <td>3.958738e-16</td>\n",
              "      <td>2.233134e-17</td>\n",
              "      <td>-1.725604e-16</td>\n",
              "      <td>-7.460699e-17</td>\n",
              "      <td>3.958738e-16</td>\n",
              "      <td>1.725604e-17</td>\n",
              "      <td>...</td>\n",
              "      <td>0.057429</td>\n",
              "      <td>-3.994265e-16</td>\n",
              "      <td>2.537653e-16</td>\n",
              "      <td>-9.643080e-17</td>\n",
              "      <td>2.294038e-16</td>\n",
              "      <td>1.756056e-16</td>\n",
              "      <td>-2.552879e-16</td>\n",
              "      <td>5.278317e-17</td>\n",
              "      <td>4.618528e-16</td>\n",
              "      <td>-1.481989e-16</td>\n",
              "    </tr>\n",
              "    <tr>\n",
              "      <th>std</th>\n",
              "      <td>0.499988</td>\n",
              "      <td>1.000143e+00</td>\n",
              "      <td>1.000143e+00</td>\n",
              "      <td>1.000143e+00</td>\n",
              "      <td>1.000143e+00</td>\n",
              "      <td>1.000143e+00</td>\n",
              "      <td>1.000143e+00</td>\n",
              "      <td>1.000143e+00</td>\n",
              "      <td>1.000143e+00</td>\n",
              "      <td>1.000143e+00</td>\n",
              "      <td>...</td>\n",
              "      <td>0.232693</td>\n",
              "      <td>1.000143e+00</td>\n",
              "      <td>1.000143e+00</td>\n",
              "      <td>1.000143e+00</td>\n",
              "      <td>1.000143e+00</td>\n",
              "      <td>1.000143e+00</td>\n",
              "      <td>1.000143e+00</td>\n",
              "      <td>1.000143e+00</td>\n",
              "      <td>1.000143e+00</td>\n",
              "      <td>1.000143e+00</td>\n",
              "    </tr>\n",
              "    <tr>\n",
              "      <th>min</th>\n",
              "      <td>0.000000</td>\n",
              "      <td>-3.654868e+00</td>\n",
              "      <td>-3.314213e+00</td>\n",
              "      <td>-1.884883e+00</td>\n",
              "      <td>-3.373871e+00</td>\n",
              "      <td>-3.279762e-01</td>\n",
              "      <td>-3.305412e+00</td>\n",
              "      <td>-1.714357e+00</td>\n",
              "      <td>-3.373871e+00</td>\n",
              "      <td>-2.926019e-01</td>\n",
              "      <td>...</td>\n",
              "      <td>0.000000</td>\n",
              "      <td>-3.196337e+00</td>\n",
              "      <td>-2.810780e+00</td>\n",
              "      <td>-3.398210e+00</td>\n",
              "      <td>-3.691577e+00</td>\n",
              "      <td>-5.232394e+00</td>\n",
              "      <td>-3.652975e+00</td>\n",
              "      <td>-3.178789e+00</td>\n",
              "      <td>-3.190353e+00</td>\n",
              "      <td>-3.049202e+00</td>\n",
              "    </tr>\n",
              "    <tr>\n",
              "      <th>25%</th>\n",
              "      <td>0.000000</td>\n",
              "      <td>-6.721595e-01</td>\n",
              "      <td>-6.984433e-01</td>\n",
              "      <td>-7.259440e-01</td>\n",
              "      <td>-6.753702e-01</td>\n",
              "      <td>-3.059933e-01</td>\n",
              "      <td>-6.942597e-01</td>\n",
              "      <td>-3.311272e-01</td>\n",
              "      <td>-6.753702e-01</td>\n",
              "      <td>-2.745053e-01</td>\n",
              "      <td>...</td>\n",
              "      <td>0.000000</td>\n",
              "      <td>-6.435262e-01</td>\n",
              "      <td>-7.615094e-01</td>\n",
              "      <td>-6.793727e-01</td>\n",
              "      <td>-6.568420e-01</td>\n",
              "      <td>0.000000e+00</td>\n",
              "      <td>-6.836694e-01</td>\n",
              "      <td>-6.771948e-01</td>\n",
              "      <td>-7.025235e-01</td>\n",
              "      <td>-6.940240e-01</td>\n",
              "    </tr>\n",
              "    <tr>\n",
              "      <th>50%</th>\n",
              "      <td>1.000000</td>\n",
              "      <td>-8.077150e-03</td>\n",
              "      <td>-3.295586e-02</td>\n",
              "      <td>-1.304131e-01</td>\n",
              "      <td>-5.487980e-03</td>\n",
              "      <td>-2.524068e-01</td>\n",
              "      <td>-5.762460e-02</td>\n",
              "      <td>3.234149e-01</td>\n",
              "      <td>-5.487980e-03</td>\n",
              "      <td>-2.373150e-01</td>\n",
              "      <td>...</td>\n",
              "      <td>0.000000</td>\n",
              "      <td>3.619940e-02</td>\n",
              "      <td>-6.798797e-02</td>\n",
              "      <td>-2.846128e-02</td>\n",
              "      <td>7.416802e-02</td>\n",
              "      <td>0.000000e+00</td>\n",
              "      <td>1.541857e-01</td>\n",
              "      <td>-5.153212e-02</td>\n",
              "      <td>-7.253756e-02</td>\n",
              "      <td>9.159707e-03</td>\n",
              "    </tr>\n",
              "    <tr>\n",
              "      <th>75%</th>\n",
              "      <td>1.000000</td>\n",
              "      <td>6.597938e-01</td>\n",
              "      <td>6.851706e-01</td>\n",
              "      <td>5.770021e-01</td>\n",
              "      <td>6.802446e-01</td>\n",
              "      <td>-7.727791e-02</td>\n",
              "      <td>6.540532e-01</td>\n",
              "      <td>7.111871e-01</td>\n",
              "      <td>6.802446e-01</td>\n",
              "      <td>-1.017766e-01</td>\n",
              "      <td>...</td>\n",
              "      <td>0.000000</td>\n",
              "      <td>6.688512e-01</td>\n",
              "      <td>7.352330e-01</td>\n",
              "      <td>6.850679e-01</td>\n",
              "      <td>7.333228e-01</td>\n",
              "      <td>0.000000e+00</td>\n",
              "      <td>7.477167e-01</td>\n",
              "      <td>5.791632e-01</td>\n",
              "      <td>6.664495e-01</td>\n",
              "      <td>6.874679e-01</td>\n",
              "    </tr>\n",
              "    <tr>\n",
              "      <th>max</th>\n",
              "      <td>1.000000</td>\n",
              "      <td>3.443855e+00</td>\n",
              "      <td>3.664224e+00</td>\n",
              "      <td>6.058780e+00</td>\n",
              "      <td>3.460949e+00</td>\n",
              "      <td>2.460813e+01</td>\n",
              "      <td>4.394420e+00</td>\n",
              "      <td>1.833049e+00</td>\n",
              "      <td>3.460949e+00</td>\n",
              "      <td>2.724021e+01</td>\n",
              "      <td>...</td>\n",
              "      <td>1.000000</td>\n",
              "      <td>3.712931e+00</td>\n",
              "      <td>2.928521e+00</td>\n",
              "      <td>3.503370e+00</td>\n",
              "      <td>3.186551e+00</td>\n",
              "      <td>5.642975e+00</td>\n",
              "      <td>2.415287e+00</td>\n",
              "      <td>3.561616e+00</td>\n",
              "      <td>3.975659e+00</td>\n",
              "      <td>3.466733e+00</td>\n",
              "    </tr>\n",
              "  </tbody>\n",
              "</table>\n",
              "<p>8 rows × 22 columns</p>\n",
              "</div>\n",
              "      <button class=\"colab-df-convert\" onclick=\"convertToInteractive('df-944537f5-529d-4e56-ba51-d3c58166bb46')\"\n",
              "              title=\"Convert this dataframe to an interactive table.\"\n",
              "              style=\"display:none;\">\n",
              "        \n",
              "  <svg xmlns=\"http://www.w3.org/2000/svg\" height=\"24px\"viewBox=\"0 0 24 24\"\n",
              "       width=\"24px\">\n",
              "    <path d=\"M0 0h24v24H0V0z\" fill=\"none\"/>\n",
              "    <path d=\"M18.56 5.44l.94 2.06.94-2.06 2.06-.94-2.06-.94-.94-2.06-.94 2.06-2.06.94zm-11 1L8.5 8.5l.94-2.06 2.06-.94-2.06-.94L8.5 2.5l-.94 2.06-2.06.94zm10 10l.94 2.06.94-2.06 2.06-.94-2.06-.94-.94-2.06-.94 2.06-2.06.94z\"/><path d=\"M17.41 7.96l-1.37-1.37c-.4-.4-.92-.59-1.43-.59-.52 0-1.04.2-1.43.59L10.3 9.45l-7.72 7.72c-.78.78-.78 2.05 0 2.83L4 21.41c.39.39.9.59 1.41.59.51 0 1.02-.2 1.41-.59l7.78-7.78 2.81-2.81c.8-.78.8-2.07 0-2.86zM5.41 20L4 18.59l7.72-7.72 1.47 1.35L5.41 20z\"/>\n",
              "  </svg>\n",
              "      </button>\n",
              "      \n",
              "  <style>\n",
              "    .colab-df-container {\n",
              "      display:flex;\n",
              "      flex-wrap:wrap;\n",
              "      gap: 12px;\n",
              "    }\n",
              "\n",
              "    .colab-df-convert {\n",
              "      background-color: #E8F0FE;\n",
              "      border: none;\n",
              "      border-radius: 50%;\n",
              "      cursor: pointer;\n",
              "      display: none;\n",
              "      fill: #1967D2;\n",
              "      height: 32px;\n",
              "      padding: 0 0 0 0;\n",
              "      width: 32px;\n",
              "    }\n",
              "\n",
              "    .colab-df-convert:hover {\n",
              "      background-color: #E2EBFA;\n",
              "      box-shadow: 0px 1px 2px rgba(60, 64, 67, 0.3), 0px 1px 3px 1px rgba(60, 64, 67, 0.15);\n",
              "      fill: #174EA6;\n",
              "    }\n",
              "\n",
              "    [theme=dark] .colab-df-convert {\n",
              "      background-color: #3B4455;\n",
              "      fill: #D2E3FC;\n",
              "    }\n",
              "\n",
              "    [theme=dark] .colab-df-convert:hover {\n",
              "      background-color: #434B5C;\n",
              "      box-shadow: 0px 1px 3px 1px rgba(0, 0, 0, 0.15);\n",
              "      filter: drop-shadow(0px 1px 2px rgba(0, 0, 0, 0.3));\n",
              "      fill: #FFFFFF;\n",
              "    }\n",
              "  </style>\n",
              "\n",
              "      <script>\n",
              "        const buttonEl =\n",
              "          document.querySelector('#df-944537f5-529d-4e56-ba51-d3c58166bb46 button.colab-df-convert');\n",
              "        buttonEl.style.display =\n",
              "          google.colab.kernel.accessAllowed ? 'block' : 'none';\n",
              "\n",
              "        async function convertToInteractive(key) {\n",
              "          const element = document.querySelector('#df-944537f5-529d-4e56-ba51-d3c58166bb46');\n",
              "          const dataTable =\n",
              "            await google.colab.kernel.invokeFunction('convertToInteractive',\n",
              "                                                     [key], {});\n",
              "          if (!dataTable) return;\n",
              "\n",
              "          const docLinkHtml = 'Like what you see? Visit the ' +\n",
              "            '<a target=\"_blank\" href=https://colab.research.google.com/notebooks/data_table.ipynb>data table notebook</a>'\n",
              "            + ' to learn more about interactive tables.';\n",
              "          element.innerHTML = '';\n",
              "          dataTable['output_type'] = 'display_data';\n",
              "          await google.colab.output.renderOutput(dataTable, element);\n",
              "          const docLink = document.createElement('div');\n",
              "          docLink.innerHTML = docLinkHtml;\n",
              "          element.appendChild(docLink);\n",
              "        }\n",
              "      </script>\n",
              "    </div>\n",
              "  </div>\n",
              "  "
            ]
          },
          "metadata": {},
          "execution_count": 104
        }
      ]
    },
    {
      "cell_type": "markdown",
      "source": [
        "#Feature Engineering"
      ],
      "metadata": {
        "id": "d9l5C64DDspY"
      }
    },
    {
      "cell_type": "markdown",
      "source": [
        "Encode the categorical variables"
      ],
      "metadata": {
        "id": "p2glnU04QxKl"
      }
    },
    {
      "cell_type": "code",
      "source": [
        "train_encoded = pd.get_dummies(train_processed, columns = categories)"
      ],
      "metadata": {
        "id": "zsl6VfBwNE2o"
      },
      "execution_count": 120,
      "outputs": []
    },
    {
      "cell_type": "code",
      "source": [
        "train_encoded.drop('Diagnosis', axis = 1).info()"
      ],
      "metadata": {
        "colab": {
          "base_uri": "https://localhost:8080/"
        },
        "id": "Jgd0elRuRf6l",
        "outputId": "47389699-1a4c-4932-8769-19a56d5b6042"
      },
      "execution_count": 123,
      "outputs": [
        {
          "output_type": "stream",
          "name": "stdout",
          "text": [
            "<class 'pandas.core.frame.DataFrame'>\n",
            "Int64Index: 3500 entries, 1840 to 860\n",
            "Data columns (total 31 columns):\n",
            " #   Column              Non-Null Count  Dtype  \n",
            "---  ------              --------------  -----  \n",
            " 0   Anhedonia           3500 non-null   float64\n",
            " 1   Apathy              3500 non-null   float64\n",
            " 2   Appetite            3500 non-null   float64\n",
            " 3   Concentration       3500 non-null   float64\n",
            " 4   Content             3500 non-null   float64\n",
            " 5   Delusion            3500 non-null   float64\n",
            " 6   Dep_Mood            3500 non-null   float64\n",
            " 7   Focus               3500 non-null   float64\n",
            " 8   Hallucination       3500 non-null   float64\n",
            " 9   Intrusive_Thoughts  3500 non-null   float64\n",
            " 10  Passive             3500 non-null   float64\n",
            " 11  Pregnant            3500 non-null   float64\n",
            " 12  Psychomotor         3500 non-null   float64\n",
            " 13  Rumination          3500 non-null   float64\n",
            " 14  Sleep               3500 non-null   float64\n",
            " 15  Stress              3500 non-null   float64\n",
            " 16  Suspicious          3500 non-null   float64\n",
            " 17  Tension             3500 non-null   float64\n",
            " 18  Tired               3500 non-null   float64\n",
            " 19  Unusual_Thought     3500 non-null   float64\n",
            " 20  Withdrawal          3500 non-null   float64\n",
            " 21  Sex_Female          3500 non-null   uint8  \n",
            " 22  Sex_Male            3500 non-null   uint8  \n",
            " 23  Race_Asian          3500 non-null   uint8  \n",
            " 24  Race_Black          3500 non-null   uint8  \n",
            " 25  Race_Hispanic       3500 non-null   uint8  \n",
            " 26  Race_White          3500 non-null   uint8  \n",
            " 27  Housing_Stable      3500 non-null   uint8  \n",
            " 28  Housing_Unstable    3500 non-null   uint8  \n",
            " 29  Delay_No            3500 non-null   uint8  \n",
            " 30  Delay_Yes           3500 non-null   uint8  \n",
            "dtypes: float64(21), uint8(10)\n",
            "memory usage: 635.7 KB\n"
          ]
        }
      ]
    },
    {
      "cell_type": "markdown",
      "source": [
        "Univariave feature selection using mutual_info_classif"
      ],
      "metadata": {
        "id": "EYb1xYuPQ2Y4"
      }
    },
    {
      "cell_type": "code",
      "source": [
        "from sklearn.feature_selection import mutual_info_classif\n",
        "threshold = 30  # the number of most relevant features\n",
        "high_score_features = []\n",
        "feature_scores = mutual_info_classif(train_encoded.drop('Diagnosis', axis =1), train_encoded['Diagnosis'], random_state=42)\n",
        "for score, f_name in sorted(zip(feature_scores, train_encoded.drop('Diagnosis', axis =1).columns), reverse=True)[:threshold]:\n",
        "        print(f_name, score)\n",
        "        high_score_features.append(f_name)\n",
        "train_encoded_mic = train_encoded.drop('Diagnosis', axis =1)[high_score_features]\n",
        "#print(train_encoded_mic.columns)"
      ],
      "metadata": {
        "colab": {
          "base_uri": "https://localhost:8080/"
        },
        "id": "2lljpo2FYJKz",
        "outputId": "f758ce32-ceef-4123-8a99-708ef41f703d"
      },
      "execution_count": 151,
      "outputs": [
        {
          "output_type": "stream",
          "name": "stdout",
          "text": [
            "Rumination 0.2202406089996165\n",
            "Tension 0.17450665158009748\n",
            "Intrusive_Thoughts 0.15508192490716688\n",
            "Stress 0.15413108795730746\n",
            "Delusion 0.09562425233677407\n",
            "Unusual_Thought 0.08360311772467077\n",
            "Tired 0.06594352664749392\n",
            "Content 0.06298614018805004\n",
            "Hallucination 0.06098762988606343\n",
            "Focus 0.05695708496251517\n",
            "Concentration 0.05695708496251517\n",
            "Anhedonia 0.055474482414566983\n",
            "Apathy 0.04715804172389437\n",
            "Sex_Male 0.036033881421929426\n",
            "Dep_Mood 0.02880927294439206\n",
            "Sex_Female 0.023318300519074908\n",
            "Psychomotor 0.020520962124726427\n",
            "Housing_Stable 0.017950366228102865\n",
            "Withdrawal 0.016876142099514935\n",
            "Suspicious 0.01642045991623564\n",
            "Delay_Yes 0.010842834510005783\n",
            "Sleep 0.007370002048595392\n",
            "Pregnant 0.006106436075033805\n",
            "Delay_No 0.005932263056543707\n",
            "Race_Black 0.005580595547434841\n",
            "Race_Asian 0.005533055374879359\n",
            "Housing_Unstable 0.004683920726335611\n",
            "Appetite 0.000500637811672533\n",
            "Race_White 0.0\n",
            "Race_Hispanic 0.0\n"
          ]
        }
      ]
    },
    {
      "cell_type": "markdown",
      "source": [
        "Chi-squared test for independent test. When p value >0.05, fail to reject the null that the two variables are independent. In our case, we remove the features with p value > 0.05. "
      ],
      "metadata": {
        "id": "kHcsmlpUeaa_"
      }
    },
    {
      "cell_type": "code",
      "source": [
        "from sklearn.feature_selection import SelectKBest\n",
        "from sklearn.feature_selection import chi2\n",
        "#threshold = 30  # the number of most relevant features\n",
        "skb = SelectKBest(score_func=chi2, k=threshold)\n",
        "sel_skb = skb.fit(train_encoded.drop('Diagnosis', axis =1)+10, train_encoded['Diagnosis'])\n",
        "sel_skb_index = sel_skb.get_support()\n",
        "train_encoded_skb = train_encoded.drop('Diagnosis', axis =1).iloc[:, sel_skb_index]\n",
        "removed_feature = []\n",
        "for (col, pvalue) in zip(train_encoded_skb.columns,sel_skb.pvalues_):\n",
        "  if pvalue>0.05:\n",
        "    print('remove variable ', col, '| with Pvalue', pvalue)\n",
        "    removed_feature.append(col)"
      ],
      "metadata": {
        "colab": {
          "base_uri": "https://localhost:8080/"
        },
        "id": "3TQVZ2rcZ2uj",
        "outputId": "d8d19bdc-18fa-437a-9fa6-5f764ec9f105"
      },
      "execution_count": 157,
      "outputs": [
        {
          "output_type": "stream",
          "name": "stdout",
          "text": [
            "remove variable  Concentration | with Pvalue 0.8775609149886208\n",
            "remove variable  Focus | with Pvalue 0.12087770338665184\n",
            "remove variable  Pregnant | with Pvalue 0.631576837061036\n",
            "remove variable  Psychomotor | with Pvalue 0.8617182901824069\n",
            "remove variable  Stress | with Pvalue 0.5827389383240646\n",
            "remove variable  Sex_Male | with Pvalue 0.055255796125826206\n",
            "remove variable  Race_Asian | with Pvalue 0.05406397755400666\n",
            "remove variable  Race_Black | with Pvalue 0.6059615710808992\n",
            "remove variable  Race_Hispanic | with Pvalue 0.13240903106391186\n",
            "remove variable  Race_White | with Pvalue 0.7578056166909481\n",
            "remove variable  Housing_Stable | with Pvalue 0.4919154341015347\n",
            "remove variable  Housing_Unstable | with Pvalue 0.5400056748968054\n",
            "remove variable  Delay_No | with Pvalue 0.5229748339112372\n",
            "remove variable  Delay_Yes | with Pvalue 0.11806216554090353\n"
          ]
        }
      ]
    },
    {
      "cell_type": "code",
      "source": [
        "removed_feature\n"
      ],
      "metadata": {
        "colab": {
          "base_uri": "https://localhost:8080/"
        },
        "id": "Dz3Hlqbtf4ie",
        "outputId": "e3cb1290-b549-475a-dff8-faf384d45cb4"
      },
      "execution_count": 158,
      "outputs": [
        {
          "output_type": "execute_result",
          "data": {
            "text/plain": [
              "['Concentration',\n",
              " 'Focus',\n",
              " 'Pregnant',\n",
              " 'Psychomotor',\n",
              " 'Stress',\n",
              " 'Sex_Male',\n",
              " 'Race_Asian',\n",
              " 'Race_Black',\n",
              " 'Race_Hispanic',\n",
              " 'Race_White',\n",
              " 'Housing_Stable',\n",
              " 'Housing_Unstable',\n",
              " 'Delay_No',\n",
              " 'Delay_Yes']"
            ]
          },
          "metadata": {},
          "execution_count": 158
        }
      ]
    },
    {
      "cell_type": "markdown",
      "source": [
        "Combine both method, we remove features in removed_feature ."
      ],
      "metadata": {
        "id": "0h3vW1Nue5hG"
      }
    },
    {
      "cell_type": "markdown",
      "source": [
        "##Classification "
      ],
      "metadata": {
        "id": "920K6DvZhPi5"
      }
    },
    {
      "cell_type": "markdown",
      "source": [
        "Process test dataset"
      ],
      "metadata": {
        "id": "khcasFEfhZjX"
      }
    },
    {
      "cell_type": "code",
      "source": [
        "test_processed = data_remove(test_set)\n",
        "test_encoded = pd.get_dummies(test_processed, columns = categories)\n",
        "X_test = test_encoded.drop('Diagnosis', axis= 1).drop(removed_feature, axis=1)\n",
        "y_test = test_encoded['Diagnosis']\n",
        "X_train = train_encoded.drop('Diagnosis', axis= 1).drop(removed_feature, axis=1)\n",
        "y_train = train_encoded['Diagnosis']"
      ],
      "metadata": {
        "id": "Wt0WofIjgfSv"
      },
      "execution_count": 160,
      "outputs": []
    },
    {
      "cell_type": "markdown",
      "source": [
        "Light GBM model"
      ],
      "metadata": {
        "id": "otGJ7nFyheb3"
      }
    },
    {
      "cell_type": "code",
      "source": [
        "# Define the LightGBM model\n",
        "model = lgb.LGBMClassifier()\n",
        "\n",
        "# Train the model\n",
        "model.fit(X_train, y_train)\n",
        "\n",
        "# Get the predicted probabilities for the test set\n",
        "y_probs = model.predict_proba(X_test)[:, 1]\n",
        "\n",
        "# Create an array of threshold values\n",
        "thresholds = np.arange(0, 1.01, 0.01)\n",
        "\n",
        "# Initialize an empty list to store the AUC scores\n",
        "scores = []\n",
        "\n",
        "# Iterate over the threshold values\n",
        "for t in thresholds:\n",
        "    # Convert the predicted probabilities to class labels using the current threshold\n",
        "    y_pred = (y_probs > t).astype(int)\n",
        "    # Calculate the AUC score for the current threshold\n",
        "    score = roc_auc_score(y_test, y_pred)\n",
        "    # Append the score to the list\n",
        "    scores.append(score)\n",
        "\n",
        "# Find the threshold that corresponds to the highest AUC score\n",
        "best_threshold = thresholds[np.argmax(scores)]\n",
        "#print(f'The optimal threshold is {best_threshold:.2f}')\n",
        "\n",
        "train_data = lgb.Dataset(X_train, label=y_train)\n",
        "params = {'objective': 'binary', 'metric': 'binary_logloss'}\n",
        "LGB_model = lgb.train(params, train_data)\n",
        "# Predict on the test data\n",
        "LGB_test_predictions = LGB_model.predict(X_test)\n",
        "\n",
        "# Convert the predicted probabilities to binary labels\n",
        "LGB_test_predictions = (LGB_test_predictions > best_threshold).astype(int)\n",
        "\n",
        "print('LGB test accuracy:', skm.accuracy_score(y_test, LGB_test_predictions))\n",
        "lgb.plot_importance(LGB_model)"
      ],
      "metadata": {
        "colab": {
          "base_uri": "https://localhost:8080/",
          "height": 331
        },
        "id": "aWkhO9yff905",
        "outputId": "f16e1335-56c1-4103-d97f-aff4945f4f04"
      },
      "execution_count": 171,
      "outputs": [
        {
          "output_type": "stream",
          "name": "stdout",
          "text": [
            "LGB test accuracy: 0.9433333333333334\n"
          ]
        },
        {
          "output_type": "execute_result",
          "data": {
            "text/plain": [
              "<matplotlib.axes._subplots.AxesSubplot at 0x7effb64d1850>"
            ]
          },
          "metadata": {},
          "execution_count": 171
        },
        {
          "output_type": "display_data",
          "data": {
            "text/plain": [
              "<Figure size 432x288 with 1 Axes>"
            ],
            "image/png": "[encoded data removed]"
          },
          "metadata": {
            "needs_background": "light"
          }
        }
      ]
    },
    {
      "cell_type": "code",
      "source": [
        "# Compute confusion matrix\n",
        "cm = confusion_matrix(y_test, LGB_test_predictions)\n",
        "\n",
        "# Plot confusion matrix using seaborn heatmap\n",
        "sns.heatmap(cm, annot=True, fmt='d')\n",
        "plt.xlabel('Predicted label')\n",
        "plt.ylabel('True label')\n",
        "plt.show()"
      ],
      "metadata": {
        "colab": {
          "base_uri": "https://localhost:8080/",
          "height": 281
        },
        "id": "0ewi1d2Uf3OP",
        "outputId": "319e01fe-3e47-4f28-e9d7-9288adc739bf"
      },
      "execution_count": 172,
      "outputs": [
        {
          "output_type": "display_data",
          "data": {
            "text/plain": [
              "<Figure size 432x288 with 2 Axes>"
            ],
            "image/png": "[encoded data removed]"
          },
          "metadata": {
            "needs_background": "light"
          }
        }
      ]
    }
  ]
}